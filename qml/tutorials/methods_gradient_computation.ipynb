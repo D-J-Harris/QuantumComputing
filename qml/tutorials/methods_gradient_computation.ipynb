{
 "cells": [
  {
   "cell_type": "markdown",
   "id": "photographic-darwin",
   "metadata": {},
   "source": [
    "### https://pennylane.ai/qml/demos/tutorial_backprop.html"
   ]
  },
  {
   "cell_type": "markdown",
   "id": "invalid-answer",
   "metadata": {},
   "source": [
    "### parameter shift"
   ]
  },
  {
   "cell_type": "markdown",
   "id": "infinite-bachelor",
   "metadata": {},
   "source": [
    "gradient of the expectation value of some measured observable on a circuit composed of parameterised Pauli rotations can be expressed via parameter shift. closed form solution involves an analytic difference of shifted parameters multiplied by the expectation"
   ]
  },
  {
   "cell_type": "code",
   "execution_count": 2,
   "id": "grave-library",
   "metadata": {},
   "outputs": [],
   "source": [
    "import numpy as np\n",
    "import pennylane as qml\n",
    "\n",
    "\n",
    "qml.enable_tape()"
   ]
  },
  {
   "cell_type": "code",
   "execution_count": 2,
   "id": "sweet-albuquerque",
   "metadata": {},
   "outputs": [],
   "source": [
    "np.random.seed(42)\n",
    "dev = qml.device(\"default.qubit\", wires=3)\n",
    "\n",
    "@qml.qnode(dev, diff_method=\"parameter-shift\")\n",
    "def circuit(params):\n",
    "    qml.RX(params[0], wires=0)\n",
    "    qml.RY(params[1], wires=1)\n",
    "    qml.RZ(params[2], wires=2)\n",
    "\n",
    "    qml.broadcast(qml.CNOT, wires=[0, 1, 2], pattern=\"ring\")\n",
    "\n",
    "    qml.RX(params[3], wires=0)\n",
    "    qml.RY(params[4], wires=1)\n",
    "    qml.RZ(params[5], wires=2)\n",
    "\n",
    "    qml.broadcast(qml.CNOT, wires=[0, 1, 2], pattern=\"ring\")\n",
    "    return qml.expval(qml.PauliY(0) @ qml.PauliZ(2))"
   ]
  },
  {
   "cell_type": "code",
   "execution_count": 6,
   "id": "chief-shooting",
   "metadata": {},
   "outputs": [
    {
     "name": "stdout",
     "output_type": "stream",
     "text": [
      " 0: ──RX(0.0581)──╭C──────────────────╭X──RX(0.708)──╭C──────╭X──╭┤ ⟨Y ⊗ Z⟩ \n",
      " 1: ──RY(0.866)───╰X──╭C──RY(0.0206)──│──────────────╰X──╭C──│───│┤         \n",
      " 2: ──RZ(0.601)───────╰X──────────────╰C──RZ(0.97)───────╰X──╰C──╰┤ ⟨Y ⊗ Z⟩ \n",
      "\n"
     ]
    }
   ],
   "source": [
    "print(circuit.draw())"
   ]
  },
  {
   "cell_type": "markdown",
   "id": "married-tactics",
   "metadata": {},
   "source": [
    "the ring pattern defines the order of 2-qubit gates (here the final gate is between the last and first wires)"
   ]
  },
  {
   "cell_type": "code",
   "execution_count": 5,
   "id": "laughing-malpractice",
   "metadata": {},
   "outputs": [
    {
     "name": "stdout",
     "output_type": "stream",
     "text": [
      "Parameters: [0.05808361 0.86617615 0.60111501 0.70807258 0.02058449 0.96990985]\n",
      "Expectation value: -0.014055527571701393\n"
     ]
    }
   ],
   "source": [
    "params = np.random.random([6])\n",
    "\n",
    "print(\"Parameters:\", params)\n",
    "print(\"Expectation value:\", circuit(params))"
   ]
  },
  {
   "cell_type": "code",
   "execution_count": 7,
   "id": "stuffed-somalia",
   "metadata": {},
   "outputs": [
    {
     "name": "stdout",
     "output_type": "stream",
     "text": [
      "[-1.11146214e-02 -5.87918653e-04 -5.55111512e-17 -1.50168133e-02\n",
      " -6.82724681e-01  2.77555756e-17]\n"
     ]
    }
   ],
   "source": [
    "grad_function = qml.grad(circuit)\n",
    "print(grad_function(params)[0])"
   ]
  },
  {
   "cell_type": "markdown",
   "id": "fossil-netherlands",
   "metadata": {},
   "source": [
    "defining the diff_method as \"parameter-shift\" specified that the qnode should be differentiable"
   ]
  },
  {
   "cell_type": "markdown",
   "id": "genetic-tsunami",
   "metadata": {},
   "source": [
    "### benchmarking"
   ]
  },
  {
   "cell_type": "markdown",
   "id": "psychological-opposition",
   "metadata": {},
   "source": [
    "observing the scaling behaviours of parameter-shift c.f. other methods"
   ]
  },
  {
   "cell_type": "code",
   "execution_count": 8,
   "id": "controversial-reality",
   "metadata": {},
   "outputs": [],
   "source": [
    "dev = qml.device(\"default.qubit\", wires=4)\n",
    "\n",
    "@qml.qnode(dev, diff_method=\"parameter-shift\", mutable=False)\n",
    "def circuit(params):\n",
    "    qml.templates.StronglyEntanglingLayers(params, wires=[0, 1, 2, 3])\n",
    "    return qml.expval(qml.PauliZ(0) @ qml.PauliZ(1) @ qml.PauliZ(2) @ qml.PauliZ(3))"
   ]
  },
  {
   "cell_type": "markdown",
   "id": "dedicated-blame",
   "metadata": {},
   "source": [
    "mutable=False means that the circuit structure cannot be changed, and reduces processing overhead"
   ]
  },
  {
   "cell_type": "code",
   "execution_count": 9,
   "id": "turkish-football",
   "metadata": {},
   "outputs": [
    {
     "name": "stdout",
     "output_type": "stream",
     "text": [
      "180\n",
      "0.9195547012778201\n"
     ]
    }
   ],
   "source": [
    "params = qml.init.strong_ent_layers_normal(n_wires=4, n_layers=15)\n",
    "print(params.size)\n",
    "print(circuit(params))"
   ]
  },
  {
   "cell_type": "code",
   "execution_count": 10,
   "id": "deadly-finish",
   "metadata": {},
   "outputs": [
    {
     "name": "stdout",
     "output_type": "stream",
     "text": [
      "Forward pass (best of 3): 0.006087124199996197 sec per loop\n"
     ]
    }
   ],
   "source": [
    "import timeit\n",
    "\n",
    "reps = 3\n",
    "num = 10\n",
    "times = timeit.repeat(\"circuit(params)\", globals=globals(), number=num, repeat=reps)\n",
    "forward_time = min(times) / num\n",
    "\n",
    "print(f\"Forward pass (best of {reps}): {forward_time} sec per loop\")"
   ]
  },
  {
   "cell_type": "code",
   "execution_count": 11,
   "id": "particular-press",
   "metadata": {},
   "outputs": [
    {
     "name": "stdout",
     "output_type": "stream",
     "text": [
      "Gradient computation (best of 3): 2.498047869000004 sec per loop\n"
     ]
    }
   ],
   "source": [
    "grad_fn = qml.grad(circuit)\n",
    "circuit.qtape = None\n",
    "\n",
    "times = timeit.repeat(\"grad_fn(params)\", globals=globals(), number=num, repeat=reps)\n",
    "backward_time = min(times) / num\n",
    "\n",
    "print(f\"Gradient computation (best of {reps}): {backward_time} sec per loop\")"
   ]
  },
  {
   "cell_type": "markdown",
   "id": "powered-dubai",
   "metadata": {},
   "source": [
    "* parameter-shift requires 2p evaluations for p parameters, reverse-mode autodifferentiation requires just one\n",
    "* the tradeoff is increased memory usage\n",
    "* inability of storing intermediate results on quantum devices disables the use of backpropagation \n",
    "* for now we are bottlenecked to use of parameter-shift on NISQ regime devices"
   ]
  },
  {
   "cell_type": "markdown",
   "id": "emerging-tiger",
   "metadata": {},
   "source": [
    "diff_method of \"backprop\" only supported by devices with applicable backends e.g. default.qubit has backends written in TensorFlow and AutoGrad"
   ]
  },
  {
   "cell_type": "code",
   "execution_count": 3,
   "id": "sunrise-printer",
   "metadata": {},
   "outputs": [],
   "source": [
    "import tensorflow as tf\n",
    "\n",
    "device = qml.device(\"default.qubit\", wires=4)"
   ]
  },
  {
   "cell_type": "code",
   "execution_count": 5,
   "id": "representative-irrigation",
   "metadata": {},
   "outputs": [
    {
     "name": "stdout",
     "output_type": "stream",
     "text": [
      "tf.Tensor(0.9302922703918127, shape=(), dtype=float64)\n"
     ]
    }
   ],
   "source": [
    "@qml.qnode(device, diff_method=\"backprop\", interface=\"tf\")\n",
    "def circuit(params):\n",
    "    qml.templates.StronglyEntanglingLayers(params, wires=[0, 1, 2, 3])\n",
    "    return qml.expval(qml.PauliZ(0) @ qml.PauliZ(1) @ qml.PauliZ(2) @ qml.PauliZ(3))\n",
    "\n",
    "# initialize circuit parameters\n",
    "params = qml.init.strong_ent_layers_normal(n_wires=4, n_layers=15)\n",
    "params = tf.Variable(params)\n",
    "print(circuit(params))"
   ]
  },
  {
   "cell_type": "code",
   "execution_count": 6,
   "id": "diverse-status",
   "metadata": {},
   "outputs": [
    {
     "name": "stdout",
     "output_type": "stream",
     "text": [
      "Forward pass (best of 3): 0.11127507390000062 sec per loop\n"
     ]
    }
   ],
   "source": [
    "import timeit\n",
    "\n",
    "reps = 3\n",
    "num = 10\n",
    "times = timeit.repeat(\"circuit(params)\", globals=globals(), number=num, repeat=reps)\n",
    "forward_time = min(times) / num\n",
    "print(f\"Forward pass (best of {reps}): {forward_time} sec per loop\")"
   ]
  },
  {
   "cell_type": "code",
   "execution_count": 7,
   "id": "engaged-kitty",
   "metadata": {},
   "outputs": [
    {
     "name": "stdout",
     "output_type": "stream",
     "text": [
      "Backward pass (best of 3): 0.16511801840000118 sec per loop\n"
     ]
    }
   ],
   "source": [
    "with tf.GradientTape(persistent=True) as tape:\n",
    "    res = circuit(params)\n",
    "\n",
    "times = timeit.repeat(\"tape.gradient(res, params)\", globals=globals(), number=num, repeat=reps)\n",
    "backward_time = min(times) / num\n",
    "print(f\"Backward pass (best of {reps}): {backward_time} sec per loop\")"
   ]
  },
  {
   "cell_type": "markdown",
   "id": "configured-majority",
   "metadata": {},
   "source": [
    "we get extra overhead from TensorFlow for forward passes, but backwards passes are an order of magnitude better than using parameter-shift"
   ]
  },
  {
   "cell_type": "markdown",
   "id": "seasonal-quarter",
   "metadata": {},
   "source": [
    "it can be seen from the end of the tutorial link that backprop does not scale linearly with the number of parameters, while parameter-shift does. this makes a huge difference when implementing larger variational circuits"
   ]
  }
 ],
 "metadata": {
  "kernelspec": {
   "display_name": "Python 3",
   "language": "python",
   "name": "python3"
  },
  "language_info": {
   "codemirror_mode": {
    "name": "ipython",
    "version": 3
   },
   "file_extension": ".py",
   "mimetype": "text/x-python",
   "name": "python",
   "nbconvert_exporter": "python",
   "pygments_lexer": "ipython3",
   "version": "3.8.7"
  }
 },
 "nbformat": 4,
 "nbformat_minor": 5
}
