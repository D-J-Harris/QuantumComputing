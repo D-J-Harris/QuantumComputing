{
 "cells": [
  {
   "cell_type": "markdown",
   "id": "postal-chapter",
   "metadata": {},
   "source": [
    "### https://pennylane.ai/qml/demos/tutorial_gaussian_transformation.html"
   ]
  },
  {
   "cell_type": "markdown",
   "id": "liked-connection",
   "metadata": {},
   "source": [
    "### basics of continuous-variable (CV) photonic devices"
   ]
  },
  {
   "cell_type": "markdown",
   "id": "residential-restriction",
   "metadata": {},
   "source": [
    "* in photonic CV system, |0> is the 'vacuum state' (no photons in the wire)\n",
    "* instead of qubits, we refer to wires are 'qumodes'\n",
    "* measurements are of mean photon number (proportional to the energy of the system)"
   ]
  },
  {
   "cell_type": "markdown",
   "id": "neural-front",
   "metadata": {},
   "source": [
    "### optimise for mean photon number of one"
   ]
  },
  {
   "cell_type": "code",
   "execution_count": 1,
   "id": "secret-warren",
   "metadata": {},
   "outputs": [],
   "source": [
    "import pennylane as qml\n",
    "from pennylane import numpy as np"
   ]
  },
  {
   "cell_type": "code",
   "execution_count": 2,
   "id": "decent-cameroon",
   "metadata": {},
   "outputs": [],
   "source": [
    "device_gaussian = qml.device(\"default.gaussian\", wires=1)"
   ]
  },
  {
   "cell_type": "code",
   "execution_count": 3,
   "id": "amino-camel",
   "metadata": {},
   "outputs": [],
   "source": [
    "@qml.qnode(device_gaussian)\n",
    "def mean_photon_gaussian(mag_alpha, phase_alpha, phi):\n",
    "    qml.Displacement(mag_alpha, phase_alpha, wires=0)\n",
    "    qml.Rotation(phi, wires=0)\n",
    "    return qml.expval(qml.NumberOperator(0))"
   ]
  },
  {
   "cell_type": "markdown",
   "id": "chubby-uruguay",
   "metadata": {},
   "source": [
    "the alpha is shown in polar coordinates to make the notion of a gradient clear and well-defined"
   ]
  },
  {
   "cell_type": "code",
   "execution_count": 4,
   "id": "historic-printer",
   "metadata": {},
   "outputs": [],
   "source": [
    "def cost(params):\n",
    "    return (mean_photon_gaussian(params[0], params[1], params[2]) - 1.0) ** 2"
   ]
  },
  {
   "cell_type": "code",
   "execution_count": 5,
   "id": "variable-belief",
   "metadata": {},
   "outputs": [
    {
     "name": "stdout",
     "output_type": "stream",
     "text": [
      "0.9998000100000001\n"
     ]
    }
   ],
   "source": [
    "init_params = [0.01, 0.023, 0.025]\n",
    "print(cost(init_params))"
   ]
  },
  {
   "cell_type": "code",
   "execution_count": 6,
   "id": "instructional-sound",
   "metadata": {},
   "outputs": [
    {
     "name": "stdout",
     "output_type": "stream",
     "text": [
      "Cost after step     1: 0.999608\n",
      "Cost after step     2: 0.999232\n",
      "Cost after step     3: 0.998495\n",
      "Cost after step     4: 0.997053\n",
      "Cost after step     5: 0.994233\n",
      "Cost after step     6: 0.988731\n",
      "Cost after step     7: 0.978043\n",
      "Cost after step     8: 0.957460\n",
      "Cost after step     9: 0.918480\n",
      "Cost after step    10: 0.847029\n",
      "Cost after step    11: 0.724024\n",
      "Cost after step    12: 0.536008\n",
      "Cost after step    13: 0.304989\n",
      "Cost after step    14: 0.110619\n",
      "Cost after step    15: 0.020507\n",
      "Cost after step    16: 0.001784\n",
      "Cost after step    17: 0.000092\n",
      "Cost after step    18: 0.000004\n",
      "Cost after step    19: 0.000000\n",
      "Cost after step    20: 0.000000\n",
      "Optimized mag_alpha:0.999960\n",
      "Optimized phase_alpha:0.023000\n",
      "Optimized phi:0.025000\n"
     ]
    }
   ],
   "source": [
    "opt = qml.GradientDescentOptimizer(stepsize=0.1)\n",
    "\n",
    "steps = 20\n",
    "params = init_params\n",
    "\n",
    "for i in range(steps):\n",
    "    params = opt.step(cost, params)\n",
    "\n",
    "    print(\"Cost after step {:5d}: {:8f}\".format(i + 1, cost(params)))\n",
    "\n",
    "print(\"Optimized mag_alpha:{:8f}\".format(params[0]))\n",
    "print(\"Optimized phase_alpha:{:8f}\".format(params[1]))\n",
    "print(\"Optimized phi:{:8f}\".format(params[2]))"
   ]
  }
 ],
 "metadata": {
  "kernelspec": {
   "display_name": "Python 3",
   "language": "python",
   "name": "python3"
  },
  "language_info": {
   "codemirror_mode": {
    "name": "ipython",
    "version": 3
   },
   "file_extension": ".py",
   "mimetype": "text/x-python",
   "name": "python",
   "nbconvert_exporter": "python",
   "pygments_lexer": "ipython3",
   "version": "3.8.7"
  }
 },
 "nbformat": 4,
 "nbformat_minor": 5
}
