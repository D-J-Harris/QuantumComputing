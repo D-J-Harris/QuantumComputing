{
 "cells": [
  {
   "cell_type": "markdown",
   "id": "suited-farming",
   "metadata": {},
   "source": [
    "### https://pennylane.ai/qml/demos/tutorial_plugins_hybrid.html"
   ]
  },
  {
   "cell_type": "markdown",
   "id": "awful-consultation",
   "metadata": {},
   "source": [
    "### BeamSplitter CV Operation on 2-qumode State"
   ]
  },
  {
   "cell_type": "markdown",
   "id": "subjective-archives",
   "metadata": {},
   "source": [
    "power of pennylane comes from plugin ecosystem\n",
    "https://pennylane.ai/plugins.html\n",
    "\n",
    "Strawberry Fields Fock backend allows for work on non-gaussian input states"
   ]
  },
  {
   "cell_type": "code",
   "execution_count": 1,
   "id": "intended-convention",
   "metadata": {},
   "outputs": [],
   "source": [
    "import pennylane as qml\n",
    "from pennylane import numpy as np"
   ]
  },
  {
   "cell_type": "code",
   "execution_count": 2,
   "id": "generous-exception",
   "metadata": {},
   "outputs": [],
   "source": [
    "device_fock = qml.device(\"strawberryfields.fock\", wires=2, cutoff_dim=2)"
   ]
  },
  {
   "cell_type": "code",
   "execution_count": 6,
   "id": "increased-turning",
   "metadata": {},
   "outputs": [],
   "source": [
    "@qml.qnode(device_fock, diff_method=\"parameter-shift\")\n",
    "def photon_redirection(params):\n",
    "    qml.FockState(1, wires=0)\n",
    "    qml.Beamsplitter(params[0], params[1], wires=[0,1])\n",
    "    return qml.expval(qml.NumberOperator(1))"
   ]
  },
  {
   "cell_type": "markdown",
   "id": "related-bubble",
   "metadata": {},
   "source": [
    "a fock state / number state is an element of a Fock space with a well-defined number of particles/quanta. Here this is the state |1,0> that we are trying to optimise parameters in the BeamSplitter to maximise mean photon number in the second wire i.e. redirect the photon to wire 2 to achieve Fock state |0,1>"
   ]
  },
  {
   "cell_type": "code",
   "execution_count": 7,
   "id": "organizational-reserve",
   "metadata": {},
   "outputs": [],
   "source": [
    "def cost(params):\n",
    "    return -photon_redirection(params)"
   ]
  },
  {
   "cell_type": "code",
   "execution_count": 8,
   "id": "international-taxation",
   "metadata": {},
   "outputs": [
    {
     "name": "stdout",
     "output_type": "stream",
     "text": [
      "-9.999666671111081e-05\n"
     ]
    }
   ],
   "source": [
    "init_params = np.array([0.01, 0.01])\n",
    "print(cost(init_params))"
   ]
  },
  {
   "cell_type": "code",
   "execution_count": 9,
   "id": "interested-mobile",
   "metadata": {},
   "outputs": [
    {
     "name": "stdout",
     "output_type": "stream",
     "text": [
      "Cost after step     5: -0.0349558\n",
      "Cost after step    10: -0.9969017\n",
      "Cost after step    15: -1.0000000\n",
      "Cost after step    20: -1.0000000\n",
      "Cost after step    25: -1.0000000\n",
      "Cost after step    30: -1.0000000\n",
      "Cost after step    35: -1.0000000\n",
      "Cost after step    40: -1.0000000\n",
      "Cost after step    45: -1.0000000\n",
      "Cost after step    50: -1.0000000\n",
      "Cost after step    55: -1.0000000\n",
      "Cost after step    60: -1.0000000\n",
      "Cost after step    65: -1.0000000\n",
      "Cost after step    70: -1.0000000\n",
      "Cost after step    75: -1.0000000\n",
      "Cost after step    80: -1.0000000\n",
      "Cost after step    85: -1.0000000\n",
      "Cost after step    90: -1.0000000\n",
      "Cost after step    95: -1.0000000\n",
      "Cost after step   100: -1.0000000\n",
      "Optimized rotation angles: [1.57079633 0.01      ]\n"
     ]
    }
   ],
   "source": [
    "opt = qml.GradientDescentOptimizer(stepsize=0.4)\n",
    "\n",
    "steps = 100\n",
    "params = init_params\n",
    "\n",
    "for i in range(steps):\n",
    "    params = opt.step(cost, params)\n",
    "\n",
    "    if (i + 1) % 5 == 0:\n",
    "        print(\"Cost after step {:5d}: {: .7f}\".format(i + 1, cost(params)))\n",
    "\n",
    "print(\"Optimized rotation angles: {}\".format(params))"
   ]
  },
  {
   "cell_type": "markdown",
   "id": "voluntary-mineral",
   "metadata": {},
   "source": [
    "### Hybrid Computation"
   ]
  },
  {
   "cell_type": "markdown",
   "id": "toxic-harrison",
   "metadata": {},
   "source": [
    "we can combine the performance of different qnodes, to work together in optimising a set of parameters. below parameters are optimised such that the output of either the qubit rotation qnode, or the photon redirection qnode, yields the same measurements.\n",
    "here the parameters in photon redirection are tuned to give the same output as the random init values for qubit rotation"
   ]
  },
  {
   "cell_type": "code",
   "execution_count": 16,
   "id": "characteristic-booking",
   "metadata": {},
   "outputs": [],
   "source": [
    "phi1, phi2 = 0.4, 0.2"
   ]
  },
  {
   "cell_type": "code",
   "execution_count": 15,
   "id": "sudden-change",
   "metadata": {},
   "outputs": [],
   "source": [
    "dev_qubit = qml.device(\"default.qubit\", wires=1)\n",
    "dev_fock = qml.device(\"strawberryfields.fock\", wires=2, cutoff_dim=10)\n",
    "\n",
    "\n",
    "@qml.qnode(dev_qubit)\n",
    "def qubit_rotation(phi1, phi2):\n",
    "    \"\"\"Qubit rotation QNode\"\"\"\n",
    "    qml.RX(phi1, wires=0)\n",
    "    qml.RY(phi2, wires=0)\n",
    "    return qml.expval(qml.PauliZ(0))\n",
    "\n",
    "\n",
    "@qml.qnode(dev_fock, diff_method=\"parameter-shift\")\n",
    "def photon_redirection(params):\n",
    "    \"\"\"The photon redirection QNode\"\"\"\n",
    "    qml.FockState(1, wires=0)\n",
    "    qml.Beamsplitter(params[0], params[1], wires=[0, 1])\n",
    "    return qml.expval(qml.NumberOperator(1))\n",
    "\n",
    "\n",
    "def squared_difference(x, y):\n",
    "    \"\"\"Classical node to compute the squared\n",
    "    difference between two inputs\"\"\"\n",
    "    return np.abs(x - y) ** 2"
   ]
  },
  {
   "cell_type": "code",
   "execution_count": 17,
   "id": "hollow-green",
   "metadata": {},
   "outputs": [],
   "source": [
    "def cost(params, phi1=phi1, phi2=phi2):\n",
    "    \"\"\"Returns the squared difference between\n",
    "    the photon-redirection and qubit-rotation QNodes, for\n",
    "    fixed values of the qubit rotation angles phi1 and phi2\"\"\"\n",
    "    qubit_result = qubit_rotation(phi1, phi2)\n",
    "    photon_result = photon_redirection(params)\n",
    "    return squared_difference(qubit_result, photon_result)"
   ]
  },
  {
   "cell_type": "code",
   "execution_count": 18,
   "id": "suburban-party",
   "metadata": {},
   "outputs": [
    {
     "name": "stdout",
     "output_type": "stream",
     "text": [
      "Cost after step     5:  0.1912558\n",
      "Cost after step    10:  0.0002023\n",
      "Cost after step    15:  0.0000058\n",
      "Cost after step    20:  0.0000002\n",
      "Cost after step    25:  0.0000000\n",
      "Cost after step    30:  0.0000000\n",
      "Cost after step    35:  0.0000000\n",
      "Cost after step    40:  0.0000000\n",
      "Cost after step    45:  0.0000000\n",
      "Cost after step    50:  0.0000000\n",
      "Cost after step    55:  0.0000000\n",
      "Cost after step    60:  0.0000000\n",
      "Cost after step    65:  0.0000000\n",
      "Cost after step    70:  0.0000000\n",
      "Cost after step    75:  0.0000000\n",
      "Cost after step    80:  0.0000000\n",
      "Cost after step    85:  0.0000000\n",
      "Cost after step    90:  0.0000000\n",
      "Cost after step    95:  0.0000000\n",
      "Cost after step   100:  0.0000000\n",
      "Optimized rotation angles: [1.25357501 0.01      ]\n"
     ]
    }
   ],
   "source": [
    "opt = qml.GradientDescentOptimizer(stepsize=0.4)\n",
    "\n",
    "steps = 100\n",
    "params = np.array([0.01, 0.01])\n",
    "\n",
    "for i in range(steps):\n",
    "    params = opt.step(cost, params)\n",
    "\n",
    "    if (i + 1) % 5 == 0:\n",
    "        print(\"Cost after step {:5d}: {: .7f}\".format(i + 1, cost(params)))\n",
    "\n",
    "print(\"Optimized rotation angles: {}\".format(params))"
   ]
  },
  {
   "cell_type": "code",
   "execution_count": 19,
   "id": "outer-drove",
   "metadata": {},
   "outputs": [
    {
     "name": "stdout",
     "output_type": "stream",
     "text": [
      "0.9027010943137169\n",
      "0.9027010963754598\n"
     ]
    }
   ],
   "source": [
    "result = [1.25357501, 0.01]\n",
    "print(photon_redirection(result))\n",
    "print(qubit_rotation(phi1, phi2))"
   ]
  }
 ],
 "metadata": {
  "kernelspec": {
   "display_name": "Python 3",
   "language": "python",
   "name": "python3"
  },
  "language_info": {
   "codemirror_mode": {
    "name": "ipython",
    "version": 3
   },
   "file_extension": ".py",
   "mimetype": "text/x-python",
   "name": "python",
   "nbconvert_exporter": "python",
   "pygments_lexer": "ipython3",
   "version": "3.8.7"
  }
 },
 "nbformat": 4,
 "nbformat_minor": 5
}
