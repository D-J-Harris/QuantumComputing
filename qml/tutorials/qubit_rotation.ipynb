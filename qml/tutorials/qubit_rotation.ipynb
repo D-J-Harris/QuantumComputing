{
 "cells": [
  {
   "cell_type": "markdown",
   "id": "behavioral-photograph",
   "metadata": {},
   "source": [
    "### https://pennylane.ai/qml/demos/tutorial_qubit_rotation.html"
   ]
  },
  {
   "cell_type": "markdown",
   "id": "balanced-sixth",
   "metadata": {},
   "source": [
    "### devices and functions"
   ]
  },
  {
   "cell_type": "code",
   "execution_count": 1,
   "id": "twelve-collaboration",
   "metadata": {},
   "outputs": [],
   "source": [
    "import pennylane as qml\n",
    "from pennylane import numpy as np"
   ]
  },
  {
   "cell_type": "markdown",
   "id": "coral-simpson",
   "metadata": {},
   "source": [
    "load a device - an object that can apply quantum operations and return a measurement value"
   ]
  },
  {
   "cell_type": "code",
   "execution_count": 2,
   "id": "three-convention",
   "metadata": {},
   "outputs": [],
   "source": [
    "device = qml.device(\"default.qubit\", wires=1)"
   ]
  },
  {
   "cell_type": "markdown",
   "id": "amateur-guyana",
   "metadata": {},
   "source": [
    "construct a QNode - encapsulation of a quantum function described bu a circuit. bound to a particular device"
   ]
  },
  {
   "cell_type": "code",
   "execution_count": 16,
   "id": "figured-harris",
   "metadata": {},
   "outputs": [],
   "source": [
    "@qml.qnode(device)\n",
    "def circuit(params):\n",
    "    qml.RX(params[0], wires=0)\n",
    "    qml.RY(params[1], wires=0)\n",
    "    return qml.expval(qml.PauliZ(0))"
   ]
  },
  {
   "cell_type": "markdown",
   "id": "killing-complex",
   "metadata": {},
   "source": [
    "Restrictions on python functions -> quantum functions:\n",
    "* only contain quantum operations, one per line, in correct order\n",
    "* must return either a single or tuple of measured observables\n",
    "* must not contain any classical processing"
   ]
  },
  {
   "cell_type": "code",
   "execution_count": 17,
   "id": "descending-jefferson",
   "metadata": {},
   "outputs": [
    {
     "name": "stdout",
     "output_type": "stream",
     "text": [
      "0.8083070667743449\n"
     ]
    }
   ],
   "source": [
    "print(circuit([0.4, 0.5]))"
   ]
  },
  {
   "cell_type": "markdown",
   "id": "alert-thesis",
   "metadata": {},
   "source": [
    "### calculating gradients"
   ]
  },
  {
   "cell_type": "markdown",
   "id": "emotional-operations",
   "metadata": {},
   "source": [
    "differentiation is performed automatically by pennylane (analytic and numerical e.g. finite differences)"
   ]
  },
  {
   "cell_type": "code",
   "execution_count": 18,
   "id": "israeli-extension",
   "metadata": {},
   "outputs": [],
   "source": [
    "dcircuit = qml.grad(circuit, argnum=0)"
   ]
  },
  {
   "cell_type": "code",
   "execution_count": 19,
   "id": "piano-rental",
   "metadata": {},
   "outputs": [
    {
     "name": "stdout",
     "output_type": "stream",
     "text": [
      "[-0.34174674649032744, -0.4415801631371557]\n"
     ]
    }
   ],
   "source": [
    "print(dcircuit([0.4, 0.5]))"
   ]
  },
  {
   "cell_type": "markdown",
   "id": "defined-service",
   "metadata": {},
   "source": [
    "### optimisation"
   ]
  },
  {
   "cell_type": "markdown",
   "id": "boxed-conditioning",
   "metadata": {},
   "source": [
    "we can use optimisers based on gradient descent, build on top of the numpy/autograd interface. optimise circuit above to learn phi1/phi2 that rotates qubit from |0> to |1>"
   ]
  },
  {
   "cell_type": "code",
   "execution_count": 20,
   "id": "apart-shareware",
   "metadata": {},
   "outputs": [],
   "source": [
    "def cost(params):\n",
    "    return circuit(params)"
   ]
  },
  {
   "cell_type": "code",
   "execution_count": 21,
   "id": "reserved-pharmacy",
   "metadata": {},
   "outputs": [
    {
     "name": "stdout",
     "output_type": "stream",
     "text": [
      "0.9998675058299389\n"
     ]
    }
   ],
   "source": [
    "init_params = np.array([0.011, 0.012])\n",
    "print(cost(init_params))"
   ]
  },
  {
   "cell_type": "code",
   "execution_count": 22,
   "id": "korean-technique",
   "metadata": {},
   "outputs": [
    {
     "name": "stdout",
     "output_type": "stream",
     "text": [
      "Cost after step     5:  0.9961778\n",
      "Cost after step    10:  0.8974944\n",
      "Cost after step    15:  0.1440490\n",
      "Cost after step    20: -0.1536720\n",
      "Cost after step    25: -0.9152496\n",
      "Cost after step    30: -0.9994046\n",
      "Cost after step    35: -0.9999964\n",
      "Cost after step    40: -1.0000000\n",
      "Cost after step    45: -1.0000000\n",
      "Cost after step    50: -1.0000000\n",
      "Cost after step    55: -1.0000000\n",
      "Cost after step    60: -1.0000000\n",
      "Cost after step    65: -1.0000000\n",
      "Cost after step    70: -1.0000000\n",
      "Cost after step    75: -1.0000000\n",
      "Cost after step    80: -1.0000000\n",
      "Cost after step    85: -1.0000000\n",
      "Cost after step    90: -1.0000000\n",
      "Cost after step    95: -1.0000000\n",
      "Cost after step   100: -1.0000000\n"
     ]
    }
   ],
   "source": [
    "opt = qml.GradientDescentOptimizer(stepsize=0.4)\n",
    "steps = 100\n",
    "params = init_params\n",
    "\n",
    "for step_num in range(steps):\n",
    "    params = opt.step(cost, params)\n",
    "    \n",
    "    if (step_num + 1) % 5 == 0:\n",
    "        print(\"Cost after step {:5d}: {: .7f}\".format(step_num + 1, cost(params)))"
   ]
  }
 ],
 "metadata": {
  "kernelspec": {
   "display_name": "Python 3",
   "language": "python",
   "name": "python3"
  },
  "language_info": {
   "codemirror_mode": {
    "name": "ipython",
    "version": 3
   },
   "file_extension": ".py",
   "mimetype": "text/x-python",
   "name": "python",
   "nbconvert_exporter": "python",
   "pygments_lexer": "ipython3",
   "version": "3.8.7"
  }
 },
 "nbformat": 4,
 "nbformat_minor": 5
}
