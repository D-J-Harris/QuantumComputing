{
 "cells": [
  {
   "cell_type": "markdown",
   "metadata": {
    "id": "ViJy_slwI86e"
   },
   "source": [
    "# Differentiable quantum computing with PennyLane\n",
    "\n",
    "In this tutorial we will:\n",
    "\n",
    "* learn step-by-step how quantum computations are implemented in PennyLane,\n",
    "* understand parameter-dependent quantum computations (\"variational circuits\"), \n",
    "* build our first quantum machine learning model, and\n",
    "* compute its gradient.\n",
    "\n",
    "We need the following imports:"
   ]
  },
  {
   "cell_type": "code",
   "execution_count": 42,
   "metadata": {
    "id": "gym_3cbziWfK"
   },
   "outputs": [],
   "source": [
    "import pennylane as qml\n",
    "from pennylane import numpy as np\n",
    "import matplotlib.pyplot as plt"
   ]
  },
  {
   "cell_type": "markdown",
   "metadata": {
    "id": "j0takToZI86f"
   },
   "source": [
    "## 1. Quantum nodes"
   ]
  },
  {
   "cell_type": "markdown",
   "metadata": {
    "id": "3u-3eEPchh3N"
   },
   "source": [
    "In PennyLane, a *quantum node* is a computational unit that involves the construction, evaluation, pre- and postprocessing of quantum computations.\n",
    "\n",
    "A quantum node consists of a *quantum function* that defines a circuit, as well as a *device* on which it is run. \n",
    "\n",
    "There is a growing [device ecosystem](https://pennylane.ai/plugins.html) which allows you to change only one line of code to dispatch your quantum computation to local simulators, remote simulators and remote hardware from different vendors.\n",
    "\n",
    "Here we will use the built-in `default.qubit` device."
   ]
  },
  {
   "cell_type": "code",
   "execution_count": 18,
   "metadata": {
    "id": "WfIzfl6hI86f"
   },
   "outputs": [],
   "source": [
    "dev = qml.device('default.qubit', wires=2)"
   ]
  },
  {
   "cell_type": "markdown",
   "metadata": {},
   "source": [
    "To combine the device with a quantum function to a quantum node we can use the `qml.qnode` decorator. The function can then be evaluated as if it was any other python function. Internally, it will construct a circuit and run it on the device."
   ]
  },
  {
   "cell_type": "code",
   "execution_count": 19,
   "metadata": {},
   "outputs": [
    {
     "output_type": "execute_result",
     "data": {
      "text/plain": [
       "tensor([0.5, 0. , 0.5, 0. ], requires_grad=True)"
      ]
     },
     "metadata": {},
     "execution_count": 19
    }
   ],
   "source": [
    "@qml.qnode(dev)\n",
    "def circuit():\n",
    "    qml.Hadamard(wires=0)\n",
    "    return qml.probs(wires=[0, 1])\n",
    "\n",
    "circuit()"
   ]
  },
  {
   "cell_type": "markdown",
   "metadata": {},
   "source": [
    "## 2. Building quantum circuits"
   ]
  },
  {
   "cell_type": "markdown",
   "metadata": {
    "id": "B7QxsiAdI86g"
   },
   "source": [
    "### The initial state\n",
    "\n",
    "<br />\n",
    "<img src=\"figures/1.png\" width=\"500\" height=\"100\">\n",
    "<br />\n",
    "\n",
    "The initial state has 100% probability to be measured in the \"0..0\" configuration. Let's see how we can verify this with PennyLane."
   ]
  },
  {
   "cell_type": "code",
   "execution_count": 20,
   "metadata": {
    "colab": {
     "base_uri": "https://localhost:8080/"
    },
    "id": "0uWBZqMsI86g",
    "outputId": "21f1e0c5-8dbe-4f81-f492-cf9a27a8958d"
   },
   "outputs": [
    {
     "output_type": "execute_result",
     "data": {
      "text/plain": [
       "tensor([1., 0., 0., 0.], requires_grad=True)"
      ]
     },
     "metadata": {},
     "execution_count": 20
    }
   ],
   "source": [
    "@qml.qnode(dev)\n",
    "def circuit():\n",
    "    return qml.probs(wires=[0, 1])\n",
    "\n",
    "circuit()"
   ]
  },
  {
   "cell_type": "markdown",
   "metadata": {
    "id": "4vYHmef8I86h"
   },
   "source": [
    "The internal state vector that we use to mathematically keep track of probabilities is complex-valued. Since `default.qubit` is a simulator we can have a look at the state, for example by checking the device's `state` attribute."
   ]
  },
  {
   "cell_type": "code",
   "execution_count": 21,
   "metadata": {
    "colab": {
     "base_uri": "https://localhost:8080/"
    },
    "id": "a3sx1keQI86h",
    "outputId": "0928e9a4-2676-4ef3-ff08-d598171b993e"
   },
   "outputs": [
    {
     "output_type": "execute_result",
     "data": {
      "text/plain": [
       "tensor([1.+0.j, 0.+0.j, 0.+0.j, 0.+0.j], requires_grad=True)"
      ]
     },
     "metadata": {},
     "execution_count": 21
    }
   ],
   "source": [
    "dev.state"
   ]
  },
  {
   "cell_type": "markdown",
   "metadata": {
    "id": "8T72-1F-I86i"
   },
   "source": [
    "### Unitary evolutions\n",
    "\n",
    "<br />\n",
    "<img src=\"figures/2.png\" width=\"500\">\n",
    "<br />\n",
    "\n",
    "Quantum circuits are represented by unitary matrices. We can evolve the initial state by an arbitrary unitrary matrix as follows:"
   ]
  },
  {
   "cell_type": "code",
   "execution_count": 22,
   "metadata": {
    "colab": {
     "base_uri": "https://localhost:8080/"
    },
    "id": "pR2xQvESI86i",
    "outputId": "3e307811-99e4-4632-8069-5baf84ca392a"
   },
   "outputs": [
    {
     "output_type": "execute_result",
     "data": {
      "text/plain": [
       "tensor([0. , 0.5, 0.5, 0. ], requires_grad=True)"
      ]
     },
     "metadata": {},
     "execution_count": 22
    }
   ],
   "source": [
    "s = 1/np.sqrt(2)\n",
    "U = np.array([[0., -s, 0.,  s],\n",
    "              [ s, 0., -s, 0.],\n",
    "              [ s, 0.,  s, 0.],\n",
    "              [0., -s, 0., -s]])\n",
    "\n",
    "@qml.qnode(dev)\n",
    "def circuit():\n",
    "    qml.QubitUnitary(U, wires=[0, 1])\n",
    "    return qml.probs(wires=[0, 1])\n",
    "\n",
    "circuit()"
   ]
  },
  {
   "cell_type": "markdown",
   "metadata": {
    "id": "y1Lz95Lvi4nh"
   },
   "source": [
    "The internal quantum state changed."
   ]
  },
  {
   "cell_type": "code",
   "execution_count": 23,
   "metadata": {
    "colab": {
     "base_uri": "https://localhost:8080/"
    },
    "id": "WGRCAysbI86i",
    "outputId": "63c1826b-56e3-4b20-c484-73ec0c20b436"
   },
   "outputs": [
    {
     "output_type": "execute_result",
     "data": {
      "text/plain": [
       "tensor([0.        +0.j, 0.70710678+0.j, 0.70710678+0.j, 0.        +0.j], requires_grad=True)"
      ]
     },
     "metadata": {},
     "execution_count": 23
    }
   ],
   "source": [
    "dev.state"
   ]
  },
  {
   "cell_type": "markdown",
   "metadata": {
    "id": "j5D8HN8nI86j"
   },
   "source": [
    "### Measurements sample outcomes from the distribution\n",
    "\n",
    "<br />\n",
    "<img src=\"figures/3.png\" width=\"500\">\n",
    "<br />\n",
    "\n",
    "The most common measurement takes samples $-1, 1$ from the \"Pauli-Z\" observable. The samples indicate if the qubit was measured in state $| 0 \\rangle$ or $| 1 \\rangle$."
   ]
  },
  {
   "cell_type": "code",
   "execution_count": 24,
   "metadata": {
    "colab": {
     "base_uri": "https://localhost:8080/"
    },
    "id": "BFFaTmh6I86j",
    "outputId": "fdcfafe5-9daa-46bf-ceb7-21359cefca3c"
   },
   "outputs": [
    {
     "output_type": "execute_result",
     "data": {
      "text/plain": [
       "tensor([[ 1, -1,  1, ..., -1,  1, -1],\n",
       "        [-1,  1, -1, ...,  1, -1,  1]], requires_grad=True)"
      ]
     },
     "metadata": {},
     "execution_count": 24
    }
   ],
   "source": [
    "@qml.qnode(dev)\n",
    "def circuit():\n",
    "    qml.QubitUnitary(U, wires=[0, 1])\n",
    "    return qml.sample(qml.PauliZ(wires=0)), qml.sample(qml.PauliZ(wires=1))\n",
    "\n",
    "circuit()"
   ]
  },
  {
   "cell_type": "markdown",
   "metadata": {
    "id": "SKNa1k2eixFC"
   },
   "source": [
    "The quantum state should be still the same as above."
   ]
  },
  {
   "cell_type": "code",
   "execution_count": 25,
   "metadata": {
    "colab": {
     "base_uri": "https://localhost:8080/"
    },
    "id": "kOpi8-62I86j",
    "outputId": "24a060bf-7fec-474c-f499-77a2baa5ba61"
   },
   "outputs": [
    {
     "output_type": "execute_result",
     "data": {
      "text/plain": [
       "tensor([0.        +0.j, 0.70710678+0.j, 0.70710678+0.j, 0.        +0.j], requires_grad=True)"
      ]
     },
     "metadata": {},
     "execution_count": 25
    }
   ],
   "source": [
    "dev.state"
   ]
  },
  {
   "cell_type": "markdown",
   "metadata": {
    "id": "BPSoH3ddI86k"
   },
   "source": [
    "### Computing expectation values \n",
    "\n",
    "<br />\n",
    "<img src=\"figures/4.png\" width=\"500\">\n",
    "<br />\n",
    "\n",
    "When we want outputs of computations to be deterministic, we often interpret the expected measurement outcome as the result. This value is estimated by taking lots of samples and averaging over them."
   ]
  },
  {
   "cell_type": "code",
   "execution_count": 26,
   "metadata": {
    "colab": {
     "base_uri": "https://localhost:8080/"
    },
    "id": "BTKPBpR3I86k",
    "outputId": "b1cd59c1-42b0-406c-87d7-73787a88e7bc"
   },
   "outputs": [
    {
     "output_type": "execute_result",
     "data": {
      "text/plain": [
       "tensor([0., 0.], requires_grad=True)"
      ]
     },
     "metadata": {},
     "execution_count": 26
    }
   ],
   "source": [
    "@qml.qnode(dev)\n",
    "def circuit():\n",
    "    qml.QubitUnitary(U, wires=[0, 1])\n",
    "    return qml.expval(qml.PauliZ(wires=0)), qml.expval(qml.PauliZ(wires=1))\n",
    "\n",
    "circuit()"
   ]
  },
  {
   "cell_type": "markdown",
   "metadata": {
    "id": "TWenlG1AjJhu"
   },
   "source": [
    "Again, the quantum state should be the same as above."
   ]
  },
  {
   "cell_type": "code",
   "execution_count": 27,
   "metadata": {
    "colab": {
     "base_uri": "https://localhost:8080/"
    },
    "id": "aSJl64R-I86k",
    "outputId": "444f812a-5c66-446e-dd23-bfd8c1e60569"
   },
   "outputs": [
    {
     "output_type": "execute_result",
     "data": {
      "text/plain": [
       "tensor([0.        +0.j, 0.70710678+0.j, 0.70710678+0.j, 0.        +0.j], requires_grad=True)"
      ]
     },
     "metadata": {},
     "execution_count": 27
    }
   ],
   "source": [
    "dev.state"
   ]
  },
  {
   "cell_type": "markdown",
   "metadata": {
    "id": "KNiKBEjrI86l"
   },
   "source": [
    "### Quantum circuits are decomposed into gates\n",
    "\n",
    "<br />\n",
    "<img src=\"figures/5.png\" width=\"500\">\n",
    "<br />\n",
    "\n",
    "Quantum circuits rarely consist of one large unitary (which quickly becomes intractably large as the number of qubits grow). Instead, they are composed of *quantum gates*."
   ]
  },
  {
   "cell_type": "code",
   "execution_count": 28,
   "metadata": {
    "colab": {
     "base_uri": "https://localhost:8080/"
    },
    "id": "Eoie7lnlI86l",
    "outputId": "755770ab-9bd4-4fd9-a187-9319929953dd"
   },
   "outputs": [
    {
     "output_type": "execute_result",
     "data": {
      "text/plain": [
       "tensor([ 0., -1.], requires_grad=True)"
      ]
     },
     "metadata": {},
     "execution_count": 28
    }
   ],
   "source": [
    "@qml.qnode(dev)\n",
    "def circuit():\n",
    "    qml.PauliX(wires=0)\n",
    "    qml.CNOT(wires=[0,1])\n",
    "    qml.Hadamard(wires=0)\n",
    "    qml.PauliZ(wires=1)\n",
    "    return qml.expval(qml.PauliZ(wires=0)), qml.expval(qml.PauliZ(wires=1))\n",
    "\n",
    "circuit()"
   ]
  },
  {
   "cell_type": "markdown",
   "metadata": {
    "id": "IxU2qPYcI86l"
   },
   "source": [
    "### Some gates depend on \"control\" parameters\n",
    "\n",
    "<br />\n",
    "<img src=\"figures/6.png\" width=\"500\">\n",
    "<br />\n",
    "\n",
    "To train circuits, there is a special subset of gates which is of particular interest: the Pauli rotation gates. These \"rotate\" a special representation of the quantum state around a specific axis. The gates depend on a scalar parameter which is the angle of the rotation. "
   ]
  },
  {
   "cell_type": "code",
   "execution_count": 29,
   "metadata": {
    "id": "YwKk_sWmI86m"
   },
   "outputs": [
    {
     "output_type": "execute_result",
     "data": {
      "text/plain": [
       "tensor([0.98006658, 0.26216666], requires_grad=True)"
      ]
     },
     "metadata": {},
     "execution_count": 29
    }
   ],
   "source": [
    "@qml.qnode(dev)\n",
    "def circuit(w1, w2):\n",
    "    qml.RX(w1, wires=0)\n",
    "    qml.CNOT(wires=[0,1])\n",
    "    qml.RY(w2, wires=1)\n",
    "    return qml.expval(qml.PauliZ(wires=0)), qml.expval(qml.PauliZ(wires=1))\n",
    "\n",
    "circuit(0.2, 1.3)"
   ]
  },
  {
   "cell_type": "markdown",
   "metadata": {
    "id": "Oi_0wM9rI86m"
   },
   "source": [
    "The names `w1`, `w2` are already suggestive that these can be used like the trainable parameters of a classical machine learning model. But we could also call the control parameters `x1`, `x2` and encode data features into quantum states. "
   ]
  },
  {
   "cell_type": "markdown",
   "metadata": {
    "id": "1fKFXs7OI86m"
   },
   "source": [
    "## 3. A full quantum machine learning model and its gradient"
   ]
  },
  {
   "cell_type": "markdown",
   "metadata": {
    "id": "QBEgX2RNI86n"
   },
   "source": [
    "Finally, we can use pre-coded routines or [templates](https://pennylane.readthedocs.io/en/stable/introduction/templates.html) to conveniently build full quantum machine learning model that include a data encoding part, and a trainable part.\n",
    "\n",
    "<br />\n",
    "<img src=\"figures/7.png\" width=\"500\">\n",
    "<br />\n",
    "\n",
    "Here, we will use the `AngleEmbedding` template to load the data, and the `BasicEntanglingLayers` as the trainable part of the circuit."
   ]
  },
  {
   "cell_type": "code",
   "execution_count": 111,
   "metadata": {
    "colab": {
     "base_uri": "https://localhost:8080/"
    },
    "id": "qH4f8vYFI86n",
    "outputId": "f3a093cd-eaf1-41fd-ad56-6308ad16d1ad"
   },
   "outputs": [
    {
     "output_type": "execute_result",
     "data": {
      "text/plain": [
       "tensor(0.012023, requires_grad=True)"
      ]
     },
     "metadata": {},
     "execution_count": 111
    }
   ],
   "source": [
    "@qml.qnode(dev)\n",
    "def quantum_model(x, w):\n",
    "    qml.templates.AngleEmbedding(x, wires=[0, 1])\n",
    "    qml.templates.BasicEntanglerLayers(w, wires=[0, 1])\n",
    "    return qml.expval(qml.PauliZ(wires=0))\n",
    "\n",
    "\n",
    "x = np.array([0.1, 0.2], requires_grad=False)\n",
    "w = np.array([[-2.1, 1.2], [-1.4, -3.9], [0.5, 0.2]])\n",
    "\n",
    "quantum_model(x, w)"
   ]
  },
  {
   "cell_type": "markdown",
   "metadata": {
    "id": "I-TOEGNdsUNx"
   },
   "source": [
    "We can draw the circuit."
   ]
  },
  {
   "cell_type": "code",
   "execution_count": 34,
   "metadata": {
    "colab": {
     "base_uri": "https://localhost:8080/"
    },
    "id": "Ke03t-8ysP3V",
    "outputId": "ca963433-8af0-48ac-c281-85bdd1463ee2"
   },
   "outputs": [
    {
     "output_type": "stream",
     "name": "stdout",
     "text": [
      " 0: ──RX(0.1)──RX(-2.1)──╭C──RX(-1.4)──╭C──RX(0.5)──╭C──┤ ⟨Z⟩ \n 1: ──RX(0.2)──RX(1.2)───╰X──RX(-3.9)──╰X──RX(0.2)──╰X──┤     \n\n"
     ]
    }
   ],
   "source": [
    "print(quantum_model.draw())"
   ]
  },
  {
   "cell_type": "markdown",
   "metadata": {
    "id": "BSyTK18DI86n"
   },
   "source": [
    "The best thing is that by using PennyLane, we can easily compute its gradient!"
   ]
  },
  {
   "cell_type": "code",
   "execution_count": 35,
   "metadata": {
    "id": "TH2NCZFkI86n"
   },
   "outputs": [
    {
     "output_type": "execute_result",
     "data": {
      "text/plain": [
       "(array([[ 1.69541373e-01, -2.77555756e-17],\n",
       "        [ 6.97079563e-02, -5.37764278e-17],\n",
       "        [ 1.69541373e-01, -1.97324795e-17]]),)"
      ]
     },
     "metadata": {},
     "execution_count": 35
    }
   ],
   "source": [
    "gradient_fn = qml.grad(quantum_model)\n",
    "\n",
    "gradient_fn(x, w)"
   ]
  },
  {
   "cell_type": "markdown",
   "metadata": {
    "id": "aG3rOjcOI86o"
   },
   "source": [
    "This allows us to slot the quantum circuit into the machine learning example from the previous notebook."
   ]
  },
  {
   "cell_type": "markdown",
   "metadata": {
    "id": "EzByfrW4I86o"
   },
   "source": [
    "#  TASKS \n",
    "\n",
    "1. Copy and paste the code from the previous notebook to here and replace the classical model by \n",
    "   the `quantum_model` function. This will allow you to train the model!\n",
    "\n",
    "2. Add a bias term to the quantum model.\n",
    "\n",
    "3. Replace the hand-coded optimisation step by a native [PennyLane optimiser](https://pennylane.readthedocs.io/en/stable/introduction/optimizers.html).\n",
    "\n",
    "4. Rewrite the entire example in PyTorch. \n",
    "\n",
    "   Tipp: You must set the qnode to the correct interface via `@qml.qnode(dev, interface='tf')`."
   ]
  },
  {
   "cell_type": "code",
   "execution_count": 121,
   "metadata": {},
   "outputs": [
    {
     "output_type": "display_data",
     "data": {
      "text/plain": "<Figure size 432x288 with 1 Axes>",
      "image/svg+xml": "<?xml version=\"1.0\" encoding=\"utf-8\" standalone=\"no\"?>\n<!DOCTYPE svg PUBLIC \"-//W3C//DTD SVG 1.1//EN\"\n  \"http://www.w3.org/Graphics/SVG/1.1/DTD/svg11.dtd\">\n<!-- Created with matplotlib (https://matplotlib.org/) -->\n<svg height=\"248.518125pt\" version=\"1.1\" viewBox=\"0 0 370.942187 248.518125\" width=\"370.942187pt\" xmlns=\"http://www.w3.org/2000/svg\" xmlns:xlink=\"http://www.w3.org/1999/xlink\">\n <metadata>\n  <rdf:RDF xmlns:cc=\"http://creativecommons.org/ns#\" xmlns:dc=\"http://purl.org/dc/elements/1.1/\" xmlns:rdf=\"http://www.w3.org/1999/02/22-rdf-syntax-ns#\">\n   <cc:Work>\n    <dc:type rdf:resource=\"http://purl.org/dc/dcmitype/StillImage\"/>\n    <dc:date>2021-02-05T00:43:26.090753</dc:date>\n    <dc:format>image/svg+xml</dc:format>\n    <dc:creator>\n     <cc:Agent>\n      <dc:title>Matplotlib v3.3.3, https://matplotlib.org/</dc:title>\n     </cc:Agent>\n    </dc:creator>\n   </cc:Work>\n  </rdf:RDF>\n </metadata>\n <defs>\n  <style type=\"text/css\">*{stroke-linecap:butt;stroke-linejoin:round;}</style>\n </defs>\n <g id=\"figure_1\">\n  <g id=\"patch_1\">\n   <path d=\"M 0 248.518125 \nL 370.942187 248.518125 \nL 370.942187 0 \nL 0 0 \nz\n\" style=\"fill:none;\"/>\n  </g>\n  <g id=\"axes_1\">\n   <g id=\"patch_2\">\n    <path d=\"M 28.942188 224.64 \nL 363.742188 224.64 \nL 363.742188 7.2 \nL 28.942188 7.2 \nz\n\" style=\"fill:#ffffff;\"/>\n   </g>\n   <g id=\"PathCollection_1\">\n    <defs>\n     <path d=\"M 0 3 \nC 0.795609 3 1.55874 2.683901 2.12132 2.12132 \nC 2.683901 1.55874 3 0.795609 3 0 \nC 3 -0.795609 2.683901 -1.55874 2.12132 -2.12132 \nC 1.55874 -2.683901 0.795609 -3 0 -3 \nC -0.795609 -3 -1.55874 -2.683901 -2.12132 -2.12132 \nC -2.683901 -1.55874 -3 -0.795609 -3 0 \nC -3 0.795609 -2.683901 1.55874 -2.12132 2.12132 \nC -1.55874 2.683901 -0.795609 3 0 3 \nz\n\" id=\"mb1167a8019\" style=\"stroke:#1f77b4;\"/>\n    </defs>\n    <g clip-path=\"url(#p349ce46abd)\">\n     <use style=\"fill:#1f77b4;stroke:#1f77b4;\" x=\"158.07929\" xlink:href=\"#mb1167a8019\" y=\"67.353505\"/>\n     <use style=\"fill:#1f77b4;stroke:#1f77b4;\" x=\"143.152913\" xlink:href=\"#mb1167a8019\" y=\"55.164755\"/>\n     <use style=\"fill:#1f77b4;stroke:#1f77b4;\" x=\"129.03315\" xlink:href=\"#mb1167a8019\" y=\"115.252621\"/>\n     <use style=\"fill:#1f77b4;stroke:#1f77b4;\" x=\"106.827681\" xlink:href=\"#mb1167a8019\" y=\"90.391739\"/>\n     <use style=\"fill:#1f77b4;stroke:#1f77b4;\" x=\"205.357113\" xlink:href=\"#mb1167a8019\" y=\"101.529895\"/>\n     <use style=\"fill:#1f77b4;stroke:#1f77b4;\" x=\"126.837628\" xlink:href=\"#mb1167a8019\" y=\"49.137888\"/>\n     <use style=\"fill:#1f77b4;stroke:#1f77b4;\" x=\"104.255233\" xlink:href=\"#mb1167a8019\" y=\"138.199546\"/>\n     <use style=\"fill:#1f77b4;stroke:#1f77b4;\" x=\"76.99665\" xlink:href=\"#mb1167a8019\" y=\"59.935909\"/>\n     <use style=\"fill:#1f77b4;stroke:#1f77b4;\" x=\"76.989316\" xlink:href=\"#mb1167a8019\" y=\"126.02479\"/>\n     <use style=\"fill:#1f77b4;stroke:#1f77b4;\" x=\"181.802299\" xlink:href=\"#mb1167a8019\" y=\"164.506364\"/>\n     <use style=\"fill:#1f77b4;stroke:#1f77b4;\" x=\"122.93338\" xlink:href=\"#mb1167a8019\" y=\"75.866881\"/>\n     <use style=\"fill:#1f77b4;stroke:#1f77b4;\" x=\"134.846102\" xlink:href=\"#mb1167a8019\" y=\"72.392977\"/>\n     <use style=\"fill:#1f77b4;stroke:#1f77b4;\" x=\"127.234205\" xlink:href=\"#mb1167a8019\" y=\"74.767961\"/>\n     <use style=\"fill:#1f77b4;stroke:#1f77b4;\" x=\"122.416985\" xlink:href=\"#mb1167a8019\" y=\"120.584543\"/>\n     <use style=\"fill:#1f77b4;stroke:#1f77b4;\" x=\"180.412878\" xlink:href=\"#mb1167a8019\" y=\"97.019308\"/>\n     <use style=\"fill:#1f77b4;stroke:#1f77b4;\" x=\"127.806596\" xlink:href=\"#mb1167a8019\" y=\"79.623448\"/>\n     <use style=\"fill:#1f77b4;stroke:#1f77b4;\" x=\"147.665921\" xlink:href=\"#mb1167a8019\" y=\"53.036507\"/>\n     <use style=\"fill:#1f77b4;stroke:#1f77b4;\" x=\"122.31684\" xlink:href=\"#mb1167a8019\" y=\"76.445844\"/>\n     <use style=\"fill:#1f77b4;stroke:#1f77b4;\" x=\"106.830053\" xlink:href=\"#mb1167a8019\" y=\"67.65457\"/>\n     <use style=\"fill:#1f77b4;stroke:#1f77b4;\" x=\"166.007886\" xlink:href=\"#mb1167a8019\" y=\"113.313284\"/>\n     <use style=\"fill:#1f77b4;stroke:#1f77b4;\" x=\"200.235966\" xlink:href=\"#mb1167a8019\" y=\"93.85154\"/>\n     <use style=\"fill:#1f77b4;stroke:#1f77b4;\" x=\"173.334021\" xlink:href=\"#mb1167a8019\" y=\"79.973906\"/>\n     <use style=\"fill:#1f77b4;stroke:#1f77b4;\" x=\"84.899508\" xlink:href=\"#mb1167a8019\" y=\"87.393214\"/>\n     <use style=\"fill:#1f77b4;stroke:#1f77b4;\" x=\"153.617695\" xlink:href=\"#mb1167a8019\" y=\"17.083636\"/>\n     <use style=\"fill:#1f77b4;stroke:#1f77b4;\" x=\"238.154103\" xlink:href=\"#mb1167a8019\" y=\"43.000181\"/>\n     <use style=\"fill:#1f77b4;stroke:#1f77b4;\" x=\"170.74605\" xlink:href=\"#mb1167a8019\" y=\"83.861538\"/>\n     <use style=\"fill:#1f77b4;stroke:#1f77b4;\" x=\"124.914025\" xlink:href=\"#mb1167a8019\" y=\"136.202367\"/>\n     <use style=\"fill:#1f77b4;stroke:#1f77b4;\" x=\"169.547724\" xlink:href=\"#mb1167a8019\" y=\"126.19515\"/>\n     <use style=\"fill:#1f77b4;stroke:#1f77b4;\" x=\"185.679971\" xlink:href=\"#mb1167a8019\" y=\"101.075925\"/>\n     <use style=\"fill:#1f77b4;stroke:#1f77b4;\" x=\"188.755056\" xlink:href=\"#mb1167a8019\" y=\"66.003743\"/>\n     <use style=\"fill:#1f77b4;stroke:#1f77b4;\" x=\"67.611919\" xlink:href=\"#mb1167a8019\" y=\"79.197166\"/>\n     <use style=\"fill:#1f77b4;stroke:#1f77b4;\" x=\"113.476752\" xlink:href=\"#mb1167a8019\" y=\"101.903052\"/>\n     <use style=\"fill:#1f77b4;stroke:#1f77b4;\" x=\"90.557144\" xlink:href=\"#mb1167a8019\" y=\"85.405526\"/>\n     <use style=\"fill:#1f77b4;stroke:#1f77b4;\" x=\"80.617032\" xlink:href=\"#mb1167a8019\" y=\"101.364689\"/>\n     <use style=\"fill:#1f77b4;stroke:#1f77b4;\" x=\"198.294035\" xlink:href=\"#mb1167a8019\" y=\"48.898532\"/>\n     <use style=\"fill:#1f77b4;stroke:#1f77b4;\" x=\"134.826075\" xlink:href=\"#mb1167a8019\" y=\"81.666555\"/>\n     <use style=\"fill:#1f77b4;stroke:#1f77b4;\" x=\"180.511849\" xlink:href=\"#mb1167a8019\" y=\"146.059606\"/>\n     <use style=\"fill:#1f77b4;stroke:#1f77b4;\" x=\"47.533173\" xlink:href=\"#mb1167a8019\" y=\"118.966698\"/>\n     <use style=\"fill:#1f77b4;stroke:#1f77b4;\" x=\"110.208523\" xlink:href=\"#mb1167a8019\" y=\"61.604306\"/>\n     <use style=\"fill:#1f77b4;stroke:#1f77b4;\" x=\"149.566506\" xlink:href=\"#mb1167a8019\" y=\"37.964204\"/>\n     <use style=\"fill:#1f77b4;stroke:#1f77b4;\" x=\"150.77224\" xlink:href=\"#mb1167a8019\" y=\"71.737008\"/>\n     <use style=\"fill:#1f77b4;stroke:#1f77b4;\" x=\"188.674517\" xlink:href=\"#mb1167a8019\" y=\"107.753663\"/>\n     <use style=\"fill:#1f77b4;stroke:#1f77b4;\" x=\"122.024458\" xlink:href=\"#mb1167a8019\" y=\"109.511338\"/>\n     <use style=\"fill:#1f77b4;stroke:#1f77b4;\" x=\"244.124951\" xlink:href=\"#mb1167a8019\" y=\"51.038626\"/>\n     <use style=\"fill:#1f77b4;stroke:#1f77b4;\" x=\"151.381678\" xlink:href=\"#mb1167a8019\" y=\"85.643254\"/>\n     <use style=\"fill:#1f77b4;stroke:#1f77b4;\" x=\"69.595243\" xlink:href=\"#mb1167a8019\" y=\"90.684421\"/>\n     <use style=\"fill:#1f77b4;stroke:#1f77b4;\" x=\"44.160369\" xlink:href=\"#mb1167a8019\" y=\"99.548304\"/>\n     <use style=\"fill:#1f77b4;stroke:#1f77b4;\" x=\"210.198955\" xlink:href=\"#mb1167a8019\" y=\"78.633572\"/>\n     <use style=\"fill:#1f77b4;stroke:#1f77b4;\" x=\"166.299071\" xlink:href=\"#mb1167a8019\" y=\"54.789729\"/>\n     <use style=\"fill:#1f77b4;stroke:#1f77b4;\" x=\"79.947524\" xlink:href=\"#mb1167a8019\" y=\"45.297612\"/>\n    </g>\n   </g>\n   <g id=\"PathCollection_2\">\n    <defs>\n     <path d=\"M 0 3 \nC 0.795609 3 1.55874 2.683901 2.12132 2.12132 \nC 2.683901 1.55874 3 0.795609 3 0 \nC 3 -0.795609 2.683901 -1.55874 2.12132 -2.12132 \nC 1.55874 -2.683901 0.795609 -3 0 -3 \nC -0.795609 -3 -1.55874 -2.683901 -2.12132 -2.12132 \nC -2.683901 -1.55874 -3 -0.795609 -3 0 \nC -3 0.795609 -2.683901 1.55874 -2.12132 2.12132 \nC -1.55874 2.683901 -0.795609 3 0 3 \nz\n\" id=\"mc5a7946fbe\" style=\"stroke:#ff7f0e;\"/>\n    </defs>\n    <g clip-path=\"url(#p349ce46abd)\">\n     <use style=\"fill:#ff7f0e;stroke:#ff7f0e;\" x=\"264.972401\" xlink:href=\"#mc5a7946fbe\" y=\"159.062934\"/>\n     <use style=\"fill:#ff7f0e;stroke:#ff7f0e;\" x=\"272.709817\" xlink:href=\"#mc5a7946fbe\" y=\"195.857205\"/>\n     <use style=\"fill:#ff7f0e;stroke:#ff7f0e;\" x=\"296.793011\" xlink:href=\"#mc5a7946fbe\" y=\"192.536921\"/>\n     <use style=\"fill:#ff7f0e;stroke:#ff7f0e;\" x=\"269.247213\" xlink:href=\"#mc5a7946fbe\" y=\"157.240772\"/>\n     <use style=\"fill:#ff7f0e;stroke:#ff7f0e;\" x=\"255.525624\" xlink:href=\"#mc5a7946fbe\" y=\"175.247873\"/>\n     <use style=\"fill:#ff7f0e;stroke:#ff7f0e;\" x=\"227.07749\" xlink:href=\"#mc5a7946fbe\" y=\"158.069226\"/>\n     <use style=\"fill:#ff7f0e;stroke:#ff7f0e;\" x=\"205.52279\" xlink:href=\"#mc5a7946fbe\" y=\"126.332093\"/>\n     <use style=\"fill:#ff7f0e;stroke:#ff7f0e;\" x=\"170.736445\" xlink:href=\"#mc5a7946fbe\" y=\"112.945019\"/>\n     <use style=\"fill:#ff7f0e;stroke:#ff7f0e;\" x=\"248.575952\" xlink:href=\"#mc5a7946fbe\" y=\"109.913727\"/>\n     <use style=\"fill:#ff7f0e;stroke:#ff7f0e;\" x=\"278.411223\" xlink:href=\"#mc5a7946fbe\" y=\"124.74385\"/>\n     <use style=\"fill:#ff7f0e;stroke:#ff7f0e;\" x=\"235.445503\" xlink:href=\"#mc5a7946fbe\" y=\"152.631308\"/>\n     <use style=\"fill:#ff7f0e;stroke:#ff7f0e;\" x=\"244.965151\" xlink:href=\"#mc5a7946fbe\" y=\"122.362832\"/>\n     <use style=\"fill:#ff7f0e;stroke:#ff7f0e;\" x=\"340.987604\" xlink:href=\"#mc5a7946fbe\" y=\"187.563388\"/>\n     <use style=\"fill:#ff7f0e;stroke:#ff7f0e;\" x=\"313.007886\" xlink:href=\"#mc5a7946fbe\" y=\"171.228572\"/>\n     <use style=\"fill:#ff7f0e;stroke:#ff7f0e;\" x=\"218.625426\" xlink:href=\"#mc5a7946fbe\" y=\"133.278971\"/>\n     <use style=\"fill:#ff7f0e;stroke:#ff7f0e;\" x=\"231.799984\" xlink:href=\"#mc5a7946fbe\" y=\"104.026973\"/>\n     <use style=\"fill:#ff7f0e;stroke:#ff7f0e;\" x=\"219.441922\" xlink:href=\"#mc5a7946fbe\" y=\"153.641694\"/>\n     <use style=\"fill:#ff7f0e;stroke:#ff7f0e;\" x=\"152.329548\" xlink:href=\"#mc5a7946fbe\" y=\"176.438689\"/>\n     <use style=\"fill:#ff7f0e;stroke:#ff7f0e;\" x=\"202.647377\" xlink:href=\"#mc5a7946fbe\" y=\"144.197902\"/>\n     <use style=\"fill:#ff7f0e;stroke:#ff7f0e;\" x=\"205.427952\" xlink:href=\"#mc5a7946fbe\" y=\"214.756364\"/>\n     <use style=\"fill:#ff7f0e;stroke:#ff7f0e;\" x=\"295.764798\" xlink:href=\"#mc5a7946fbe\" y=\"137.002468\"/>\n     <use style=\"fill:#ff7f0e;stroke:#ff7f0e;\" x=\"268.878665\" xlink:href=\"#mc5a7946fbe\" y=\"158.127107\"/>\n     <use style=\"fill:#ff7f0e;stroke:#ff7f0e;\" x=\"263.487527\" xlink:href=\"#mc5a7946fbe\" y=\"75.462257\"/>\n     <use style=\"fill:#ff7f0e;stroke:#ff7f0e;\" x=\"138.024355\" xlink:href=\"#mc5a7946fbe\" y=\"108.016696\"/>\n     <use style=\"fill:#ff7f0e;stroke:#ff7f0e;\" x=\"320.869483\" xlink:href=\"#mc5a7946fbe\" y=\"205.348924\"/>\n     <use style=\"fill:#ff7f0e;stroke:#ff7f0e;\" x=\"182.096629\" xlink:href=\"#mc5a7946fbe\" y=\"156.797191\"/>\n     <use style=\"fill:#ff7f0e;stroke:#ff7f0e;\" x=\"348.524006\" xlink:href=\"#mc5a7946fbe\" y=\"101.93375\"/>\n     <use style=\"fill:#ff7f0e;stroke:#ff7f0e;\" x=\"276.869698\" xlink:href=\"#mc5a7946fbe\" y=\"149.461338\"/>\n     <use style=\"fill:#ff7f0e;stroke:#ff7f0e;\" x=\"248.341176\" xlink:href=\"#mc5a7946fbe\" y=\"121.927712\"/>\n     <use style=\"fill:#ff7f0e;stroke:#ff7f0e;\" x=\"230.183317\" xlink:href=\"#mc5a7946fbe\" y=\"166.969435\"/>\n     <use style=\"fill:#ff7f0e;stroke:#ff7f0e;\" x=\"228.741439\" xlink:href=\"#mc5a7946fbe\" y=\"106.295145\"/>\n     <use style=\"fill:#ff7f0e;stroke:#ff7f0e;\" x=\"251.534059\" xlink:href=\"#mc5a7946fbe\" y=\"154.088699\"/>\n     <use style=\"fill:#ff7f0e;stroke:#ff7f0e;\" x=\"267.478252\" xlink:href=\"#mc5a7946fbe\" y=\"160.266501\"/>\n     <use style=\"fill:#ff7f0e;stroke:#ff7f0e;\" x=\"237.442978\" xlink:href=\"#mc5a7946fbe\" y=\"155.500372\"/>\n     <use style=\"fill:#ff7f0e;stroke:#ff7f0e;\" x=\"274.01078\" xlink:href=\"#mc5a7946fbe\" y=\"172.567924\"/>\n     <use style=\"fill:#ff7f0e;stroke:#ff7f0e;\" x=\"202.60062\" xlink:href=\"#mc5a7946fbe\" y=\"107.687269\"/>\n     <use style=\"fill:#ff7f0e;stroke:#ff7f0e;\" x=\"259.73789\" xlink:href=\"#mc5a7946fbe\" y=\"175.384267\"/>\n     <use style=\"fill:#ff7f0e;stroke:#ff7f0e;\" x=\"218.939318\" xlink:href=\"#mc5a7946fbe\" y=\"179.180501\"/>\n     <use style=\"fill:#ff7f0e;stroke:#ff7f0e;\" x=\"222.331534\" xlink:href=\"#mc5a7946fbe\" y=\"170.682635\"/>\n     <use style=\"fill:#ff7f0e;stroke:#ff7f0e;\" x=\"208.267844\" xlink:href=\"#mc5a7946fbe\" y=\"174.988625\"/>\n     <use style=\"fill:#ff7f0e;stroke:#ff7f0e;\" x=\"245.655522\" xlink:href=\"#mc5a7946fbe\" y=\"210.07531\"/>\n     <use style=\"fill:#ff7f0e;stroke:#ff7f0e;\" x=\"276.350782\" xlink:href=\"#mc5a7946fbe\" y=\"102.038469\"/>\n     <use style=\"fill:#ff7f0e;stroke:#ff7f0e;\" x=\"240.182864\" xlink:href=\"#mc5a7946fbe\" y=\"207.270935\"/>\n     <use style=\"fill:#ff7f0e;stroke:#ff7f0e;\" x=\"192.682301\" xlink:href=\"#mc5a7946fbe\" y=\"103.929823\"/>\n     <use style=\"fill:#ff7f0e;stroke:#ff7f0e;\" x=\"208.238235\" xlink:href=\"#mc5a7946fbe\" y=\"164.953266\"/>\n     <use style=\"fill:#ff7f0e;stroke:#ff7f0e;\" x=\"222.702047\" xlink:href=\"#mc5a7946fbe\" y=\"200.873634\"/>\n     <use style=\"fill:#ff7f0e;stroke:#ff7f0e;\" x=\"227.167812\" xlink:href=\"#mc5a7946fbe\" y=\"159.212192\"/>\n     <use style=\"fill:#ff7f0e;stroke:#ff7f0e;\" x=\"235.765068\" xlink:href=\"#mc5a7946fbe\" y=\"189.190734\"/>\n     <use style=\"fill:#ff7f0e;stroke:#ff7f0e;\" x=\"183.312647\" xlink:href=\"#mc5a7946fbe\" y=\"143.348313\"/>\n     <use style=\"fill:#ff7f0e;stroke:#ff7f0e;\" x=\"220.855752\" xlink:href=\"#mc5a7946fbe\" y=\"106.736498\"/>\n    </g>\n   </g>\n   <g id=\"matplotlib.axis_1\">\n    <g id=\"xtick_1\">\n     <g id=\"line2d_1\">\n      <defs>\n       <path d=\"M 0 0 \nL 0 3.5 \n\" id=\"md27772ada2\" style=\"stroke:#000000;stroke-width:0.8;\"/>\n      </defs>\n      <g>\n       <use style=\"stroke:#000000;stroke-width:0.8;\" x=\"46.752866\" xlink:href=\"#md27772ada2\" y=\"224.64\"/>\n      </g>\n     </g>\n     <g id=\"text_1\">\n      <!-- −3 -->\n      <g transform=\"translate(39.381772 239.238437)scale(0.1 -0.1)\">\n       <defs>\n        <path d=\"M 10.59375 35.5 \nL 73.1875 35.5 \nL 73.1875 27.203125 \nL 10.59375 27.203125 \nz\n\" id=\"DejaVuSans-8722\"/>\n        <path d=\"M 40.578125 39.3125 \nQ 47.65625 37.796875 51.625 33 \nQ 55.609375 28.21875 55.609375 21.1875 \nQ 55.609375 10.40625 48.1875 4.484375 \nQ 40.765625 -1.421875 27.09375 -1.421875 \nQ 22.515625 -1.421875 17.65625 -0.515625 \nQ 12.796875 0.390625 7.625 2.203125 \nL 7.625 11.71875 \nQ 11.71875 9.328125 16.59375 8.109375 \nQ 21.484375 6.890625 26.8125 6.890625 \nQ 36.078125 6.890625 40.9375 10.546875 \nQ 45.796875 14.203125 45.796875 21.1875 \nQ 45.796875 27.640625 41.28125 31.265625 \nQ 36.765625 34.90625 28.71875 34.90625 \nL 20.21875 34.90625 \nL 20.21875 43.015625 \nL 29.109375 43.015625 \nQ 36.375 43.015625 40.234375 45.921875 \nQ 44.09375 48.828125 44.09375 54.296875 \nQ 44.09375 59.90625 40.109375 62.90625 \nQ 36.140625 65.921875 28.71875 65.921875 \nQ 24.65625 65.921875 20.015625 65.03125 \nQ 15.375 64.15625 9.8125 62.3125 \nL 9.8125 71.09375 \nQ 15.4375 72.65625 20.34375 73.4375 \nQ 25.25 74.21875 29.59375 74.21875 \nQ 40.828125 74.21875 47.359375 69.109375 \nQ 53.90625 64.015625 53.90625 55.328125 \nQ 53.90625 49.265625 50.4375 45.09375 \nQ 46.96875 40.921875 40.578125 39.3125 \nz\n\" id=\"DejaVuSans-51\"/>\n       </defs>\n       <use xlink:href=\"#DejaVuSans-8722\"/>\n       <use x=\"83.789062\" xlink:href=\"#DejaVuSans-51\"/>\n      </g>\n     </g>\n    </g>\n    <g id=\"xtick_2\">\n     <g id=\"line2d_2\">\n      <g>\n       <use style=\"stroke:#000000;stroke-width:0.8;\" x=\"93.239973\" xlink:href=\"#md27772ada2\" y=\"224.64\"/>\n      </g>\n     </g>\n     <g id=\"text_2\">\n      <!-- −2 -->\n      <g transform=\"translate(85.86888 239.238437)scale(0.1 -0.1)\">\n       <defs>\n        <path d=\"M 19.1875 8.296875 \nL 53.609375 8.296875 \nL 53.609375 0 \nL 7.328125 0 \nL 7.328125 8.296875 \nQ 12.9375 14.109375 22.625 23.890625 \nQ 32.328125 33.6875 34.8125 36.53125 \nQ 39.546875 41.84375 41.421875 45.53125 \nQ 43.3125 49.21875 43.3125 52.78125 \nQ 43.3125 58.59375 39.234375 62.25 \nQ 35.15625 65.921875 28.609375 65.921875 \nQ 23.96875 65.921875 18.8125 64.3125 \nQ 13.671875 62.703125 7.8125 59.421875 \nL 7.8125 69.390625 \nQ 13.765625 71.78125 18.9375 73 \nQ 24.125 74.21875 28.421875 74.21875 \nQ 39.75 74.21875 46.484375 68.546875 \nQ 53.21875 62.890625 53.21875 53.421875 \nQ 53.21875 48.921875 51.53125 44.890625 \nQ 49.859375 40.875 45.40625 35.40625 \nQ 44.1875 33.984375 37.640625 27.21875 \nQ 31.109375 20.453125 19.1875 8.296875 \nz\n\" id=\"DejaVuSans-50\"/>\n       </defs>\n       <use xlink:href=\"#DejaVuSans-8722\"/>\n       <use x=\"83.789062\" xlink:href=\"#DejaVuSans-50\"/>\n      </g>\n     </g>\n    </g>\n    <g id=\"xtick_3\">\n     <g id=\"line2d_3\">\n      <g>\n       <use style=\"stroke:#000000;stroke-width:0.8;\" x=\"139.727081\" xlink:href=\"#md27772ada2\" y=\"224.64\"/>\n      </g>\n     </g>\n     <g id=\"text_3\">\n      <!-- −1 -->\n      <g transform=\"translate(132.355988 239.238437)scale(0.1 -0.1)\">\n       <defs>\n        <path d=\"M 12.40625 8.296875 \nL 28.515625 8.296875 \nL 28.515625 63.921875 \nL 10.984375 60.40625 \nL 10.984375 69.390625 \nL 28.421875 72.90625 \nL 38.28125 72.90625 \nL 38.28125 8.296875 \nL 54.390625 8.296875 \nL 54.390625 0 \nL 12.40625 0 \nz\n\" id=\"DejaVuSans-49\"/>\n       </defs>\n       <use xlink:href=\"#DejaVuSans-8722\"/>\n       <use x=\"83.789062\" xlink:href=\"#DejaVuSans-49\"/>\n      </g>\n     </g>\n    </g>\n    <g id=\"xtick_4\">\n     <g id=\"line2d_4\">\n      <g>\n       <use style=\"stroke:#000000;stroke-width:0.8;\" x=\"186.214189\" xlink:href=\"#md27772ada2\" y=\"224.64\"/>\n      </g>\n     </g>\n     <g id=\"text_4\">\n      <!-- 0 -->\n      <g transform=\"translate(183.032939 239.238437)scale(0.1 -0.1)\">\n       <defs>\n        <path d=\"M 31.78125 66.40625 \nQ 24.171875 66.40625 20.328125 58.90625 \nQ 16.5 51.421875 16.5 36.375 \nQ 16.5 21.390625 20.328125 13.890625 \nQ 24.171875 6.390625 31.78125 6.390625 \nQ 39.453125 6.390625 43.28125 13.890625 \nQ 47.125 21.390625 47.125 36.375 \nQ 47.125 51.421875 43.28125 58.90625 \nQ 39.453125 66.40625 31.78125 66.40625 \nz\nM 31.78125 74.21875 \nQ 44.046875 74.21875 50.515625 64.515625 \nQ 56.984375 54.828125 56.984375 36.375 \nQ 56.984375 17.96875 50.515625 8.265625 \nQ 44.046875 -1.421875 31.78125 -1.421875 \nQ 19.53125 -1.421875 13.0625 8.265625 \nQ 6.59375 17.96875 6.59375 36.375 \nQ 6.59375 54.828125 13.0625 64.515625 \nQ 19.53125 74.21875 31.78125 74.21875 \nz\n\" id=\"DejaVuSans-48\"/>\n       </defs>\n       <use xlink:href=\"#DejaVuSans-48\"/>\n      </g>\n     </g>\n    </g>\n    <g id=\"xtick_5\">\n     <g id=\"line2d_5\">\n      <g>\n       <use style=\"stroke:#000000;stroke-width:0.8;\" x=\"232.701297\" xlink:href=\"#md27772ada2\" y=\"224.64\"/>\n      </g>\n     </g>\n     <g id=\"text_5\">\n      <!-- 1 -->\n      <g transform=\"translate(229.520047 239.238437)scale(0.1 -0.1)\">\n       <use xlink:href=\"#DejaVuSans-49\"/>\n      </g>\n     </g>\n    </g>\n    <g id=\"xtick_6\">\n     <g id=\"line2d_6\">\n      <g>\n       <use style=\"stroke:#000000;stroke-width:0.8;\" x=\"279.188405\" xlink:href=\"#md27772ada2\" y=\"224.64\"/>\n      </g>\n     </g>\n     <g id=\"text_6\">\n      <!-- 2 -->\n      <g transform=\"translate(276.007155 239.238437)scale(0.1 -0.1)\">\n       <use xlink:href=\"#DejaVuSans-50\"/>\n      </g>\n     </g>\n    </g>\n    <g id=\"xtick_7\">\n     <g id=\"line2d_7\">\n      <g>\n       <use style=\"stroke:#000000;stroke-width:0.8;\" x=\"325.675513\" xlink:href=\"#md27772ada2\" y=\"224.64\"/>\n      </g>\n     </g>\n     <g id=\"text_7\">\n      <!-- 3 -->\n      <g transform=\"translate(322.494263 239.238437)scale(0.1 -0.1)\">\n       <use xlink:href=\"#DejaVuSans-51\"/>\n      </g>\n     </g>\n    </g>\n   </g>\n   <g id=\"matplotlib.axis_2\">\n    <g id=\"ytick_1\">\n     <g id=\"line2d_8\">\n      <defs>\n       <path d=\"M 0 0 \nL -3.5 0 \n\" id=\"mdf89e0be43\" style=\"stroke:#000000;stroke-width:0.8;\"/>\n      </defs>\n      <g>\n       <use style=\"stroke:#000000;stroke-width:0.8;\" x=\"28.942188\" xlink:href=\"#mdf89e0be43\" y=\"204.977869\"/>\n      </g>\n     </g>\n     <g id=\"text_8\">\n      <!-- −3 -->\n      <g transform=\"translate(7.2 208.777087)scale(0.1 -0.1)\">\n       <use xlink:href=\"#DejaVuSans-8722\"/>\n       <use x=\"83.789062\" xlink:href=\"#DejaVuSans-51\"/>\n      </g>\n     </g>\n    </g>\n    <g id=\"ytick_2\">\n     <g id=\"line2d_9\">\n      <g>\n       <use style=\"stroke:#000000;stroke-width:0.8;\" x=\"28.942188\" xlink:href=\"#mdf89e0be43\" y=\"173.855043\"/>\n      </g>\n     </g>\n     <g id=\"text_9\">\n      <!-- −2 -->\n      <g transform=\"translate(7.2 177.654261)scale(0.1 -0.1)\">\n       <use xlink:href=\"#DejaVuSans-8722\"/>\n       <use x=\"83.789062\" xlink:href=\"#DejaVuSans-50\"/>\n      </g>\n     </g>\n    </g>\n    <g id=\"ytick_3\">\n     <g id=\"line2d_10\">\n      <g>\n       <use style=\"stroke:#000000;stroke-width:0.8;\" x=\"28.942188\" xlink:href=\"#mdf89e0be43\" y=\"142.732217\"/>\n      </g>\n     </g>\n     <g id=\"text_10\">\n      <!-- −1 -->\n      <g transform=\"translate(7.2 146.531435)scale(0.1 -0.1)\">\n       <use xlink:href=\"#DejaVuSans-8722\"/>\n       <use x=\"83.789062\" xlink:href=\"#DejaVuSans-49\"/>\n      </g>\n     </g>\n    </g>\n    <g id=\"ytick_4\">\n     <g id=\"line2d_11\">\n      <g>\n       <use style=\"stroke:#000000;stroke-width:0.8;\" x=\"28.942188\" xlink:href=\"#mdf89e0be43\" y=\"111.609391\"/>\n      </g>\n     </g>\n     <g id=\"text_11\">\n      <!-- 0 -->\n      <g transform=\"translate(15.579688 115.40861)scale(0.1 -0.1)\">\n       <use xlink:href=\"#DejaVuSans-48\"/>\n      </g>\n     </g>\n    </g>\n    <g id=\"ytick_5\">\n     <g id=\"line2d_12\">\n      <g>\n       <use style=\"stroke:#000000;stroke-width:0.8;\" x=\"28.942188\" xlink:href=\"#mdf89e0be43\" y=\"80.486565\"/>\n      </g>\n     </g>\n     <g id=\"text_12\">\n      <!-- 1 -->\n      <g transform=\"translate(15.579688 84.285784)scale(0.1 -0.1)\">\n       <use xlink:href=\"#DejaVuSans-49\"/>\n      </g>\n     </g>\n    </g>\n    <g id=\"ytick_6\">\n     <g id=\"line2d_13\">\n      <g>\n       <use style=\"stroke:#000000;stroke-width:0.8;\" x=\"28.942188\" xlink:href=\"#mdf89e0be43\" y=\"49.363739\"/>\n      </g>\n     </g>\n     <g id=\"text_13\">\n      <!-- 2 -->\n      <g transform=\"translate(15.579688 53.162958)scale(0.1 -0.1)\">\n       <use xlink:href=\"#DejaVuSans-50\"/>\n      </g>\n     </g>\n    </g>\n    <g id=\"ytick_7\">\n     <g id=\"line2d_14\">\n      <g>\n       <use style=\"stroke:#000000;stroke-width:0.8;\" x=\"28.942188\" xlink:href=\"#mdf89e0be43\" y=\"18.240913\"/>\n      </g>\n     </g>\n     <g id=\"text_14\">\n      <!-- 3 -->\n      <g transform=\"translate(15.579688 22.040132)scale(0.1 -0.1)\">\n       <use xlink:href=\"#DejaVuSans-51\"/>\n      </g>\n     </g>\n    </g>\n   </g>\n   <g id=\"patch_3\">\n    <path d=\"M 28.942188 224.64 \nL 28.942188 7.2 \n\" style=\"fill:none;stroke:#000000;stroke-linecap:square;stroke-linejoin:miter;stroke-width:0.8;\"/>\n   </g>\n   <g id=\"patch_4\">\n    <path d=\"M 363.742188 224.64 \nL 363.742188 7.2 \n\" style=\"fill:none;stroke:#000000;stroke-linecap:square;stroke-linejoin:miter;stroke-width:0.8;\"/>\n   </g>\n   <g id=\"patch_5\">\n    <path d=\"M 28.942188 224.64 \nL 363.742188 224.64 \n\" style=\"fill:none;stroke:#000000;stroke-linecap:square;stroke-linejoin:miter;stroke-width:0.8;\"/>\n   </g>\n   <g id=\"patch_6\">\n    <path d=\"M 28.942188 7.2 \nL 363.742188 7.2 \n\" style=\"fill:none;stroke:#000000;stroke-linecap:square;stroke-linejoin:miter;stroke-width:0.8;\"/>\n   </g>\n  </g>\n </g>\n <defs>\n  <clipPath id=\"p349ce46abd\">\n   <rect height=\"217.44\" width=\"334.8\" x=\"28.942188\" y=\"7.2\"/>\n  </clipPath>\n </defs>\n</svg>\n",
      "image/png": "[encoded data removed]"
     },
     "metadata": {
      "needs_background": "light"
     }
    }
   ],
   "source": [
    "n_samples = 100\n",
    "X0 = np.array([[np.random.normal(loc=-1, scale=1), \n",
    "                np.random.normal(loc=1, scale=1)] for i in range(n_samples//2)]) \n",
    "X1 = np.array([[np.random.normal(loc=1, scale=1), \n",
    "                np.random.normal(loc=-1, scale=1)] for i in range(n_samples//2)]) \n",
    "X = np.concatenate([X0, X1], axis=0)\n",
    "Y = np.concatenate([-np.ones(50), np.ones(50)], axis=0)\n",
    "data = list(zip(X, Y))\n",
    "\n",
    "\n",
    "plt.scatter(X0[:,0], X0[:,1])\n",
    "plt.scatter(X1[:,0], X1[:,1])\n",
    "plt.show()"
   ]
  },
  {
   "cell_type": "code",
   "execution_count": null,
   "metadata": {},
   "outputs": [],
   "source": [
    "@qml.qnode(dev)\n",
    "def quantum_model(x, w):\n",
    "    qml.templates.AngleEmbedding(x, wires=[0, 1])\n",
    "    for weight in w:\n",
    "        qml.templates.BasicEntanglerLayers(weight, wires=[0, 1])\n",
    "    return qml.expval(qml.PauliZ(wires=0))"
   ]
  },
  {
   "cell_type": "code",
   "execution_count": 122,
   "metadata": {
    "id": "3tXR6ygNI86o"
   },
   "outputs": [],
   "source": [
    "def model_with_bias(x, w, b):\n",
    "    x = quantum_model(x, w)\n",
    "    return x + b\n",
    "\n",
    "def loss(a, b):\n",
    "    return (a - b)**2\n",
    "\n",
    "def cost(w, b, data):\n",
    "    c = 0\n",
    "    for x, y in data:\n",
    "        prediction = model_with_bias(x, w, b)\n",
    "        c += loss(prediction, y)\n",
    "    return c/len(data)"
   ]
  },
  {
   "cell_type": "code",
   "execution_count": 150,
   "metadata": {},
   "outputs": [
    {
     "output_type": "stream",
     "name": "stdout",
     "text": [
      "[array([[0.02487647, 0.29881819],\n",
      "       [0.44669609, 0.44567676]]), array([0.34862004])]\n",
      "\n",
      "Iter:     0 | Cost: 2.0007505\n",
      "\n",
      "[array([[-0.04932312,  0.29881819],\n",
      "       [ 0.52152628,  0.44567676]]), array([0.27536252])]\n",
      "\n",
      "Iter:     1 | Cost: 1.7329435\n",
      "\n",
      "[array([[-0.11270006,  0.29881819],\n",
      "       [ 0.58607393,  0.44567676]]), array([0.21403463])]\n",
      "\n",
      "Iter:     2 | Cost: 1.5485587\n",
      "\n",
      "[array([[-0.16990542,  0.29881819],\n",
      "       [ 0.64481152,  0.44567676]]), array([0.16005507])]\n",
      "\n",
      "Iter:     3 | Cost: 1.4036841\n",
      "\n",
      "[array([[-0.22302165,  0.29881819],\n",
      "       [ 0.69960155,  0.44567676]]), array([0.11137444])]\n",
      "\n",
      "Iter:     4 | Cost: 1.2846057\n",
      "\n",
      "[array([[-0.27315021,  0.29881819],\n",
      "       [ 0.75129557,  0.44567676]]), array([0.06690526])]\n",
      "\n",
      "Iter:     5 | Cost: 1.1850938\n",
      "\n",
      "[array([[-0.32092873,  0.29881819],\n",
      "       [ 0.80025488,  0.44567676]]), array([0.02601232])]\n",
      "\n",
      "Iter:     6 | Cost: 1.1017078\n",
      "\n",
      "[array([[-0.36674549,  0.29881819],\n",
      "       [ 0.84656735,  0.44567676]]), array([-0.01169795])]\n",
      "\n",
      "Iter:     7 | Cost: 1.0322440\n",
      "\n",
      "[array([[-0.41084349,  0.29881819],\n",
      "       [ 0.89015427,  0.44567676]]), array([-0.04647921])]\n",
      "\n",
      "Iter:     8 | Cost: 0.9750812\n",
      "\n",
      "[array([[-0.4533769 ,  0.29881819],\n",
      "       [ 0.93083139,  0.44567676]]), array([-0.07850004])]\n",
      "\n",
      "Iter:     9 | Cost: 0.9288609\n",
      "\n",
      "[array([[-0.45748367,  0.29881819],\n",
      "       [ 0.93458316,  0.44567676]]), array([-0.08143766])]\n",
      "\n",
      "Iter:     0 | Cost: 0.8923203\n",
      "\n",
      "[array([[-0.4614689 ,  0.29881819],\n",
      "       [ 0.93805544,  0.44567676]]), array([-0.0841438])]\n",
      "\n",
      "Iter:     1 | Cost: 0.8892183\n",
      "\n",
      "[array([[-0.46535289,  0.29881819],\n",
      "       [ 0.94127783,  0.44567676]]), array([-0.08664546])]\n",
      "\n",
      "Iter:     2 | Cost: 0.8863059\n",
      "\n",
      "[array([[-0.46915239,  0.29881819],\n",
      "       [ 0.94427477,  0.44567676]]), array([-0.08896515])]\n",
      "\n",
      "Iter:     3 | Cost: 0.8835543\n",
      "\n",
      "[array([[-0.47288142,  0.29881819],\n",
      "       [ 0.94706673,  0.44567676]]), array([-0.09112193])]\n",
      "\n",
      "Iter:     4 | Cost: 0.8809400\n",
      "\n",
      "[array([[-0.47655183,  0.29881819],\n",
      "       [ 0.94967104,  0.44567676]]), array([-0.09313208])]\n",
      "\n",
      "Iter:     5 | Cost: 0.8784436\n",
      "\n",
      "[array([[-0.48017377,  0.29881819],\n",
      "       [ 0.95210255,  0.44567676]]), array([-0.09500972])]\n",
      "\n",
      "Iter:     6 | Cost: 0.8760489\n",
      "\n",
      "[array([[-0.48375601,  0.29881819],\n",
      "       [ 0.95437406,  0.44567676]]), array([-0.09676714])]\n",
      "\n",
      "Iter:     7 | Cost: 0.8737419\n",
      "\n",
      "[array([[-0.48730615,  0.29881819],\n",
      "       [ 0.95649668,  0.44567676]]), array([-0.09841516])]\n",
      "\n",
      "Iter:     8 | Cost: 0.8715109\n",
      "\n",
      "[array([[-0.49083085,  0.29881819],\n",
      "       [ 0.95848013,  0.44567676]]), array([-0.09996336])]\n",
      "\n",
      "Iter:     9 | Cost: 0.8693459\n",
      "\n",
      "[array([[-0.49433594,  0.29881819],\n",
      "       [ 0.96033295,  0.44567676]]), array([-0.10142027])]\n",
      "\n",
      "Iter:    10 | Cost: 0.8672381\n",
      "\n",
      "[array([[-0.49782661,  0.29881819],\n",
      "       [ 0.96206266,  0.44567676]]), array([-0.1027935])]\n",
      "\n",
      "Iter:    11 | Cost: 0.8651799\n",
      "\n",
      "[array([[-0.50130741,  0.29881819],\n",
      "       [ 0.96367592,  0.44567676]]), array([-0.1040899])]\n",
      "\n",
      "Iter:    12 | Cost: 0.8631646\n",
      "\n",
      "[array([[-0.50478241,  0.29881819],\n",
      "       [ 0.96517865,  0.44567676]]), array([-0.10531565])]\n",
      "\n",
      "Iter:    13 | Cost: 0.8611864\n",
      "\n",
      "[array([[-0.50825523,  0.29881819],\n",
      "       [ 0.96657609,  0.44567676]]), array([-0.10647633])]\n",
      "\n",
      "Iter:    14 | Cost: 0.8592401\n",
      "\n",
      "[array([[-0.5117291 ,  0.29881819],\n",
      "       [ 0.96787294,  0.44567676]]), array([-0.107577])]\n",
      "\n",
      "Iter:    15 | Cost: 0.8573211\n",
      "\n",
      "[array([[-0.51520692,  0.29881819],\n",
      "       [ 0.96907338,  0.44567676]]), array([-0.10862226])]\n",
      "\n",
      "Iter:    16 | Cost: 0.8554254\n",
      "\n",
      "[array([[-0.51869127,  0.29881819],\n",
      "       [ 0.97018113,  0.44567676]]), array([-0.10961631])]\n",
      "\n",
      "Iter:    17 | Cost: 0.8535495\n",
      "\n",
      "[array([[-0.52218447,  0.29881819],\n",
      "       [ 0.97119954,  0.44567676]]), array([-0.11056297])]\n",
      "\n",
      "Iter:    18 | Cost: 0.8516899\n",
      "\n",
      "[array([[-0.5256886 ,  0.29881819],\n",
      "       [ 0.97213158,  0.44567676]]), array([-0.11146573])]\n",
      "\n",
      "Iter:    19 | Cost: 0.8498439\n",
      "\n",
      "[array([[-0.52920552,  0.29881819],\n",
      "       [ 0.97297991,  0.44567676]]), array([-0.11232781])]\n",
      "\n",
      "Iter:    20 | Cost: 0.8480088\n",
      "\n",
      "[array([[-0.53273691,  0.29881819],\n",
      "       [ 0.97374693,  0.44567676]]), array([-0.11315213])]\n",
      "\n",
      "Iter:    21 | Cost: 0.8461824\n",
      "\n",
      "[array([[-0.53628426,  0.29881819],\n",
      "       [ 0.97443474,  0.44567676]]), array([-0.11394138])]\n",
      "\n",
      "Iter:    22 | Cost: 0.8443624\n",
      "\n",
      "[array([[-0.53984892,  0.29881819],\n",
      "       [ 0.97504525,  0.44567676]]), array([-0.11469804])]\n",
      "\n",
      "Iter:    23 | Cost: 0.8425469\n",
      "\n",
      "[array([[-0.5434321 ,  0.29881819],\n",
      "       [ 0.97558015,  0.44567676]]), array([-0.11542437])]\n",
      "\n",
      "Iter:    24 | Cost: 0.8407342\n",
      "\n",
      "[array([[-0.54703487,  0.29881819],\n",
      "       [ 0.97604093,  0.44567676]]), array([-0.11612246])]\n",
      "\n",
      "Iter:    25 | Cost: 0.8389228\n",
      "\n",
      "[array([[-0.55065819,  0.29881819],\n",
      "       [ 0.97642893,  0.44567676]]), array([-0.11679423])]\n",
      "\n",
      "Iter:    26 | Cost: 0.8371111\n",
      "\n",
      "[array([[-0.55430293,  0.29881819],\n",
      "       [ 0.97674534,  0.44567676]]), array([-0.11744146])]\n",
      "\n",
      "Iter:    27 | Cost: 0.8352979\n",
      "\n",
      "[array([[-0.55796986,  0.29881819],\n",
      "       [ 0.97699121,  0.44567676]]), array([-0.11806576])]\n",
      "\n",
      "Iter:    28 | Cost: 0.8334819\n",
      "\n",
      "[array([[-0.56165965,  0.29881819],\n",
      "       [ 0.97716746,  0.44567676]]), array([-0.11866865])]\n",
      "\n",
      "Iter:    29 | Cost: 0.8316621\n",
      "\n"
     ]
    }
   ],
   "source": [
    "num_layers = 3\n",
    "w_init = 0.01 * np.random.random(size=(num_layers,2))) # 2 qubits / wires\n",
    "b_init = np.random.random(size=(1,))\n",
    "\n",
    "history = []\n",
    "optimizer = qml.AdamOptimizer(0.1)\n",
    "var = [w_init, b_init]\n",
    "for i in range(10):\n",
    "    var, _cost = optimizer.step_and_cost(lambda var: cost(var[0], var[1], data), var)\n",
    "    print(var)\n",
    "    print(\"\\nIter: {:5d} | Cost: {:0.7f}\\n\".format(i, _cost[0]))\n",
    "    history.append(var)\n",
    "optimizer.update_stepsize(0.01)\n",
    "for i in range(30):\n",
    "    var, _cost = optimizer.step_and_cost(lambda var: cost(var[0], var[1], data), var)\n",
    "    print(var)\n",
    "    print(\"\\nIter: {:5d} | Cost: {:0.7f}\\n\".format(i, _cost[0]))\n",
    "    history.append(var)"
   ]
  },
  {
   "cell_type": "code",
   "execution_count": null,
   "metadata": {},
   "outputs": [],
   "source": [
    "num_layers = 3\n",
    "w_init = 0.01 * np.random.random(size=(num_layers,2))) # 2 qubits / wires\n",
    "b_init = np.random.random(size=(1,))\n",
    "\n",
    "var = (w_init, b_init)\n",
    "opt = NesterovMomentumOptimizer(0.5)\n",
    "batch_size = 5\n",
    "for it in range(25):\n",
    "\n",
    "    # Update the weights by one optimizer step\n",
    "    batch_index = np.random.randint(0, len(X), (batch_size,))\n",
    "    X_batch = X[batch_index]\n",
    "    Y_batch = Y[batch_index]\n",
    "    var, _cost = opt.step_and_cost(lambda v: cost(v, X_batch, Y_batch), var)\n",
    "\n",
    "    print(\"Iter: {:5d} | Cost: {:0.7f}\".format(it + 1, _cost))"
   ]
  },
  {
   "cell_type": "code",
   "execution_count": 151,
   "metadata": {},
   "outputs": [
    {
     "output_type": "stream",
     "name": "stdout",
     "text": [
      "[array([[-0.56165965,  0.29881819],\n       [ 0.97716746,  0.44567676]]), array([-0.11866865])]\n[-0.56165965  0.97716746]\n"
     ]
    },
    {
     "output_type": "display_data",
     "data": {
      "text/plain": "<Figure size 432x288 with 1 Axes>",
      "image/svg+xml": "<?xml version=\"1.0\" encoding=\"utf-8\" standalone=\"no\"?>\n<!DOCTYPE svg PUBLIC \"-//W3C//DTD SVG 1.1//EN\"\n  \"http://www.w3.org/Graphics/SVG/1.1/DTD/svg11.dtd\">\n<!-- Created with matplotlib (https://matplotlib.org/) -->\n<svg height=\"248.518125pt\" version=\"1.1\" viewBox=\"0 0 370.942187 248.518125\" width=\"370.942187pt\" xmlns=\"http://www.w3.org/2000/svg\" xmlns:xlink=\"http://www.w3.org/1999/xlink\">\n <metadata>\n  <rdf:RDF xmlns:cc=\"http://creativecommons.org/ns#\" xmlns:dc=\"http://purl.org/dc/elements/1.1/\" xmlns:rdf=\"http://www.w3.org/1999/02/22-rdf-syntax-ns#\">\n   <cc:Work>\n    <dc:type rdf:resource=\"http://purl.org/dc/dcmitype/StillImage\"/>\n    <dc:date>2021-02-05T01:05:04.971245</dc:date>\n    <dc:format>image/svg+xml</dc:format>\n    <dc:creator>\n     <cc:Agent>\n      <dc:title>Matplotlib v3.3.3, https://matplotlib.org/</dc:title>\n     </cc:Agent>\n    </dc:creator>\n   </cc:Work>\n  </rdf:RDF>\n </metadata>\n <defs>\n  <style type=\"text/css\">*{stroke-linecap:butt;stroke-linejoin:round;}</style>\n </defs>\n <g id=\"figure_1\">\n  <g id=\"patch_1\">\n   <path d=\"M 0 248.518125 \nL 370.942187 248.518125 \nL 370.942187 0 \nL 0 0 \nz\n\" style=\"fill:none;\"/>\n  </g>\n  <g id=\"axes_1\">\n   <g id=\"patch_2\">\n    <path d=\"M 28.942188 224.64 \nL 363.742188 224.64 \nL 363.742188 7.2 \nL 28.942188 7.2 \nz\n\" style=\"fill:#ffffff;\"/>\n   </g>\n   <g id=\"PathCollection_1\">\n    <defs>\n     <path d=\"M 0 3 \nC 0.795609 3 1.55874 2.683901 2.12132 2.12132 \nC 2.683901 1.55874 3 0.795609 3 0 \nC 3 -0.795609 2.683901 -1.55874 2.12132 -2.12132 \nC 1.55874 -2.683901 0.795609 -3 0 -3 \nC -0.795609 -3 -1.55874 -2.683901 -2.12132 -2.12132 \nC -2.683901 -1.55874 -3 -0.795609 -3 0 \nC -3 0.795609 -2.683901 1.55874 -2.12132 2.12132 \nC -1.55874 2.683901 -0.795609 3 0 3 \nz\n\" id=\"mc14b7e2820\" style=\"stroke:#1f77b4;\"/>\n    </defs>\n    <g clip-path=\"url(#pcd28f7cb11)\">\n     <use style=\"fill:#1f77b4;stroke:#1f77b4;\" x=\"158.07929\" xlink:href=\"#mc14b7e2820\" y=\"67.353505\"/>\n     <use style=\"fill:#1f77b4;stroke:#1f77b4;\" x=\"143.152913\" xlink:href=\"#mc14b7e2820\" y=\"55.164755\"/>\n     <use style=\"fill:#1f77b4;stroke:#1f77b4;\" x=\"129.03315\" xlink:href=\"#mc14b7e2820\" y=\"115.252621\"/>\n     <use style=\"fill:#1f77b4;stroke:#1f77b4;\" x=\"106.827681\" xlink:href=\"#mc14b7e2820\" y=\"90.391739\"/>\n     <use style=\"fill:#1f77b4;stroke:#1f77b4;\" x=\"205.357113\" xlink:href=\"#mc14b7e2820\" y=\"101.529895\"/>\n     <use style=\"fill:#1f77b4;stroke:#1f77b4;\" x=\"126.837628\" xlink:href=\"#mc14b7e2820\" y=\"49.137888\"/>\n     <use style=\"fill:#1f77b4;stroke:#1f77b4;\" x=\"104.255233\" xlink:href=\"#mc14b7e2820\" y=\"138.199546\"/>\n     <use style=\"fill:#1f77b4;stroke:#1f77b4;\" x=\"76.99665\" xlink:href=\"#mc14b7e2820\" y=\"59.935909\"/>\n     <use style=\"fill:#1f77b4;stroke:#1f77b4;\" x=\"76.989316\" xlink:href=\"#mc14b7e2820\" y=\"126.02479\"/>\n     <use style=\"fill:#1f77b4;stroke:#1f77b4;\" x=\"181.802299\" xlink:href=\"#mc14b7e2820\" y=\"164.506364\"/>\n     <use style=\"fill:#1f77b4;stroke:#1f77b4;\" x=\"122.93338\" xlink:href=\"#mc14b7e2820\" y=\"75.866881\"/>\n     <use style=\"fill:#1f77b4;stroke:#1f77b4;\" x=\"134.846102\" xlink:href=\"#mc14b7e2820\" y=\"72.392977\"/>\n     <use style=\"fill:#1f77b4;stroke:#1f77b4;\" x=\"127.234205\" xlink:href=\"#mc14b7e2820\" y=\"74.767961\"/>\n     <use style=\"fill:#1f77b4;stroke:#1f77b4;\" x=\"122.416985\" xlink:href=\"#mc14b7e2820\" y=\"120.584543\"/>\n     <use style=\"fill:#1f77b4;stroke:#1f77b4;\" x=\"180.412878\" xlink:href=\"#mc14b7e2820\" y=\"97.019308\"/>\n     <use style=\"fill:#1f77b4;stroke:#1f77b4;\" x=\"127.806596\" xlink:href=\"#mc14b7e2820\" y=\"79.623448\"/>\n     <use style=\"fill:#1f77b4;stroke:#1f77b4;\" x=\"147.665921\" xlink:href=\"#mc14b7e2820\" y=\"53.036507\"/>\n     <use style=\"fill:#1f77b4;stroke:#1f77b4;\" x=\"122.31684\" xlink:href=\"#mc14b7e2820\" y=\"76.445844\"/>\n     <use style=\"fill:#1f77b4;stroke:#1f77b4;\" x=\"106.830053\" xlink:href=\"#mc14b7e2820\" y=\"67.65457\"/>\n     <use style=\"fill:#1f77b4;stroke:#1f77b4;\" x=\"166.007886\" xlink:href=\"#mc14b7e2820\" y=\"113.313284\"/>\n     <use style=\"fill:#1f77b4;stroke:#1f77b4;\" x=\"200.235966\" xlink:href=\"#mc14b7e2820\" y=\"93.85154\"/>\n     <use style=\"fill:#1f77b4;stroke:#1f77b4;\" x=\"173.334021\" xlink:href=\"#mc14b7e2820\" y=\"79.973906\"/>\n     <use style=\"fill:#1f77b4;stroke:#1f77b4;\" x=\"84.899508\" xlink:href=\"#mc14b7e2820\" y=\"87.393214\"/>\n     <use style=\"fill:#1f77b4;stroke:#1f77b4;\" x=\"153.617695\" xlink:href=\"#mc14b7e2820\" y=\"17.083636\"/>\n     <use style=\"fill:#1f77b4;stroke:#1f77b4;\" x=\"238.154103\" xlink:href=\"#mc14b7e2820\" y=\"43.000181\"/>\n     <use style=\"fill:#1f77b4;stroke:#1f77b4;\" x=\"170.74605\" xlink:href=\"#mc14b7e2820\" y=\"83.861538\"/>\n     <use style=\"fill:#1f77b4;stroke:#1f77b4;\" x=\"124.914025\" xlink:href=\"#mc14b7e2820\" y=\"136.202367\"/>\n     <use style=\"fill:#1f77b4;stroke:#1f77b4;\" x=\"169.547724\" xlink:href=\"#mc14b7e2820\" y=\"126.19515\"/>\n     <use style=\"fill:#1f77b4;stroke:#1f77b4;\" x=\"185.679971\" xlink:href=\"#mc14b7e2820\" y=\"101.075925\"/>\n     <use style=\"fill:#1f77b4;stroke:#1f77b4;\" x=\"188.755056\" xlink:href=\"#mc14b7e2820\" y=\"66.003743\"/>\n     <use style=\"fill:#1f77b4;stroke:#1f77b4;\" x=\"67.611919\" xlink:href=\"#mc14b7e2820\" y=\"79.197166\"/>\n     <use style=\"fill:#1f77b4;stroke:#1f77b4;\" x=\"113.476752\" xlink:href=\"#mc14b7e2820\" y=\"101.903052\"/>\n     <use style=\"fill:#1f77b4;stroke:#1f77b4;\" x=\"90.557144\" xlink:href=\"#mc14b7e2820\" y=\"85.405526\"/>\n     <use style=\"fill:#1f77b4;stroke:#1f77b4;\" x=\"80.617032\" xlink:href=\"#mc14b7e2820\" y=\"101.364689\"/>\n     <use style=\"fill:#1f77b4;stroke:#1f77b4;\" x=\"198.294035\" xlink:href=\"#mc14b7e2820\" y=\"48.898532\"/>\n     <use style=\"fill:#1f77b4;stroke:#1f77b4;\" x=\"134.826075\" xlink:href=\"#mc14b7e2820\" y=\"81.666555\"/>\n     <use style=\"fill:#1f77b4;stroke:#1f77b4;\" x=\"180.511849\" xlink:href=\"#mc14b7e2820\" y=\"146.059606\"/>\n     <use style=\"fill:#1f77b4;stroke:#1f77b4;\" x=\"47.533173\" xlink:href=\"#mc14b7e2820\" y=\"118.966698\"/>\n     <use style=\"fill:#1f77b4;stroke:#1f77b4;\" x=\"110.208523\" xlink:href=\"#mc14b7e2820\" y=\"61.604306\"/>\n     <use style=\"fill:#1f77b4;stroke:#1f77b4;\" x=\"149.566506\" xlink:href=\"#mc14b7e2820\" y=\"37.964204\"/>\n     <use style=\"fill:#1f77b4;stroke:#1f77b4;\" x=\"150.77224\" xlink:href=\"#mc14b7e2820\" y=\"71.737008\"/>\n     <use style=\"fill:#1f77b4;stroke:#1f77b4;\" x=\"188.674517\" xlink:href=\"#mc14b7e2820\" y=\"107.753663\"/>\n     <use style=\"fill:#1f77b4;stroke:#1f77b4;\" x=\"122.024458\" xlink:href=\"#mc14b7e2820\" y=\"109.511338\"/>\n     <use style=\"fill:#1f77b4;stroke:#1f77b4;\" x=\"244.124951\" xlink:href=\"#mc14b7e2820\" y=\"51.038626\"/>\n     <use style=\"fill:#1f77b4;stroke:#1f77b4;\" x=\"151.381678\" xlink:href=\"#mc14b7e2820\" y=\"85.643254\"/>\n     <use style=\"fill:#1f77b4;stroke:#1f77b4;\" x=\"69.595243\" xlink:href=\"#mc14b7e2820\" y=\"90.684421\"/>\n     <use style=\"fill:#1f77b4;stroke:#1f77b4;\" x=\"44.160369\" xlink:href=\"#mc14b7e2820\" y=\"99.548304\"/>\n     <use style=\"fill:#1f77b4;stroke:#1f77b4;\" x=\"210.198955\" xlink:href=\"#mc14b7e2820\" y=\"78.633572\"/>\n     <use style=\"fill:#1f77b4;stroke:#1f77b4;\" x=\"166.299071\" xlink:href=\"#mc14b7e2820\" y=\"54.789729\"/>\n     <use style=\"fill:#1f77b4;stroke:#1f77b4;\" x=\"79.947524\" xlink:href=\"#mc14b7e2820\" y=\"45.297612\"/>\n    </g>\n   </g>\n   <g id=\"PathCollection_2\">\n    <defs>\n     <path d=\"M 0 3 \nC 0.795609 3 1.55874 2.683901 2.12132 2.12132 \nC 2.683901 1.55874 3 0.795609 3 0 \nC 3 -0.795609 2.683901 -1.55874 2.12132 -2.12132 \nC 1.55874 -2.683901 0.795609 -3 0 -3 \nC -0.795609 -3 -1.55874 -2.683901 -2.12132 -2.12132 \nC -2.683901 -1.55874 -3 -0.795609 -3 0 \nC -3 0.795609 -2.683901 1.55874 -2.12132 2.12132 \nC -1.55874 2.683901 -0.795609 3 0 3 \nz\n\" id=\"mfa3da21d34\" style=\"stroke:#ff7f0e;\"/>\n    </defs>\n    <g clip-path=\"url(#pcd28f7cb11)\">\n     <use style=\"fill:#ff7f0e;stroke:#ff7f0e;\" x=\"264.972401\" xlink:href=\"#mfa3da21d34\" y=\"159.062934\"/>\n     <use style=\"fill:#ff7f0e;stroke:#ff7f0e;\" x=\"272.709817\" xlink:href=\"#mfa3da21d34\" y=\"195.857205\"/>\n     <use style=\"fill:#ff7f0e;stroke:#ff7f0e;\" x=\"296.793011\" xlink:href=\"#mfa3da21d34\" y=\"192.536921\"/>\n     <use style=\"fill:#ff7f0e;stroke:#ff7f0e;\" x=\"269.247213\" xlink:href=\"#mfa3da21d34\" y=\"157.240772\"/>\n     <use style=\"fill:#ff7f0e;stroke:#ff7f0e;\" x=\"255.525624\" xlink:href=\"#mfa3da21d34\" y=\"175.247873\"/>\n     <use style=\"fill:#ff7f0e;stroke:#ff7f0e;\" x=\"227.07749\" xlink:href=\"#mfa3da21d34\" y=\"158.069226\"/>\n     <use style=\"fill:#ff7f0e;stroke:#ff7f0e;\" x=\"205.52279\" xlink:href=\"#mfa3da21d34\" y=\"126.332093\"/>\n     <use style=\"fill:#ff7f0e;stroke:#ff7f0e;\" x=\"170.736445\" xlink:href=\"#mfa3da21d34\" y=\"112.945019\"/>\n     <use style=\"fill:#ff7f0e;stroke:#ff7f0e;\" x=\"248.575952\" xlink:href=\"#mfa3da21d34\" y=\"109.913727\"/>\n     <use style=\"fill:#ff7f0e;stroke:#ff7f0e;\" x=\"278.411223\" xlink:href=\"#mfa3da21d34\" y=\"124.74385\"/>\n     <use style=\"fill:#ff7f0e;stroke:#ff7f0e;\" x=\"235.445503\" xlink:href=\"#mfa3da21d34\" y=\"152.631308\"/>\n     <use style=\"fill:#ff7f0e;stroke:#ff7f0e;\" x=\"244.965151\" xlink:href=\"#mfa3da21d34\" y=\"122.362832\"/>\n     <use style=\"fill:#ff7f0e;stroke:#ff7f0e;\" x=\"340.987604\" xlink:href=\"#mfa3da21d34\" y=\"187.563388\"/>\n     <use style=\"fill:#ff7f0e;stroke:#ff7f0e;\" x=\"313.007886\" xlink:href=\"#mfa3da21d34\" y=\"171.228572\"/>\n     <use style=\"fill:#ff7f0e;stroke:#ff7f0e;\" x=\"218.625426\" xlink:href=\"#mfa3da21d34\" y=\"133.278971\"/>\n     <use style=\"fill:#ff7f0e;stroke:#ff7f0e;\" x=\"231.799984\" xlink:href=\"#mfa3da21d34\" y=\"104.026973\"/>\n     <use style=\"fill:#ff7f0e;stroke:#ff7f0e;\" x=\"219.441922\" xlink:href=\"#mfa3da21d34\" y=\"153.641694\"/>\n     <use style=\"fill:#ff7f0e;stroke:#ff7f0e;\" x=\"152.329548\" xlink:href=\"#mfa3da21d34\" y=\"176.438689\"/>\n     <use style=\"fill:#ff7f0e;stroke:#ff7f0e;\" x=\"202.647377\" xlink:href=\"#mfa3da21d34\" y=\"144.197902\"/>\n     <use style=\"fill:#ff7f0e;stroke:#ff7f0e;\" x=\"205.427952\" xlink:href=\"#mfa3da21d34\" y=\"214.756364\"/>\n     <use style=\"fill:#ff7f0e;stroke:#ff7f0e;\" x=\"295.764798\" xlink:href=\"#mfa3da21d34\" y=\"137.002468\"/>\n     <use style=\"fill:#ff7f0e;stroke:#ff7f0e;\" x=\"268.878665\" xlink:href=\"#mfa3da21d34\" y=\"158.127107\"/>\n     <use style=\"fill:#ff7f0e;stroke:#ff7f0e;\" x=\"263.487527\" xlink:href=\"#mfa3da21d34\" y=\"75.462257\"/>\n     <use style=\"fill:#ff7f0e;stroke:#ff7f0e;\" x=\"138.024355\" xlink:href=\"#mfa3da21d34\" y=\"108.016696\"/>\n     <use style=\"fill:#ff7f0e;stroke:#ff7f0e;\" x=\"320.869483\" xlink:href=\"#mfa3da21d34\" y=\"205.348924\"/>\n     <use style=\"fill:#ff7f0e;stroke:#ff7f0e;\" x=\"182.096629\" xlink:href=\"#mfa3da21d34\" y=\"156.797191\"/>\n     <use style=\"fill:#ff7f0e;stroke:#ff7f0e;\" x=\"348.524006\" xlink:href=\"#mfa3da21d34\" y=\"101.93375\"/>\n     <use style=\"fill:#ff7f0e;stroke:#ff7f0e;\" x=\"276.869698\" xlink:href=\"#mfa3da21d34\" y=\"149.461338\"/>\n     <use style=\"fill:#ff7f0e;stroke:#ff7f0e;\" x=\"248.341176\" xlink:href=\"#mfa3da21d34\" y=\"121.927712\"/>\n     <use style=\"fill:#ff7f0e;stroke:#ff7f0e;\" x=\"230.183317\" xlink:href=\"#mfa3da21d34\" y=\"166.969435\"/>\n     <use style=\"fill:#ff7f0e;stroke:#ff7f0e;\" x=\"228.741439\" xlink:href=\"#mfa3da21d34\" y=\"106.295145\"/>\n     <use style=\"fill:#ff7f0e;stroke:#ff7f0e;\" x=\"251.534059\" xlink:href=\"#mfa3da21d34\" y=\"154.088699\"/>\n     <use style=\"fill:#ff7f0e;stroke:#ff7f0e;\" x=\"267.478252\" xlink:href=\"#mfa3da21d34\" y=\"160.266501\"/>\n     <use style=\"fill:#ff7f0e;stroke:#ff7f0e;\" x=\"237.442978\" xlink:href=\"#mfa3da21d34\" y=\"155.500372\"/>\n     <use style=\"fill:#ff7f0e;stroke:#ff7f0e;\" x=\"274.01078\" xlink:href=\"#mfa3da21d34\" y=\"172.567924\"/>\n     <use style=\"fill:#ff7f0e;stroke:#ff7f0e;\" x=\"202.60062\" xlink:href=\"#mfa3da21d34\" y=\"107.687269\"/>\n     <use style=\"fill:#ff7f0e;stroke:#ff7f0e;\" x=\"259.73789\" xlink:href=\"#mfa3da21d34\" y=\"175.384267\"/>\n     <use style=\"fill:#ff7f0e;stroke:#ff7f0e;\" x=\"218.939318\" xlink:href=\"#mfa3da21d34\" y=\"179.180501\"/>\n     <use style=\"fill:#ff7f0e;stroke:#ff7f0e;\" x=\"222.331534\" xlink:href=\"#mfa3da21d34\" y=\"170.682635\"/>\n     <use style=\"fill:#ff7f0e;stroke:#ff7f0e;\" x=\"208.267844\" xlink:href=\"#mfa3da21d34\" y=\"174.988625\"/>\n     <use style=\"fill:#ff7f0e;stroke:#ff7f0e;\" x=\"245.655522\" xlink:href=\"#mfa3da21d34\" y=\"210.07531\"/>\n     <use style=\"fill:#ff7f0e;stroke:#ff7f0e;\" x=\"276.350782\" xlink:href=\"#mfa3da21d34\" y=\"102.038469\"/>\n     <use style=\"fill:#ff7f0e;stroke:#ff7f0e;\" x=\"240.182864\" xlink:href=\"#mfa3da21d34\" y=\"207.270935\"/>\n     <use style=\"fill:#ff7f0e;stroke:#ff7f0e;\" x=\"192.682301\" xlink:href=\"#mfa3da21d34\" y=\"103.929823\"/>\n     <use style=\"fill:#ff7f0e;stroke:#ff7f0e;\" x=\"208.238235\" xlink:href=\"#mfa3da21d34\" y=\"164.953266\"/>\n     <use style=\"fill:#ff7f0e;stroke:#ff7f0e;\" x=\"222.702047\" xlink:href=\"#mfa3da21d34\" y=\"200.873634\"/>\n     <use style=\"fill:#ff7f0e;stroke:#ff7f0e;\" x=\"227.167812\" xlink:href=\"#mfa3da21d34\" y=\"159.212192\"/>\n     <use style=\"fill:#ff7f0e;stroke:#ff7f0e;\" x=\"235.765068\" xlink:href=\"#mfa3da21d34\" y=\"189.190734\"/>\n     <use style=\"fill:#ff7f0e;stroke:#ff7f0e;\" x=\"183.312647\" xlink:href=\"#mfa3da21d34\" y=\"143.348313\"/>\n     <use style=\"fill:#ff7f0e;stroke:#ff7f0e;\" x=\"220.855752\" xlink:href=\"#mfa3da21d34\" y=\"106.736498\"/>\n    </g>\n   </g>\n   <g id=\"patch_3\">\n    <path clip-path=\"url(#pcd28f7cb11)\" d=\"M 153.154481 73.102248 \nL 166.149817 78.870762 \nL 160.124409 81.189423 \nL 186.234341 111.601636 \nL 186.194037 111.617145 \nL 160.084105 81.204933 \nL 154.058696 83.523594 \nz\n\" style=\"fill:#ff0000;stroke:#ff0000;stroke-linejoin:miter;\"/>\n   </g>\n   <g id=\"matplotlib.axis_1\">\n    <g id=\"xtick_1\">\n     <g id=\"line2d_1\">\n      <defs>\n       <path d=\"M 0 0 \nL 0 3.5 \n\" id=\"mfffd08eb55\" style=\"stroke:#000000;stroke-width:0.8;\"/>\n      </defs>\n      <g>\n       <use style=\"stroke:#000000;stroke-width:0.8;\" x=\"46.752866\" xlink:href=\"#mfffd08eb55\" y=\"224.64\"/>\n      </g>\n     </g>\n     <g id=\"text_1\">\n      <!-- −3 -->\n      <g transform=\"translate(39.381772 239.238437)scale(0.1 -0.1)\">\n       <defs>\n        <path d=\"M 10.59375 35.5 \nL 73.1875 35.5 \nL 73.1875 27.203125 \nL 10.59375 27.203125 \nz\n\" id=\"DejaVuSans-8722\"/>\n        <path d=\"M 40.578125 39.3125 \nQ 47.65625 37.796875 51.625 33 \nQ 55.609375 28.21875 55.609375 21.1875 \nQ 55.609375 10.40625 48.1875 4.484375 \nQ 40.765625 -1.421875 27.09375 -1.421875 \nQ 22.515625 -1.421875 17.65625 -0.515625 \nQ 12.796875 0.390625 7.625 2.203125 \nL 7.625 11.71875 \nQ 11.71875 9.328125 16.59375 8.109375 \nQ 21.484375 6.890625 26.8125 6.890625 \nQ 36.078125 6.890625 40.9375 10.546875 \nQ 45.796875 14.203125 45.796875 21.1875 \nQ 45.796875 27.640625 41.28125 31.265625 \nQ 36.765625 34.90625 28.71875 34.90625 \nL 20.21875 34.90625 \nL 20.21875 43.015625 \nL 29.109375 43.015625 \nQ 36.375 43.015625 40.234375 45.921875 \nQ 44.09375 48.828125 44.09375 54.296875 \nQ 44.09375 59.90625 40.109375 62.90625 \nQ 36.140625 65.921875 28.71875 65.921875 \nQ 24.65625 65.921875 20.015625 65.03125 \nQ 15.375 64.15625 9.8125 62.3125 \nL 9.8125 71.09375 \nQ 15.4375 72.65625 20.34375 73.4375 \nQ 25.25 74.21875 29.59375 74.21875 \nQ 40.828125 74.21875 47.359375 69.109375 \nQ 53.90625 64.015625 53.90625 55.328125 \nQ 53.90625 49.265625 50.4375 45.09375 \nQ 46.96875 40.921875 40.578125 39.3125 \nz\n\" id=\"DejaVuSans-51\"/>\n       </defs>\n       <use xlink:href=\"#DejaVuSans-8722\"/>\n       <use x=\"83.789062\" xlink:href=\"#DejaVuSans-51\"/>\n      </g>\n     </g>\n    </g>\n    <g id=\"xtick_2\">\n     <g id=\"line2d_2\">\n      <g>\n       <use style=\"stroke:#000000;stroke-width:0.8;\" x=\"93.239973\" xlink:href=\"#mfffd08eb55\" y=\"224.64\"/>\n      </g>\n     </g>\n     <g id=\"text_2\">\n      <!-- −2 -->\n      <g transform=\"translate(85.86888 239.238437)scale(0.1 -0.1)\">\n       <defs>\n        <path d=\"M 19.1875 8.296875 \nL 53.609375 8.296875 \nL 53.609375 0 \nL 7.328125 0 \nL 7.328125 8.296875 \nQ 12.9375 14.109375 22.625 23.890625 \nQ 32.328125 33.6875 34.8125 36.53125 \nQ 39.546875 41.84375 41.421875 45.53125 \nQ 43.3125 49.21875 43.3125 52.78125 \nQ 43.3125 58.59375 39.234375 62.25 \nQ 35.15625 65.921875 28.609375 65.921875 \nQ 23.96875 65.921875 18.8125 64.3125 \nQ 13.671875 62.703125 7.8125 59.421875 \nL 7.8125 69.390625 \nQ 13.765625 71.78125 18.9375 73 \nQ 24.125 74.21875 28.421875 74.21875 \nQ 39.75 74.21875 46.484375 68.546875 \nQ 53.21875 62.890625 53.21875 53.421875 \nQ 53.21875 48.921875 51.53125 44.890625 \nQ 49.859375 40.875 45.40625 35.40625 \nQ 44.1875 33.984375 37.640625 27.21875 \nQ 31.109375 20.453125 19.1875 8.296875 \nz\n\" id=\"DejaVuSans-50\"/>\n       </defs>\n       <use xlink:href=\"#DejaVuSans-8722\"/>\n       <use x=\"83.789062\" xlink:href=\"#DejaVuSans-50\"/>\n      </g>\n     </g>\n    </g>\n    <g id=\"xtick_3\">\n     <g id=\"line2d_3\">\n      <g>\n       <use style=\"stroke:#000000;stroke-width:0.8;\" x=\"139.727081\" xlink:href=\"#mfffd08eb55\" y=\"224.64\"/>\n      </g>\n     </g>\n     <g id=\"text_3\">\n      <!-- −1 -->\n      <g transform=\"translate(132.355988 239.238437)scale(0.1 -0.1)\">\n       <defs>\n        <path d=\"M 12.40625 8.296875 \nL 28.515625 8.296875 \nL 28.515625 63.921875 \nL 10.984375 60.40625 \nL 10.984375 69.390625 \nL 28.421875 72.90625 \nL 38.28125 72.90625 \nL 38.28125 8.296875 \nL 54.390625 8.296875 \nL 54.390625 0 \nL 12.40625 0 \nz\n\" id=\"DejaVuSans-49\"/>\n       </defs>\n       <use xlink:href=\"#DejaVuSans-8722\"/>\n       <use x=\"83.789062\" xlink:href=\"#DejaVuSans-49\"/>\n      </g>\n     </g>\n    </g>\n    <g id=\"xtick_4\">\n     <g id=\"line2d_4\">\n      <g>\n       <use style=\"stroke:#000000;stroke-width:0.8;\" x=\"186.214189\" xlink:href=\"#mfffd08eb55\" y=\"224.64\"/>\n      </g>\n     </g>\n     <g id=\"text_4\">\n      <!-- 0 -->\n      <g transform=\"translate(183.032939 239.238437)scale(0.1 -0.1)\">\n       <defs>\n        <path d=\"M 31.78125 66.40625 \nQ 24.171875 66.40625 20.328125 58.90625 \nQ 16.5 51.421875 16.5 36.375 \nQ 16.5 21.390625 20.328125 13.890625 \nQ 24.171875 6.390625 31.78125 6.390625 \nQ 39.453125 6.390625 43.28125 13.890625 \nQ 47.125 21.390625 47.125 36.375 \nQ 47.125 51.421875 43.28125 58.90625 \nQ 39.453125 66.40625 31.78125 66.40625 \nz\nM 31.78125 74.21875 \nQ 44.046875 74.21875 50.515625 64.515625 \nQ 56.984375 54.828125 56.984375 36.375 \nQ 56.984375 17.96875 50.515625 8.265625 \nQ 44.046875 -1.421875 31.78125 -1.421875 \nQ 19.53125 -1.421875 13.0625 8.265625 \nQ 6.59375 17.96875 6.59375 36.375 \nQ 6.59375 54.828125 13.0625 64.515625 \nQ 19.53125 74.21875 31.78125 74.21875 \nz\n\" id=\"DejaVuSans-48\"/>\n       </defs>\n       <use xlink:href=\"#DejaVuSans-48\"/>\n      </g>\n     </g>\n    </g>\n    <g id=\"xtick_5\">\n     <g id=\"line2d_5\">\n      <g>\n       <use style=\"stroke:#000000;stroke-width:0.8;\" x=\"232.701297\" xlink:href=\"#mfffd08eb55\" y=\"224.64\"/>\n      </g>\n     </g>\n     <g id=\"text_5\">\n      <!-- 1 -->\n      <g transform=\"translate(229.520047 239.238437)scale(0.1 -0.1)\">\n       <use xlink:href=\"#DejaVuSans-49\"/>\n      </g>\n     </g>\n    </g>\n    <g id=\"xtick_6\">\n     <g id=\"line2d_6\">\n      <g>\n       <use style=\"stroke:#000000;stroke-width:0.8;\" x=\"279.188405\" xlink:href=\"#mfffd08eb55\" y=\"224.64\"/>\n      </g>\n     </g>\n     <g id=\"text_6\">\n      <!-- 2 -->\n      <g transform=\"translate(276.007155 239.238437)scale(0.1 -0.1)\">\n       <use xlink:href=\"#DejaVuSans-50\"/>\n      </g>\n     </g>\n    </g>\n    <g id=\"xtick_7\">\n     <g id=\"line2d_7\">\n      <g>\n       <use style=\"stroke:#000000;stroke-width:0.8;\" x=\"325.675513\" xlink:href=\"#mfffd08eb55\" y=\"224.64\"/>\n      </g>\n     </g>\n     <g id=\"text_7\">\n      <!-- 3 -->\n      <g transform=\"translate(322.494263 239.238437)scale(0.1 -0.1)\">\n       <use xlink:href=\"#DejaVuSans-51\"/>\n      </g>\n     </g>\n    </g>\n   </g>\n   <g id=\"matplotlib.axis_2\">\n    <g id=\"ytick_1\">\n     <g id=\"line2d_8\">\n      <defs>\n       <path d=\"M 0 0 \nL -3.5 0 \n\" id=\"m9b61cabfc5\" style=\"stroke:#000000;stroke-width:0.8;\"/>\n      </defs>\n      <g>\n       <use style=\"stroke:#000000;stroke-width:0.8;\" x=\"28.942188\" xlink:href=\"#m9b61cabfc5\" y=\"204.977869\"/>\n      </g>\n     </g>\n     <g id=\"text_8\">\n      <!-- −3 -->\n      <g transform=\"translate(7.2 208.777087)scale(0.1 -0.1)\">\n       <use xlink:href=\"#DejaVuSans-8722\"/>\n       <use x=\"83.789062\" xlink:href=\"#DejaVuSans-51\"/>\n      </g>\n     </g>\n    </g>\n    <g id=\"ytick_2\">\n     <g id=\"line2d_9\">\n      <g>\n       <use style=\"stroke:#000000;stroke-width:0.8;\" x=\"28.942188\" xlink:href=\"#m9b61cabfc5\" y=\"173.855043\"/>\n      </g>\n     </g>\n     <g id=\"text_9\">\n      <!-- −2 -->\n      <g transform=\"translate(7.2 177.654261)scale(0.1 -0.1)\">\n       <use xlink:href=\"#DejaVuSans-8722\"/>\n       <use x=\"83.789062\" xlink:href=\"#DejaVuSans-50\"/>\n      </g>\n     </g>\n    </g>\n    <g id=\"ytick_3\">\n     <g id=\"line2d_10\">\n      <g>\n       <use style=\"stroke:#000000;stroke-width:0.8;\" x=\"28.942188\" xlink:href=\"#m9b61cabfc5\" y=\"142.732217\"/>\n      </g>\n     </g>\n     <g id=\"text_10\">\n      <!-- −1 -->\n      <g transform=\"translate(7.2 146.531435)scale(0.1 -0.1)\">\n       <use xlink:href=\"#DejaVuSans-8722\"/>\n       <use x=\"83.789062\" xlink:href=\"#DejaVuSans-49\"/>\n      </g>\n     </g>\n    </g>\n    <g id=\"ytick_4\">\n     <g id=\"line2d_11\">\n      <g>\n       <use style=\"stroke:#000000;stroke-width:0.8;\" x=\"28.942188\" xlink:href=\"#m9b61cabfc5\" y=\"111.609391\"/>\n      </g>\n     </g>\n     <g id=\"text_11\">\n      <!-- 0 -->\n      <g transform=\"translate(15.579688 115.40861)scale(0.1 -0.1)\">\n       <use xlink:href=\"#DejaVuSans-48\"/>\n      </g>\n     </g>\n    </g>\n    <g id=\"ytick_5\">\n     <g id=\"line2d_12\">\n      <g>\n       <use style=\"stroke:#000000;stroke-width:0.8;\" x=\"28.942188\" xlink:href=\"#m9b61cabfc5\" y=\"80.486565\"/>\n      </g>\n     </g>\n     <g id=\"text_12\">\n      <!-- 1 -->\n      <g transform=\"translate(15.579688 84.285784)scale(0.1 -0.1)\">\n       <use xlink:href=\"#DejaVuSans-49\"/>\n      </g>\n     </g>\n    </g>\n    <g id=\"ytick_6\">\n     <g id=\"line2d_13\">\n      <g>\n       <use style=\"stroke:#000000;stroke-width:0.8;\" x=\"28.942188\" xlink:href=\"#m9b61cabfc5\" y=\"49.363739\"/>\n      </g>\n     </g>\n     <g id=\"text_13\">\n      <!-- 2 -->\n      <g transform=\"translate(15.579688 53.162958)scale(0.1 -0.1)\">\n       <use xlink:href=\"#DejaVuSans-50\"/>\n      </g>\n     </g>\n    </g>\n    <g id=\"ytick_7\">\n     <g id=\"line2d_14\">\n      <g>\n       <use style=\"stroke:#000000;stroke-width:0.8;\" x=\"28.942188\" xlink:href=\"#m9b61cabfc5\" y=\"18.240913\"/>\n      </g>\n     </g>\n     <g id=\"text_14\">\n      <!-- 3 -->\n      <g transform=\"translate(15.579688 22.040132)scale(0.1 -0.1)\">\n       <use xlink:href=\"#DejaVuSans-51\"/>\n      </g>\n     </g>\n    </g>\n   </g>\n   <g id=\"line2d_15\">\n    <path clip-path=\"url(#pcd28f7cb11)\" d=\"M 49.937121 164.050697 \nL 322.491257 59.168084 \n\" style=\"fill:none;stroke:#000000;stroke-linecap:square;stroke-width:1.5;\"/>\n   </g>\n   <g id=\"patch_4\">\n    <path d=\"M 28.942188 224.64 \nL 28.942188 7.2 \n\" style=\"fill:none;stroke:#000000;stroke-linecap:square;stroke-linejoin:miter;stroke-width:0.8;\"/>\n   </g>\n   <g id=\"patch_5\">\n    <path d=\"M 363.742188 224.64 \nL 363.742188 7.2 \n\" style=\"fill:none;stroke:#000000;stroke-linecap:square;stroke-linejoin:miter;stroke-width:0.8;\"/>\n   </g>\n   <g id=\"patch_6\">\n    <path d=\"M 28.942188 224.64 \nL 363.742188 224.64 \n\" style=\"fill:none;stroke:#000000;stroke-linecap:square;stroke-linejoin:miter;stroke-width:0.8;\"/>\n   </g>\n   <g id=\"patch_7\">\n    <path d=\"M 28.942188 7.2 \nL 363.742188 7.2 \n\" style=\"fill:none;stroke:#000000;stroke-linecap:square;stroke-linejoin:miter;stroke-width:0.8;\"/>\n   </g>\n  </g>\n </g>\n <defs>\n  <clipPath id=\"pcd28f7cb11\">\n   <rect height=\"217.44\" width=\"334.8\" x=\"28.942188\" y=\"7.2\"/>\n  </clipPath>\n </defs>\n</svg>\n",
      "image/png": "[encoded data removed]"
     },
     "metadata": {
      "needs_background": "light"
     }
    }
   ],
   "source": [
    "print(var)\n",
    "w = var[0].T[0]\n",
    "print(w)\n",
    "plt.scatter(X0[:,0], X0[:,1])\n",
    "plt.scatter(X1[:,0], X1[:,1])\n",
    "\n",
    "plt.arrow(0, 0, w[0], w[1], head_width=0.3, head_length=0.3, fc='r', ec='r')\n",
    "plt.plot([-3*w[1], 3*w[1]], [3*w[0], -3*w[0]], 'k-')\n",
    "plt.show()"
   ]
  },
  {
   "cell_type": "code",
   "execution_count": null,
   "metadata": {},
   "outputs": [],
   "source": []
  }
 ],
 "metadata": {
  "colab": {
   "collapsed_sections": [],
   "name": "2-differentiable-quantum-computing.ipynb",
   "provenance": []
  },
  "kernelspec": {
   "name": "python3",
   "display_name": "Python 3.8.7 64-bit ('q_env')",
   "metadata": {
    "interpreter": {
     "hash": "a69dfa62caa5d446970d07db3b8617ffbd9d32abe15879532a14e18aa1ccd8e1"
    }
   }
  },
  "language_info": {
   "codemirror_mode": {
    "name": "ipython",
    "version": 3
   },
   "file_extension": ".py",
   "mimetype": "text/x-python",
   "name": "python",
   "nbconvert_exporter": "python",
   "pygments_lexer": "ipython3",
   "version": "3.8.7-final"
  }
 },
 "nbformat": 4,
 "nbformat_minor": 1
}