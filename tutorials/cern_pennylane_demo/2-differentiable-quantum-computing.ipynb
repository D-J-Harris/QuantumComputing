{
 "cells": [
  {
   "cell_type": "markdown",
   "metadata": {
    "id": "ViJy_slwI86e"
   },
   "source": [
    "# Differentiable quantum computing with PennyLane\n",
    "\n",
    "In this tutorial we will:\n",
    "\n",
    "* learn step-by-step how quantum computations are implemented in PennyLane,\n",
    "* understand parameter-dependent quantum computations (\"variational circuits\"), \n",
    "* build our first quantum machine learning model, and\n",
    "* compute its gradient.\n",
    "\n",
    "We need the following imports:"
   ]
  },
  {
   "cell_type": "code",
   "execution_count": 1,
   "metadata": {
    "id": "gym_3cbziWfK"
   },
   "outputs": [],
   "source": [
    "import pennylane as qml\n",
    "from pennylane import numpy as np\n",
    "import matplotlib.pyplot as plt"
   ]
  },
  {
   "cell_type": "markdown",
   "metadata": {
    "id": "j0takToZI86f"
   },
   "source": [
    "## 1. Quantum nodes"
   ]
  },
  {
   "cell_type": "markdown",
   "metadata": {
    "id": "3u-3eEPchh3N"
   },
   "source": [
    "In PennyLane, a *quantum node* is a computational unit that involves the construction, evaluation, pre- and postprocessing of quantum computations.\n",
    "\n",
    "A quantum node consists of a *quantum function* that defines a circuit, as well as a *device* on which it is run. \n",
    "\n",
    "There is a growing [device ecosystem](https://pennylane.ai/plugins.html) which allows you to change only one line of code to dispatch your quantum computation to local simulators, remote simulators and remote hardware from different vendors.\n",
    "\n",
    "Here we will use the built-in `default.qubit` device."
   ]
  },
  {
   "cell_type": "code",
   "execution_count": 2,
   "metadata": {
    "id": "WfIzfl6hI86f"
   },
   "outputs": [],
   "source": [
    "dev = qml.device('default.qubit', wires=2)"
   ]
  },
  {
   "cell_type": "markdown",
   "metadata": {},
   "source": [
    "To combine the device with a quantum function to a quantum node we can use the `qml.qnode` decorator. The function can then be evaluated as if it was any other python function. Internally, it will construct a circuit and run it on the device."
   ]
  },
  {
   "cell_type": "code",
   "execution_count": 3,
   "metadata": {},
   "outputs": [
    {
     "output_type": "execute_result",
     "data": {
      "text/plain": [
       "tensor([0.5, 0. , 0.5, 0. ], requires_grad=True)"
      ]
     },
     "metadata": {},
     "execution_count": 3
    }
   ],
   "source": [
    "@qml.qnode(dev)\n",
    "def circuit():\n",
    "    qml.Hadamard(wires=0)\n",
    "    return qml.probs(wires=[0, 1])\n",
    "\n",
    "circuit()"
   ]
  },
  {
   "cell_type": "markdown",
   "metadata": {},
   "source": [
    "## 2. Building quantum circuits"
   ]
  },
  {
   "cell_type": "markdown",
   "metadata": {
    "id": "B7QxsiAdI86g"
   },
   "source": [
    "### The initial state\n",
    "\n",
    "<br />\n",
    "<img src=\"figures/1.png\" width=\"500\" height=\"100\">\n",
    "<br />\n",
    "\n",
    "The initial state has 100% probability to be measured in the \"0..0\" configuration. Let's see how we can verify this with PennyLane."
   ]
  },
  {
   "cell_type": "code",
   "execution_count": 4,
   "metadata": {
    "colab": {
     "base_uri": "https://localhost:8080/"
    },
    "id": "0uWBZqMsI86g",
    "outputId": "21f1e0c5-8dbe-4f81-f492-cf9a27a8958d"
   },
   "outputs": [
    {
     "output_type": "execute_result",
     "data": {
      "text/plain": [
       "tensor([1., 0., 0., 0.], requires_grad=True)"
      ]
     },
     "metadata": {},
     "execution_count": 4
    }
   ],
   "source": [
    "@qml.qnode(dev)\n",
    "def circuit():\n",
    "    return qml.probs(wires=[0, 1])\n",
    "\n",
    "circuit()"
   ]
  },
  {
   "cell_type": "markdown",
   "metadata": {
    "id": "4vYHmef8I86h"
   },
   "source": [
    "The internal state vector that we use to mathematically keep track of probabilities is complex-valued. Since `default.qubit` is a simulator we can have a look at the state, for example by checking the device's `state` attribute."
   ]
  },
  {
   "cell_type": "code",
   "execution_count": 5,
   "metadata": {
    "colab": {
     "base_uri": "https://localhost:8080/"
    },
    "id": "a3sx1keQI86h",
    "outputId": "0928e9a4-2676-4ef3-ff08-d598171b993e"
   },
   "outputs": [
    {
     "output_type": "execute_result",
     "data": {
      "text/plain": [
       "tensor([1.+0.j, 0.+0.j, 0.+0.j, 0.+0.j], requires_grad=True)"
      ]
     },
     "metadata": {},
     "execution_count": 5
    }
   ],
   "source": [
    "dev.state"
   ]
  },
  {
   "cell_type": "markdown",
   "metadata": {
    "id": "8T72-1F-I86i"
   },
   "source": [
    "### Unitary evolutions\n",
    "\n",
    "<br />\n",
    "<img src=\"figures/2.png\" width=\"500\">\n",
    "<br />\n",
    "\n",
    "Quantum circuits are represented by unitary matrices. We can evolve the initial state by an arbitrary unitrary matrix as follows:"
   ]
  },
  {
   "cell_type": "code",
   "execution_count": 6,
   "metadata": {
    "colab": {
     "base_uri": "https://localhost:8080/"
    },
    "id": "pR2xQvESI86i",
    "outputId": "3e307811-99e4-4632-8069-5baf84ca392a"
   },
   "outputs": [
    {
     "output_type": "execute_result",
     "data": {
      "text/plain": [
       "tensor([0. , 0.5, 0.5, 0. ], requires_grad=True)"
      ]
     },
     "metadata": {},
     "execution_count": 6
    }
   ],
   "source": [
    "s = 1/np.sqrt(2)\n",
    "U = np.array([[0., -s, 0.,  s],\n",
    "              [ s, 0., -s, 0.],\n",
    "              [ s, 0.,  s, 0.],\n",
    "              [0., -s, 0., -s]])\n",
    "\n",
    "@qml.qnode(dev)\n",
    "def circuit():\n",
    "    qml.QubitUnitary(U, wires=[0, 1])\n",
    "    return qml.probs(wires=[0, 1])\n",
    "\n",
    "circuit()"
   ]
  },
  {
   "cell_type": "markdown",
   "metadata": {
    "id": "y1Lz95Lvi4nh"
   },
   "source": [
    "The internal quantum state changed."
   ]
  },
  {
   "cell_type": "code",
   "execution_count": 7,
   "metadata": {
    "colab": {
     "base_uri": "https://localhost:8080/"
    },
    "id": "WGRCAysbI86i",
    "outputId": "63c1826b-56e3-4b20-c484-73ec0c20b436"
   },
   "outputs": [
    {
     "output_type": "execute_result",
     "data": {
      "text/plain": [
       "tensor([0.        +0.j, 0.70710678+0.j, 0.70710678+0.j, 0.        +0.j], requires_grad=True)"
      ]
     },
     "metadata": {},
     "execution_count": 7
    }
   ],
   "source": [
    "dev.state"
   ]
  },
  {
   "cell_type": "markdown",
   "metadata": {
    "id": "j5D8HN8nI86j"
   },
   "source": [
    "### Measurements sample outcomes from the distribution\n",
    "\n",
    "<br />\n",
    "<img src=\"figures/3.png\" width=\"500\">\n",
    "<br />\n",
    "\n",
    "The most common measurement takes samples $-1, 1$ from the \"Pauli-Z\" observable. The samples indicate if the qubit was measured in state $| 0 \\rangle$ or $| 1 \\rangle$."
   ]
  },
  {
   "cell_type": "code",
   "execution_count": 8,
   "metadata": {
    "colab": {
     "base_uri": "https://localhost:8080/"
    },
    "id": "BFFaTmh6I86j",
    "outputId": "fdcfafe5-9daa-46bf-ceb7-21359cefca3c"
   },
   "outputs": [
    {
     "output_type": "execute_result",
     "data": {
      "text/plain": [
       "tensor([[ 1, -1, -1, ..., -1, -1,  1],\n",
       "        [-1,  1,  1, ...,  1,  1, -1]], requires_grad=True)"
      ]
     },
     "metadata": {},
     "execution_count": 8
    }
   ],
   "source": [
    "@qml.qnode(dev)\n",
    "def circuit():\n",
    "    qml.QubitUnitary(U, wires=[0, 1])\n",
    "    return qml.sample(qml.PauliZ(wires=0)), qml.sample(qml.PauliZ(wires=1))\n",
    "\n",
    "circuit()"
   ]
  },
  {
   "cell_type": "markdown",
   "metadata": {
    "id": "SKNa1k2eixFC"
   },
   "source": [
    "The quantum state should be still the same as above."
   ]
  },
  {
   "cell_type": "code",
   "execution_count": 9,
   "metadata": {
    "colab": {
     "base_uri": "https://localhost:8080/"
    },
    "id": "kOpi8-62I86j",
    "outputId": "24a060bf-7fec-474c-f499-77a2baa5ba61"
   },
   "outputs": [
    {
     "output_type": "execute_result",
     "data": {
      "text/plain": [
       "tensor([0.        +0.j, 0.70710678+0.j, 0.70710678+0.j, 0.        +0.j], requires_grad=True)"
      ]
     },
     "metadata": {},
     "execution_count": 9
    }
   ],
   "source": [
    "dev.state"
   ]
  },
  {
   "cell_type": "markdown",
   "metadata": {
    "id": "BPSoH3ddI86k"
   },
   "source": [
    "### Computing expectation values \n",
    "\n",
    "<br />\n",
    "<img src=\"figures/4.png\" width=\"500\">\n",
    "<br />\n",
    "\n",
    "When we want outputs of computations to be deterministic, we often interpret the expected measurement outcome as the result. This value is estimated by taking lots of samples and averaging over them."
   ]
  },
  {
   "cell_type": "code",
   "execution_count": 10,
   "metadata": {
    "colab": {
     "base_uri": "https://localhost:8080/"
    },
    "id": "BTKPBpR3I86k",
    "outputId": "b1cd59c1-42b0-406c-87d7-73787a88e7bc"
   },
   "outputs": [
    {
     "output_type": "execute_result",
     "data": {
      "text/plain": [
       "tensor([0., 0.], requires_grad=True)"
      ]
     },
     "metadata": {},
     "execution_count": 10
    }
   ],
   "source": [
    "@qml.qnode(dev)\n",
    "def circuit():\n",
    "    qml.QubitUnitary(U, wires=[0, 1])\n",
    "    return qml.expval(qml.PauliZ(wires=0)), qml.expval(qml.PauliZ(wires=1))\n",
    "\n",
    "circuit()"
   ]
  },
  {
   "cell_type": "markdown",
   "metadata": {
    "id": "TWenlG1AjJhu"
   },
   "source": [
    "Again, the quantum state should be the same as above."
   ]
  },
  {
   "cell_type": "code",
   "execution_count": 11,
   "metadata": {
    "colab": {
     "base_uri": "https://localhost:8080/"
    },
    "id": "aSJl64R-I86k",
    "outputId": "444f812a-5c66-446e-dd23-bfd8c1e60569"
   },
   "outputs": [
    {
     "output_type": "execute_result",
     "data": {
      "text/plain": [
       "tensor([0.        +0.j, 0.70710678+0.j, 0.70710678+0.j, 0.        +0.j], requires_grad=True)"
      ]
     },
     "metadata": {},
     "execution_count": 11
    }
   ],
   "source": [
    "dev.state"
   ]
  },
  {
   "cell_type": "markdown",
   "metadata": {
    "id": "KNiKBEjrI86l"
   },
   "source": [
    "### Quantum circuits are decomposed into gates\n",
    "\n",
    "<br />\n",
    "<img src=\"figures/5.png\" width=\"500\">\n",
    "<br />\n",
    "\n",
    "Quantum circuits rarely consist of one large unitary (which quickly becomes intractably large as the number of qubits grow). Instead, they are composed of *quantum gates*."
   ]
  },
  {
   "cell_type": "code",
   "execution_count": 12,
   "metadata": {
    "colab": {
     "base_uri": "https://localhost:8080/"
    },
    "id": "Eoie7lnlI86l",
    "outputId": "755770ab-9bd4-4fd9-a187-9319929953dd"
   },
   "outputs": [
    {
     "output_type": "execute_result",
     "data": {
      "text/plain": [
       "tensor([ 0., -1.], requires_grad=True)"
      ]
     },
     "metadata": {},
     "execution_count": 12
    }
   ],
   "source": [
    "@qml.qnode(dev)\n",
    "def circuit():\n",
    "    qml.PauliX(wires=0)\n",
    "    qml.CNOT(wires=[0,1])\n",
    "    qml.Hadamard(wires=0)\n",
    "    qml.PauliZ(wires=1)\n",
    "    return qml.expval(qml.PauliZ(wires=0)), qml.expval(qml.PauliZ(wires=1))\n",
    "\n",
    "circuit()"
   ]
  },
  {
   "cell_type": "markdown",
   "metadata": {
    "id": "IxU2qPYcI86l"
   },
   "source": [
    "### Some gates depend on \"control\" parameters\n",
    "\n",
    "<br />\n",
    "<img src=\"figures/6.png\" width=\"500\">\n",
    "<br />\n",
    "\n",
    "To train circuits, there is a special subset of gates which is of particular interest: the Pauli rotation gates. These \"rotate\" a special representation of the quantum state around a specific axis. The gates depend on a scalar parameter which is the angle of the rotation. "
   ]
  },
  {
   "cell_type": "code",
   "execution_count": 13,
   "metadata": {
    "id": "YwKk_sWmI86m"
   },
   "outputs": [
    {
     "output_type": "execute_result",
     "data": {
      "text/plain": [
       "tensor([0.98006658, 0.26216666], requires_grad=True)"
      ]
     },
     "metadata": {},
     "execution_count": 13
    }
   ],
   "source": [
    "@qml.qnode(dev)\n",
    "def circuit(w1, w2):\n",
    "    qml.RX(w1, wires=0)\n",
    "    qml.CNOT(wires=[0,1])\n",
    "    qml.RY(w2, wires=1)\n",
    "    return qml.expval(qml.PauliZ(wires=0)), qml.expval(qml.PauliZ(wires=1))\n",
    "\n",
    "circuit(0.2, 1.3)"
   ]
  },
  {
   "cell_type": "markdown",
   "metadata": {
    "id": "Oi_0wM9rI86m"
   },
   "source": [
    "The names `w1`, `w2` are already suggestive that these can be used like the trainable parameters of a classical machine learning model. But we could also call the control parameters `x1`, `x2` and encode data features into quantum states. "
   ]
  },
  {
   "cell_type": "markdown",
   "metadata": {
    "id": "1fKFXs7OI86m"
   },
   "source": [
    "## 3. A full quantum machine learning model and its gradient"
   ]
  },
  {
   "cell_type": "markdown",
   "metadata": {
    "id": "QBEgX2RNI86n"
   },
   "source": [
    "Finally, we can use pre-coded routines or [templates](https://pennylane.readthedocs.io/en/stable/introduction/templates.html) to conveniently build full quantum machine learning model that include a data encoding part, and a trainable part.\n",
    "\n",
    "<br />\n",
    "<img src=\"figures/7.png\" width=\"500\">\n",
    "<br />\n",
    "\n",
    "Here, we will use the `AngleEmbedding` template to load the data, and the `BasicEntanglingLayers` as the trainable part of the circuit."
   ]
  },
  {
   "cell_type": "code",
   "execution_count": 14,
   "metadata": {
    "colab": {
     "base_uri": "https://localhost:8080/"
    },
    "id": "qH4f8vYFI86n",
    "outputId": "f3a093cd-eaf1-41fd-ad56-6308ad16d1ad"
   },
   "outputs": [
    {
     "output_type": "execute_result",
     "data": {
      "text/plain": [
       "tensor(0.012023, requires_grad=True)"
      ]
     },
     "metadata": {},
     "execution_count": 14
    }
   ],
   "source": [
    "@qml.qnode(dev)\n",
    "def quantum_model(x, w):\n",
    "    qml.templates.AngleEmbedding(x, wires=[0, 1])\n",
    "    qml.templates.BasicEntanglerLayers(w, wires=[0, 1])\n",
    "    return qml.expval(qml.PauliZ(wires=0))\n",
    "\n",
    "\n",
    "x = np.array([0.1, 0.2], requires_grad=False)\n",
    "w = np.array([[-2.1, 1.2], [-1.4, -3.9], [0.5, 0.2]])\n",
    "\n",
    "quantum_model(x, w)"
   ]
  },
  {
   "cell_type": "markdown",
   "metadata": {
    "id": "I-TOEGNdsUNx"
   },
   "source": [
    "We can draw the circuit."
   ]
  },
  {
   "cell_type": "code",
   "execution_count": 15,
   "metadata": {
    "colab": {
     "base_uri": "https://localhost:8080/"
    },
    "id": "Ke03t-8ysP3V",
    "outputId": "ca963433-8af0-48ac-c281-85bdd1463ee2"
   },
   "outputs": [
    {
     "output_type": "stream",
     "name": "stdout",
     "text": [
      " 0: ──RX(0.1)──RX(-2.1)──╭C──RX(-1.4)──╭C──RX(0.5)──╭C──┤ ⟨Z⟩ \n 1: ──RX(0.2)──RX(1.2)───╰X──RX(-3.9)──╰X──RX(0.2)──╰X──┤     \n\n"
     ]
    }
   ],
   "source": [
    "print(quantum_model.draw())"
   ]
  },
  {
   "cell_type": "markdown",
   "metadata": {
    "id": "BSyTK18DI86n"
   },
   "source": [
    "The best thing is that by using PennyLane, we can easily compute its gradient!"
   ]
  },
  {
   "cell_type": "code",
   "execution_count": 16,
   "metadata": {
    "id": "TH2NCZFkI86n"
   },
   "outputs": [
    {
     "output_type": "execute_result",
     "data": {
      "text/plain": [
       "(array([[ 1.69541373e-01, -2.77555756e-17],\n",
       "        [ 6.97079563e-02, -5.37764278e-17],\n",
       "        [ 1.69541373e-01, -1.97324795e-17]]),)"
      ]
     },
     "metadata": {},
     "execution_count": 16
    }
   ],
   "source": [
    "gradient_fn = qml.grad(quantum_model)\n",
    "\n",
    "gradient_fn(x, w)"
   ]
  },
  {
   "cell_type": "markdown",
   "metadata": {
    "id": "aG3rOjcOI86o"
   },
   "source": [
    "This allows us to slot the quantum circuit into the machine learning example from the previous notebook."
   ]
  },
  {
   "cell_type": "markdown",
   "metadata": {
    "id": "EzByfrW4I86o"
   },
   "source": [
    "#  TASKS \n",
    "\n",
    "1. Copy and paste the code from the previous notebook to here and replace the classical model by \n",
    "   the `quantum_model` function. This will allow you to train the model!\n",
    "\n",
    "2. Add a bias term to the quantum model.\n",
    "\n",
    "3. Replace the hand-coded optimisation step by a native [PennyLane optimiser](https://pennylane.readthedocs.io/en/stable/introduction/optimizers.html).\n",
    "\n",
    "4. Rewrite the entire example in PyTorch. \n",
    "\n",
    "   Tipp: You must set the qnode to the correct interface via `@qml.qnode(dev, interface='tf')`."
   ]
  },
  {
   "cell_type": "code",
   "execution_count": 17,
   "metadata": {},
   "outputs": [
    {
     "output_type": "display_data",
     "data": {
      "text/plain": "<Figure size 432x288 with 1 Axes>",
      "image/svg+xml": "<?xml version=\"1.0\" encoding=\"utf-8\" standalone=\"no\"?>\n<!DOCTYPE svg PUBLIC \"-//W3C//DTD SVG 1.1//EN\"\n  \"http://www.w3.org/Graphics/SVG/1.1/DTD/svg11.dtd\">\n<!-- Created with matplotlib (https://matplotlib.org/) -->\n<svg height=\"248.518125pt\" version=\"1.1\" viewBox=\"0 0 370.942187 248.518125\" width=\"370.942187pt\" xmlns=\"http://www.w3.org/2000/svg\" xmlns:xlink=\"http://www.w3.org/1999/xlink\">\n <metadata>\n  <rdf:RDF xmlns:cc=\"http://creativecommons.org/ns#\" xmlns:dc=\"http://purl.org/dc/elements/1.1/\" xmlns:rdf=\"http://www.w3.org/1999/02/22-rdf-syntax-ns#\">\n   <cc:Work>\n    <dc:type rdf:resource=\"http://purl.org/dc/dcmitype/StillImage\"/>\n    <dc:date>2021-02-07T00:45:46.879430</dc:date>\n    <dc:format>image/svg+xml</dc:format>\n    <dc:creator>\n     <cc:Agent>\n      <dc:title>Matplotlib v3.3.3, https://matplotlib.org/</dc:title>\n     </cc:Agent>\n    </dc:creator>\n   </cc:Work>\n  </rdf:RDF>\n </metadata>\n <defs>\n  <style type=\"text/css\">*{stroke-linecap:butt;stroke-linejoin:round;}</style>\n </defs>\n <g id=\"figure_1\">\n  <g id=\"patch_1\">\n   <path d=\"M 0 248.518125 \nL 370.942187 248.518125 \nL 370.942187 0 \nL 0 0 \nz\n\" style=\"fill:none;\"/>\n  </g>\n  <g id=\"axes_1\">\n   <g id=\"patch_2\">\n    <path d=\"M 28.942188 224.64 \nL 363.742188 224.64 \nL 363.742188 7.2 \nL 28.942188 7.2 \nz\n\" style=\"fill:#ffffff;\"/>\n   </g>\n   <g id=\"PathCollection_1\">\n    <defs>\n     <path d=\"M 0 3 \nC 0.795609 3 1.55874 2.683901 2.12132 2.12132 \nC 2.683901 1.55874 3 0.795609 3 0 \nC 3 -0.795609 2.683901 -1.55874 2.12132 -2.12132 \nC 1.55874 -2.683901 0.795609 -3 0 -3 \nC -0.795609 -3 -1.55874 -2.683901 -2.12132 -2.12132 \nC -2.683901 -1.55874 -3 -0.795609 -3 0 \nC -3 0.795609 -2.683901 1.55874 -2.12132 2.12132 \nC -1.55874 2.683901 -0.795609 3 0 3 \nz\n\" id=\"m1d22676da5\" style=\"stroke:#1f77b4;\"/>\n    </defs>\n    <g clip-path=\"url(#pa642c7ac77)\">\n     <use style=\"fill:#1f77b4;stroke:#1f77b4;\" x=\"62.37176\" xlink:href=\"#m1d22676da5\" y=\"88.179364\"/>\n     <use style=\"fill:#1f77b4;stroke:#1f77b4;\" x=\"166.461396\" xlink:href=\"#m1d22676da5\" y=\"61.207366\"/>\n     <use style=\"fill:#1f77b4;stroke:#1f77b4;\" x=\"156.751516\" xlink:href=\"#m1d22676da5\" y=\"73.707007\"/>\n     <use style=\"fill:#1f77b4;stroke:#1f77b4;\" x=\"110.069043\" xlink:href=\"#m1d22676da5\" y=\"109.968684\"/>\n     <use style=\"fill:#1f77b4;stroke:#1f77b4;\" x=\"215.792478\" xlink:href=\"#m1d22676da5\" y=\"85.8476\"/>\n     <use style=\"fill:#1f77b4;stroke:#1f77b4;\" x=\"102.773897\" xlink:href=\"#m1d22676da5\" y=\"78.172396\"/>\n     <use style=\"fill:#1f77b4;stroke:#1f77b4;\" x=\"95.14974\" xlink:href=\"#m1d22676da5\" y=\"89.413075\"/>\n     <use style=\"fill:#1f77b4;stroke:#1f77b4;\" x=\"44.160369\" xlink:href=\"#m1d22676da5\" y=\"114.242967\"/>\n     <use style=\"fill:#1f77b4;stroke:#1f77b4;\" x=\"132.025592\" xlink:href=\"#m1d22676da5\" y=\"65.107127\"/>\n     <use style=\"fill:#1f77b4;stroke:#1f77b4;\" x=\"154.262304\" xlink:href=\"#m1d22676da5\" y=\"116.791166\"/>\n     <use style=\"fill:#1f77b4;stroke:#1f77b4;\" x=\"105.950113\" xlink:href=\"#m1d22676da5\" y=\"70.381291\"/>\n     <use style=\"fill:#1f77b4;stroke:#1f77b4;\" x=\"148.180277\" xlink:href=\"#m1d22676da5\" y=\"86.417392\"/>\n     <use style=\"fill:#1f77b4;stroke:#1f77b4;\" x=\"132.19091\" xlink:href=\"#m1d22676da5\" y=\"81.272639\"/>\n     <use style=\"fill:#1f77b4;stroke:#1f77b4;\" x=\"77.794509\" xlink:href=\"#m1d22676da5\" y=\"25.464346\"/>\n     <use style=\"fill:#1f77b4;stroke:#1f77b4;\" x=\"174.93261\" xlink:href=\"#m1d22676da5\" y=\"86.351725\"/>\n     <use style=\"fill:#1f77b4;stroke:#1f77b4;\" x=\"163.030185\" xlink:href=\"#m1d22676da5\" y=\"55.360102\"/>\n     <use style=\"fill:#1f77b4;stroke:#1f77b4;\" x=\"142.920568\" xlink:href=\"#m1d22676da5\" y=\"105.304461\"/>\n     <use style=\"fill:#1f77b4;stroke:#1f77b4;\" x=\"211.820765\" xlink:href=\"#m1d22676da5\" y=\"75.304929\"/>\n     <use style=\"fill:#1f77b4;stroke:#1f77b4;\" x=\"137.848461\" xlink:href=\"#m1d22676da5\" y=\"88.303117\"/>\n     <use style=\"fill:#1f77b4;stroke:#1f77b4;\" x=\"114.745812\" xlink:href=\"#m1d22676da5\" y=\"131.954707\"/>\n     <use style=\"fill:#1f77b4;stroke:#1f77b4;\" x=\"164.116548\" xlink:href=\"#m1d22676da5\" y=\"71.301934\"/>\n     <use style=\"fill:#1f77b4;stroke:#1f77b4;\" x=\"120.146486\" xlink:href=\"#m1d22676da5\" y=\"52.38851\"/>\n     <use style=\"fill:#1f77b4;stroke:#1f77b4;\" x=\"126.563694\" xlink:href=\"#m1d22676da5\" y=\"66.012817\"/>\n     <use style=\"fill:#1f77b4;stroke:#1f77b4;\" x=\"67.688575\" xlink:href=\"#m1d22676da5\" y=\"54.647321\"/>\n     <use style=\"fill:#1f77b4;stroke:#1f77b4;\" x=\"51.698923\" xlink:href=\"#m1d22676da5\" y=\"124.472208\"/>\n     <use style=\"fill:#1f77b4;stroke:#1f77b4;\" x=\"93.644352\" xlink:href=\"#m1d22676da5\" y=\"110.186023\"/>\n     <use style=\"fill:#1f77b4;stroke:#1f77b4;\" x=\"116.250883\" xlink:href=\"#m1d22676da5\" y=\"75.817212\"/>\n     <use style=\"fill:#1f77b4;stroke:#1f77b4;\" x=\"117.684327\" xlink:href=\"#m1d22676da5\" y=\"130.39775\"/>\n     <use style=\"fill:#1f77b4;stroke:#1f77b4;\" x=\"133.604583\" xlink:href=\"#m1d22676da5\" y=\"57.795584\"/>\n     <use style=\"fill:#1f77b4;stroke:#1f77b4;\" x=\"69.048686\" xlink:href=\"#m1d22676da5\" y=\"116.37679\"/>\n     <use style=\"fill:#1f77b4;stroke:#1f77b4;\" x=\"136.091751\" xlink:href=\"#m1d22676da5\" y=\"76.746931\"/>\n     <use style=\"fill:#1f77b4;stroke:#1f77b4;\" x=\"146.037924\" xlink:href=\"#m1d22676da5\" y=\"61.052808\"/>\n     <use style=\"fill:#1f77b4;stroke:#1f77b4;\" x=\"127.206345\" xlink:href=\"#m1d22676da5\" y=\"111.928659\"/>\n     <use style=\"fill:#1f77b4;stroke:#1f77b4;\" x=\"142.225212\" xlink:href=\"#m1d22676da5\" y=\"120.294765\"/>\n     <use style=\"fill:#1f77b4;stroke:#1f77b4;\" x=\"109.099542\" xlink:href=\"#m1d22676da5\" y=\"134.541659\"/>\n     <use style=\"fill:#1f77b4;stroke:#1f77b4;\" x=\"95.959958\" xlink:href=\"#m1d22676da5\" y=\"43.310801\"/>\n     <use style=\"fill:#1f77b4;stroke:#1f77b4;\" x=\"140.687727\" xlink:href=\"#m1d22676da5\" y=\"34.329494\"/>\n     <use style=\"fill:#1f77b4;stroke:#1f77b4;\" x=\"142.042572\" xlink:href=\"#m1d22676da5\" y=\"58.781206\"/>\n     <use style=\"fill:#1f77b4;stroke:#1f77b4;\" x=\"148.156764\" xlink:href=\"#m1d22676da5\" y=\"77.59958\"/>\n     <use style=\"fill:#1f77b4;stroke:#1f77b4;\" x=\"167.952901\" xlink:href=\"#m1d22676da5\" y=\"17.083636\"/>\n     <use style=\"fill:#1f77b4;stroke:#1f77b4;\" x=\"59.501368\" xlink:href=\"#m1d22676da5\" y=\"41.365585\"/>\n     <use style=\"fill:#1f77b4;stroke:#1f77b4;\" x=\"183.787164\" xlink:href=\"#m1d22676da5\" y=\"120.658876\"/>\n     <use style=\"fill:#1f77b4;stroke:#1f77b4;\" x=\"102.169424\" xlink:href=\"#m1d22676da5\" y=\"52.198085\"/>\n     <use style=\"fill:#1f77b4;stroke:#1f77b4;\" x=\"159.431287\" xlink:href=\"#m1d22676da5\" y=\"80.669415\"/>\n     <use style=\"fill:#1f77b4;stroke:#1f77b4;\" x=\"121.125208\" xlink:href=\"#m1d22676da5\" y=\"93.619395\"/>\n     <use style=\"fill:#1f77b4;stroke:#1f77b4;\" x=\"178.174977\" xlink:href=\"#m1d22676da5\" y=\"100.56744\"/>\n     <use style=\"fill:#1f77b4;stroke:#1f77b4;\" x=\"65.760393\" xlink:href=\"#m1d22676da5\" y=\"76.009217\"/>\n     <use style=\"fill:#1f77b4;stroke:#1f77b4;\" x=\"212.685387\" xlink:href=\"#m1d22676da5\" y=\"71.93145\"/>\n     <use style=\"fill:#1f77b4;stroke:#1f77b4;\" x=\"146.252659\" xlink:href=\"#m1d22676da5\" y=\"86.453525\"/>\n     <use style=\"fill:#1f77b4;stroke:#1f77b4;\" x=\"176.96973\" xlink:href=\"#m1d22676da5\" y=\"56.166126\"/>\n    </g>\n   </g>\n   <g id=\"PathCollection_2\">\n    <defs>\n     <path d=\"M 0 3 \nC 0.795609 3 1.55874 2.683901 2.12132 2.12132 \nC 2.683901 1.55874 3 0.795609 3 0 \nC 3 -0.795609 2.683901 -1.55874 2.12132 -2.12132 \nC 1.55874 -2.683901 0.795609 -3 0 -3 \nC -0.795609 -3 -1.55874 -2.683901 -2.12132 -2.12132 \nC -2.683901 -1.55874 -3 -0.795609 -3 0 \nC -3 0.795609 -2.683901 1.55874 -2.12132 2.12132 \nC -1.55874 2.683901 -0.795609 3 0 3 \nz\n\" id=\"mfc9e0c9b2b\" style=\"stroke:#ff7f0e;\"/>\n    </defs>\n    <g clip-path=\"url(#pa642c7ac77)\">\n     <use style=\"fill:#ff7f0e;stroke:#ff7f0e;\" x=\"239.080534\" xlink:href=\"#mfc9e0c9b2b\" y=\"127.171554\"/>\n     <use style=\"fill:#ff7f0e;stroke:#ff7f0e;\" x=\"211.991335\" xlink:href=\"#mfc9e0c9b2b\" y=\"111.320889\"/>\n     <use style=\"fill:#ff7f0e;stroke:#ff7f0e;\" x=\"232.283048\" xlink:href=\"#mfc9e0c9b2b\" y=\"187.052871\"/>\n     <use style=\"fill:#ff7f0e;stroke:#ff7f0e;\" x=\"229.739879\" xlink:href=\"#mfc9e0c9b2b\" y=\"126.39636\"/>\n     <use style=\"fill:#ff7f0e;stroke:#ff7f0e;\" x=\"212.330821\" xlink:href=\"#mfc9e0c9b2b\" y=\"159.208945\"/>\n     <use style=\"fill:#ff7f0e;stroke:#ff7f0e;\" x=\"254.260827\" xlink:href=\"#mfc9e0c9b2b\" y=\"121.14996\"/>\n     <use style=\"fill:#ff7f0e;stroke:#ff7f0e;\" x=\"181.25537\" xlink:href=\"#mfc9e0c9b2b\" y=\"150.09945\"/>\n     <use style=\"fill:#ff7f0e;stroke:#ff7f0e;\" x=\"237.556411\" xlink:href=\"#mfc9e0c9b2b\" y=\"202.758603\"/>\n     <use style=\"fill:#ff7f0e;stroke:#ff7f0e;\" x=\"244.176846\" xlink:href=\"#mfc9e0c9b2b\" y=\"101.441075\"/>\n     <use style=\"fill:#ff7f0e;stroke:#ff7f0e;\" x=\"319.415961\" xlink:href=\"#mfc9e0c9b2b\" y=\"144.230236\"/>\n     <use style=\"fill:#ff7f0e;stroke:#ff7f0e;\" x=\"252.875019\" xlink:href=\"#mfc9e0c9b2b\" y=\"139.813129\"/>\n     <use style=\"fill:#ff7f0e;stroke:#ff7f0e;\" x=\"196.195603\" xlink:href=\"#mfc9e0c9b2b\" y=\"173.580482\"/>\n     <use style=\"fill:#ff7f0e;stroke:#ff7f0e;\" x=\"173.227715\" xlink:href=\"#mfc9e0c9b2b\" y=\"147.059129\"/>\n     <use style=\"fill:#ff7f0e;stroke:#ff7f0e;\" x=\"192.741317\" xlink:href=\"#mfc9e0c9b2b\" y=\"129.36703\"/>\n     <use style=\"fill:#ff7f0e;stroke:#ff7f0e;\" x=\"226.28016\" xlink:href=\"#mfc9e0c9b2b\" y=\"130.59973\"/>\n     <use style=\"fill:#ff7f0e;stroke:#ff7f0e;\" x=\"200.84828\" xlink:href=\"#mfc9e0c9b2b\" y=\"205.788747\"/>\n     <use style=\"fill:#ff7f0e;stroke:#ff7f0e;\" x=\"228.760708\" xlink:href=\"#mfc9e0c9b2b\" y=\"118.862781\"/>\n     <use style=\"fill:#ff7f0e;stroke:#ff7f0e;\" x=\"171.56882\" xlink:href=\"#mfc9e0c9b2b\" y=\"154.907822\"/>\n     <use style=\"fill:#ff7f0e;stroke:#ff7f0e;\" x=\"163.200383\" xlink:href=\"#mfc9e0c9b2b\" y=\"189.886731\"/>\n     <use style=\"fill:#ff7f0e;stroke:#ff7f0e;\" x=\"252.370801\" xlink:href=\"#mfc9e0c9b2b\" y=\"117.283979\"/>\n     <use style=\"fill:#ff7f0e;stroke:#ff7f0e;\" x=\"269.849549\" xlink:href=\"#mfc9e0c9b2b\" y=\"168.163127\"/>\n     <use style=\"fill:#ff7f0e;stroke:#ff7f0e;\" x=\"136.434389\" xlink:href=\"#mfc9e0c9b2b\" y=\"145.547291\"/>\n     <use style=\"fill:#ff7f0e;stroke:#ff7f0e;\" x=\"348.524006\" xlink:href=\"#mfc9e0c9b2b\" y=\"130.007863\"/>\n     <use style=\"fill:#ff7f0e;stroke:#ff7f0e;\" x=\"302.376274\" xlink:href=\"#mfc9e0c9b2b\" y=\"156.551053\"/>\n     <use style=\"fill:#ff7f0e;stroke:#ff7f0e;\" x=\"196.102861\" xlink:href=\"#mfc9e0c9b2b\" y=\"195.678288\"/>\n     <use style=\"fill:#ff7f0e;stroke:#ff7f0e;\" x=\"153.015973\" xlink:href=\"#mfc9e0c9b2b\" y=\"146.383554\"/>\n     <use style=\"fill:#ff7f0e;stroke:#ff7f0e;\" x=\"226.489956\" xlink:href=\"#mfc9e0c9b2b\" y=\"166.464385\"/>\n     <use style=\"fill:#ff7f0e;stroke:#ff7f0e;\" x=\"241.418698\" xlink:href=\"#mfc9e0c9b2b\" y=\"142.332854\"/>\n     <use style=\"fill:#ff7f0e;stroke:#ff7f0e;\" x=\"204.370547\" xlink:href=\"#mfc9e0c9b2b\" y=\"158.451354\"/>\n     <use style=\"fill:#ff7f0e;stroke:#ff7f0e;\" x=\"186.700706\" xlink:href=\"#mfc9e0c9b2b\" y=\"167.045349\"/>\n     <use style=\"fill:#ff7f0e;stroke:#ff7f0e;\" x=\"247.142931\" xlink:href=\"#mfc9e0c9b2b\" y=\"179.912094\"/>\n     <use style=\"fill:#ff7f0e;stroke:#ff7f0e;\" x=\"197.604771\" xlink:href=\"#mfc9e0c9b2b\" y=\"64.395521\"/>\n     <use style=\"fill:#ff7f0e;stroke:#ff7f0e;\" x=\"224.904967\" xlink:href=\"#mfc9e0c9b2b\" y=\"126.440248\"/>\n     <use style=\"fill:#ff7f0e;stroke:#ff7f0e;\" x=\"240.677261\" xlink:href=\"#mfc9e0c9b2b\" y=\"144.760039\"/>\n     <use style=\"fill:#ff7f0e;stroke:#ff7f0e;\" x=\"218.526413\" xlink:href=\"#mfc9e0c9b2b\" y=\"149.386261\"/>\n     <use style=\"fill:#ff7f0e;stroke:#ff7f0e;\" x=\"212.00647\" xlink:href=\"#mfc9e0c9b2b\" y=\"214.756364\"/>\n     <use style=\"fill:#ff7f0e;stroke:#ff7f0e;\" x=\"231.699737\" xlink:href=\"#mfc9e0c9b2b\" y=\"135.018406\"/>\n     <use style=\"fill:#ff7f0e;stroke:#ff7f0e;\" x=\"222.105875\" xlink:href=\"#mfc9e0c9b2b\" y=\"145.742946\"/>\n     <use style=\"fill:#ff7f0e;stroke:#ff7f0e;\" x=\"263.244134\" xlink:href=\"#mfc9e0c9b2b\" y=\"109.407731\"/>\n     <use style=\"fill:#ff7f0e;stroke:#ff7f0e;\" x=\"271.848006\" xlink:href=\"#mfc9e0c9b2b\" y=\"146.342357\"/>\n     <use style=\"fill:#ff7f0e;stroke:#ff7f0e;\" x=\"206.767564\" xlink:href=\"#mfc9e0c9b2b\" y=\"138.115453\"/>\n     <use style=\"fill:#ff7f0e;stroke:#ff7f0e;\" x=\"163.999858\" xlink:href=\"#mfc9e0c9b2b\" y=\"153.043485\"/>\n     <use style=\"fill:#ff7f0e;stroke:#ff7f0e;\" x=\"202.927372\" xlink:href=\"#mfc9e0c9b2b\" y=\"168.137598\"/>\n     <use style=\"fill:#ff7f0e;stroke:#ff7f0e;\" x=\"224.403811\" xlink:href=\"#mfc9e0c9b2b\" y=\"210.268957\"/>\n     <use style=\"fill:#ff7f0e;stroke:#ff7f0e;\" x=\"198.195568\" xlink:href=\"#mfc9e0c9b2b\" y=\"127.532535\"/>\n     <use style=\"fill:#ff7f0e;stroke:#ff7f0e;\" x=\"195.501522\" xlink:href=\"#mfc9e0c9b2b\" y=\"131.352537\"/>\n     <use style=\"fill:#ff7f0e;stroke:#ff7f0e;\" x=\"310.215693\" xlink:href=\"#mfc9e0c9b2b\" y=\"140.31416\"/>\n     <use style=\"fill:#ff7f0e;stroke:#ff7f0e;\" x=\"194.511174\" xlink:href=\"#mfc9e0c9b2b\" y=\"182.329647\"/>\n     <use style=\"fill:#ff7f0e;stroke:#ff7f0e;\" x=\"222.579968\" xlink:href=\"#mfc9e0c9b2b\" y=\"188.511715\"/>\n     <use style=\"fill:#ff7f0e;stroke:#ff7f0e;\" x=\"216.904725\" xlink:href=\"#mfc9e0c9b2b\" y=\"154.342476\"/>\n    </g>\n   </g>\n   <g id=\"matplotlib.axis_1\">\n    <g id=\"xtick_1\">\n     <g id=\"line2d_1\">\n      <defs>\n       <path d=\"M 0 0 \nL 0 3.5 \n\" id=\"m021e3b179a\" style=\"stroke:#000000;stroke-width:0.8;\"/>\n      </defs>\n      <g>\n       <use style=\"stroke:#000000;stroke-width:0.8;\" x=\"47.342955\" xlink:href=\"#m021e3b179a\" y=\"224.64\"/>\n      </g>\n     </g>\n     <g id=\"text_1\">\n      <!-- −3 -->\n      <g transform=\"translate(39.971862 239.238437)scale(0.1 -0.1)\">\n       <defs>\n        <path d=\"M 10.59375 35.5 \nL 73.1875 35.5 \nL 73.1875 27.203125 \nL 10.59375 27.203125 \nz\n\" id=\"DejaVuSans-8722\"/>\n        <path d=\"M 40.578125 39.3125 \nQ 47.65625 37.796875 51.625 33 \nQ 55.609375 28.21875 55.609375 21.1875 \nQ 55.609375 10.40625 48.1875 4.484375 \nQ 40.765625 -1.421875 27.09375 -1.421875 \nQ 22.515625 -1.421875 17.65625 -0.515625 \nQ 12.796875 0.390625 7.625 2.203125 \nL 7.625 11.71875 \nQ 11.71875 9.328125 16.59375 8.109375 \nQ 21.484375 6.890625 26.8125 6.890625 \nQ 36.078125 6.890625 40.9375 10.546875 \nQ 45.796875 14.203125 45.796875 21.1875 \nQ 45.796875 27.640625 41.28125 31.265625 \nQ 36.765625 34.90625 28.71875 34.90625 \nL 20.21875 34.90625 \nL 20.21875 43.015625 \nL 29.109375 43.015625 \nQ 36.375 43.015625 40.234375 45.921875 \nQ 44.09375 48.828125 44.09375 54.296875 \nQ 44.09375 59.90625 40.109375 62.90625 \nQ 36.140625 65.921875 28.71875 65.921875 \nQ 24.65625 65.921875 20.015625 65.03125 \nQ 15.375 64.15625 9.8125 62.3125 \nL 9.8125 71.09375 \nQ 15.4375 72.65625 20.34375 73.4375 \nQ 25.25 74.21875 29.59375 74.21875 \nQ 40.828125 74.21875 47.359375 69.109375 \nQ 53.90625 64.015625 53.90625 55.328125 \nQ 53.90625 49.265625 50.4375 45.09375 \nQ 46.96875 40.921875 40.578125 39.3125 \nz\n\" id=\"DejaVuSans-51\"/>\n       </defs>\n       <use xlink:href=\"#DejaVuSans-8722\"/>\n       <use x=\"83.789062\" xlink:href=\"#DejaVuSans-51\"/>\n      </g>\n     </g>\n    </g>\n    <g id=\"xtick_2\">\n     <g id=\"line2d_2\">\n      <g>\n       <use style=\"stroke:#000000;stroke-width:0.8;\" x=\"89.97475\" xlink:href=\"#m021e3b179a\" y=\"224.64\"/>\n      </g>\n     </g>\n     <g id=\"text_2\">\n      <!-- −2 -->\n      <g transform=\"translate(82.603656 239.238437)scale(0.1 -0.1)\">\n       <defs>\n        <path d=\"M 19.1875 8.296875 \nL 53.609375 8.296875 \nL 53.609375 0 \nL 7.328125 0 \nL 7.328125 8.296875 \nQ 12.9375 14.109375 22.625 23.890625 \nQ 32.328125 33.6875 34.8125 36.53125 \nQ 39.546875 41.84375 41.421875 45.53125 \nQ 43.3125 49.21875 43.3125 52.78125 \nQ 43.3125 58.59375 39.234375 62.25 \nQ 35.15625 65.921875 28.609375 65.921875 \nQ 23.96875 65.921875 18.8125 64.3125 \nQ 13.671875 62.703125 7.8125 59.421875 \nL 7.8125 69.390625 \nQ 13.765625 71.78125 18.9375 73 \nQ 24.125 74.21875 28.421875 74.21875 \nQ 39.75 74.21875 46.484375 68.546875 \nQ 53.21875 62.890625 53.21875 53.421875 \nQ 53.21875 48.921875 51.53125 44.890625 \nQ 49.859375 40.875 45.40625 35.40625 \nQ 44.1875 33.984375 37.640625 27.21875 \nQ 31.109375 20.453125 19.1875 8.296875 \nz\n\" id=\"DejaVuSans-50\"/>\n       </defs>\n       <use xlink:href=\"#DejaVuSans-8722\"/>\n       <use x=\"83.789062\" xlink:href=\"#DejaVuSans-50\"/>\n      </g>\n     </g>\n    </g>\n    <g id=\"xtick_3\">\n     <g id=\"line2d_3\">\n      <g>\n       <use style=\"stroke:#000000;stroke-width:0.8;\" x=\"132.606544\" xlink:href=\"#m021e3b179a\" y=\"224.64\"/>\n      </g>\n     </g>\n     <g id=\"text_3\">\n      <!-- −1 -->\n      <g transform=\"translate(125.23545 239.238437)scale(0.1 -0.1)\">\n       <defs>\n        <path d=\"M 12.40625 8.296875 \nL 28.515625 8.296875 \nL 28.515625 63.921875 \nL 10.984375 60.40625 \nL 10.984375 69.390625 \nL 28.421875 72.90625 \nL 38.28125 72.90625 \nL 38.28125 8.296875 \nL 54.390625 8.296875 \nL 54.390625 0 \nL 12.40625 0 \nz\n\" id=\"DejaVuSans-49\"/>\n       </defs>\n       <use xlink:href=\"#DejaVuSans-8722\"/>\n       <use x=\"83.789062\" xlink:href=\"#DejaVuSans-49\"/>\n      </g>\n     </g>\n    </g>\n    <g id=\"xtick_4\">\n     <g id=\"line2d_4\">\n      <g>\n       <use style=\"stroke:#000000;stroke-width:0.8;\" x=\"175.238338\" xlink:href=\"#m021e3b179a\" y=\"224.64\"/>\n      </g>\n     </g>\n     <g id=\"text_4\">\n      <!-- 0 -->\n      <g transform=\"translate(172.057088 239.238437)scale(0.1 -0.1)\">\n       <defs>\n        <path d=\"M 31.78125 66.40625 \nQ 24.171875 66.40625 20.328125 58.90625 \nQ 16.5 51.421875 16.5 36.375 \nQ 16.5 21.390625 20.328125 13.890625 \nQ 24.171875 6.390625 31.78125 6.390625 \nQ 39.453125 6.390625 43.28125 13.890625 \nQ 47.125 21.390625 47.125 36.375 \nQ 47.125 51.421875 43.28125 58.90625 \nQ 39.453125 66.40625 31.78125 66.40625 \nz\nM 31.78125 74.21875 \nQ 44.046875 74.21875 50.515625 64.515625 \nQ 56.984375 54.828125 56.984375 36.375 \nQ 56.984375 17.96875 50.515625 8.265625 \nQ 44.046875 -1.421875 31.78125 -1.421875 \nQ 19.53125 -1.421875 13.0625 8.265625 \nQ 6.59375 17.96875 6.59375 36.375 \nQ 6.59375 54.828125 13.0625 64.515625 \nQ 19.53125 74.21875 31.78125 74.21875 \nz\n\" id=\"DejaVuSans-48\"/>\n       </defs>\n       <use xlink:href=\"#DejaVuSans-48\"/>\n      </g>\n     </g>\n    </g>\n    <g id=\"xtick_5\">\n     <g id=\"line2d_5\">\n      <g>\n       <use style=\"stroke:#000000;stroke-width:0.8;\" x=\"217.870132\" xlink:href=\"#m021e3b179a\" y=\"224.64\"/>\n      </g>\n     </g>\n     <g id=\"text_5\">\n      <!-- 1 -->\n      <g transform=\"translate(214.688882 239.238437)scale(0.1 -0.1)\">\n       <use xlink:href=\"#DejaVuSans-49\"/>\n      </g>\n     </g>\n    </g>\n    <g id=\"xtick_6\">\n     <g id=\"line2d_6\">\n      <g>\n       <use style=\"stroke:#000000;stroke-width:0.8;\" x=\"260.501926\" xlink:href=\"#m021e3b179a\" y=\"224.64\"/>\n      </g>\n     </g>\n     <g id=\"text_6\">\n      <!-- 2 -->\n      <g transform=\"translate(257.320676 239.238437)scale(0.1 -0.1)\">\n       <use xlink:href=\"#DejaVuSans-50\"/>\n      </g>\n     </g>\n    </g>\n    <g id=\"xtick_7\">\n     <g id=\"line2d_7\">\n      <g>\n       <use style=\"stroke:#000000;stroke-width:0.8;\" x=\"303.13372\" xlink:href=\"#m021e3b179a\" y=\"224.64\"/>\n      </g>\n     </g>\n     <g id=\"text_7\">\n      <!-- 3 -->\n      <g transform=\"translate(299.95247 239.238437)scale(0.1 -0.1)\">\n       <use xlink:href=\"#DejaVuSans-51\"/>\n      </g>\n     </g>\n    </g>\n    <g id=\"xtick_8\">\n     <g id=\"line2d_8\">\n      <g>\n       <use style=\"stroke:#000000;stroke-width:0.8;\" x=\"345.765514\" xlink:href=\"#m021e3b179a\" y=\"224.64\"/>\n      </g>\n     </g>\n     <g id=\"text_8\">\n      <!-- 4 -->\n      <g transform=\"translate(342.584264 239.238437)scale(0.1 -0.1)\">\n       <defs>\n        <path d=\"M 37.796875 64.3125 \nL 12.890625 25.390625 \nL 37.796875 25.390625 \nz\nM 35.203125 72.90625 \nL 47.609375 72.90625 \nL 47.609375 25.390625 \nL 58.015625 25.390625 \nL 58.015625 17.1875 \nL 47.609375 17.1875 \nL 47.609375 0 \nL 37.796875 0 \nL 37.796875 17.1875 \nL 4.890625 17.1875 \nL 4.890625 26.703125 \nz\n\" id=\"DejaVuSans-52\"/>\n       </defs>\n       <use xlink:href=\"#DejaVuSans-52\"/>\n      </g>\n     </g>\n    </g>\n   </g>\n   <g id=\"matplotlib.axis_2\">\n    <g id=\"ytick_1\">\n     <g id=\"line2d_9\">\n      <defs>\n       <path d=\"M 0 0 \nL -3.5 0 \n\" id=\"m2f3080a5b4\" style=\"stroke:#000000;stroke-width:0.8;\"/>\n      </defs>\n      <g>\n       <use style=\"stroke:#000000;stroke-width:0.8;\" x=\"28.942188\" xlink:href=\"#m2f3080a5b4\" y=\"211.10299\"/>\n      </g>\n     </g>\n     <g id=\"text_9\">\n      <!-- −3 -->\n      <g transform=\"translate(7.2 214.902209)scale(0.1 -0.1)\">\n       <use xlink:href=\"#DejaVuSans-8722\"/>\n       <use x=\"83.789062\" xlink:href=\"#DejaVuSans-51\"/>\n      </g>\n     </g>\n    </g>\n    <g id=\"ytick_2\">\n     <g id=\"line2d_10\">\n      <g>\n       <use style=\"stroke:#000000;stroke-width:0.8;\" x=\"28.942188\" xlink:href=\"#m2f3080a5b4\" y=\"178.547797\"/>\n      </g>\n     </g>\n     <g id=\"text_10\">\n      <!-- −2 -->\n      <g transform=\"translate(7.2 182.347016)scale(0.1 -0.1)\">\n       <use xlink:href=\"#DejaVuSans-8722\"/>\n       <use x=\"83.789062\" xlink:href=\"#DejaVuSans-50\"/>\n      </g>\n     </g>\n    </g>\n    <g id=\"ytick_3\">\n     <g id=\"line2d_11\">\n      <g>\n       <use style=\"stroke:#000000;stroke-width:0.8;\" x=\"28.942188\" xlink:href=\"#m2f3080a5b4\" y=\"145.992605\"/>\n      </g>\n     </g>\n     <g id=\"text_11\">\n      <!-- −1 -->\n      <g transform=\"translate(7.2 149.791823)scale(0.1 -0.1)\">\n       <use xlink:href=\"#DejaVuSans-8722\"/>\n       <use x=\"83.789062\" xlink:href=\"#DejaVuSans-49\"/>\n      </g>\n     </g>\n    </g>\n    <g id=\"ytick_4\">\n     <g id=\"line2d_12\">\n      <g>\n       <use style=\"stroke:#000000;stroke-width:0.8;\" x=\"28.942188\" xlink:href=\"#m2f3080a5b4\" y=\"113.437412\"/>\n      </g>\n     </g>\n     <g id=\"text_12\">\n      <!-- 0 -->\n      <g transform=\"translate(15.579688 117.236631)scale(0.1 -0.1)\">\n       <use xlink:href=\"#DejaVuSans-48\"/>\n      </g>\n     </g>\n    </g>\n    <g id=\"ytick_5\">\n     <g id=\"line2d_13\">\n      <g>\n       <use style=\"stroke:#000000;stroke-width:0.8;\" x=\"28.942188\" xlink:href=\"#m2f3080a5b4\" y=\"80.882219\"/>\n      </g>\n     </g>\n     <g id=\"text_13\">\n      <!-- 1 -->\n      <g transform=\"translate(15.579688 84.681438)scale(0.1 -0.1)\">\n       <use xlink:href=\"#DejaVuSans-49\"/>\n      </g>\n     </g>\n    </g>\n    <g id=\"ytick_6\">\n     <g id=\"line2d_14\">\n      <g>\n       <use style=\"stroke:#000000;stroke-width:0.8;\" x=\"28.942188\" xlink:href=\"#m2f3080a5b4\" y=\"48.327027\"/>\n      </g>\n     </g>\n     <g id=\"text_14\">\n      <!-- 2 -->\n      <g transform=\"translate(15.579688 52.126245)scale(0.1 -0.1)\">\n       <use xlink:href=\"#DejaVuSans-50\"/>\n      </g>\n     </g>\n    </g>\n    <g id=\"ytick_7\">\n     <g id=\"line2d_15\">\n      <g>\n       <use style=\"stroke:#000000;stroke-width:0.8;\" x=\"28.942188\" xlink:href=\"#m2f3080a5b4\" y=\"15.771834\"/>\n      </g>\n     </g>\n     <g id=\"text_15\">\n      <!-- 3 -->\n      <g transform=\"translate(15.579688 19.571053)scale(0.1 -0.1)\">\n       <use xlink:href=\"#DejaVuSans-51\"/>\n      </g>\n     </g>\n    </g>\n   </g>\n   <g id=\"patch_3\">\n    <path d=\"M 28.942188 224.64 \nL 28.942188 7.2 \n\" style=\"fill:none;stroke:#000000;stroke-linecap:square;stroke-linejoin:miter;stroke-width:0.8;\"/>\n   </g>\n   <g id=\"patch_4\">\n    <path d=\"M 363.742188 224.64 \nL 363.742188 7.2 \n\" style=\"fill:none;stroke:#000000;stroke-linecap:square;stroke-linejoin:miter;stroke-width:0.8;\"/>\n   </g>\n   <g id=\"patch_5\">\n    <path d=\"M 28.942187 224.64 \nL 363.742188 224.64 \n\" style=\"fill:none;stroke:#000000;stroke-linecap:square;stroke-linejoin:miter;stroke-width:0.8;\"/>\n   </g>\n   <g id=\"patch_6\">\n    <path d=\"M 28.942187 7.2 \nL 363.742188 7.2 \n\" style=\"fill:none;stroke:#000000;stroke-linecap:square;stroke-linejoin:miter;stroke-width:0.8;\"/>\n   </g>\n  </g>\n </g>\n <defs>\n  <clipPath id=\"pa642c7ac77\">\n   <rect height=\"217.44\" width=\"334.8\" x=\"28.942188\" y=\"7.2\"/>\n  </clipPath>\n </defs>\n</svg>\n",
      "image/png": "[encoded data removed]"
     },
     "metadata": {
      "needs_background": "light"
     }
    }
   ],
   "source": [
    "n_samples = 100\n",
    "X0 = np.array([[np.random.normal(loc=-1, scale=1), \n",
    "                np.random.normal(loc=1, scale=1)] for i in range(n_samples//2)]) \n",
    "X1 = np.array([[np.random.normal(loc=1, scale=1), \n",
    "                np.random.normal(loc=-1, scale=1)] for i in range(n_samples//2)]) \n",
    "X = np.concatenate([X0, X1], axis=0)\n",
    "Y = np.concatenate([-np.ones(50), np.ones(50)], requires_grad=False, axis=0)\n",
    "\n",
    "\n",
    "plt.scatter(X0[:,0], X0[:,1])\n",
    "plt.scatter(X1[:,0], X1[:,1])\n",
    "plt.show()"
   ]
  },
  {
   "cell_type": "code",
   "execution_count": 18,
   "metadata": {},
   "outputs": [],
   "source": [
    "n_wires = X.shape[1]  # number of features\n",
    "n_layers = 3          # number of layers in quantum module\n",
    "dev = qml.device('default.qubit', wires=n_wires)\n",
    "\n",
    "@qml.qnode(dev)\n",
    "def quantum_model(x, w):\n",
    "    qml.templates.AngleEmbedding(x, wires=range(n_wires))\n",
    "    qml.templates.BasicEntanglerLayers(w, wires=range(n_wires))\n",
    "    return qml.expval(qml.PauliZ(wires=0))"
   ]
  },
  {
   "cell_type": "code",
   "execution_count": 19,
   "metadata": {
    "id": "3tXR6ygNI86o"
   },
   "outputs": [],
   "source": [
    "def model(x, p):\n",
    "    w, b = p\n",
    "    x = quantum_model(x, w)\n",
    "    return x + b\n",
    "    \n",
    "\n",
    "def average_cost(p, X, Y):\n",
    "    cost = 0\n",
    "    for x, y in zip(X, Y):\n",
    "        pred = model(x, p)\n",
    "        cost += (y - pred) ** 2\n",
    "    return cost / len(X)"
   ]
  },
  {
   "cell_type": "code",
   "execution_count": 21,
   "metadata": {},
   "outputs": [],
   "source": [
    "w = np.random.randn(n_layers, n_wires)\n",
    "b = np.random.random(size=(1,))\n",
    "\n",
    "params = (w, b)\n",
    "opt = qml.GradientDescentOptimizer(stepsize=0.05)"
   ]
  },
  {
   "cell_type": "code",
   "execution_count": 22,
   "metadata": {},
   "outputs": [
    {
     "output_type": "stream",
     "name": "stdout",
     "text": [
      "cost: [1.12267161]\n",
      "cost: [1.03834476]\n",
      "cost: [0.96771376]\n",
      "cost: [0.90827855]\n",
      "cost: [0.85793103]\n",
      "cost: [0.81493552]\n",
      "cost: [0.77789048]\n",
      "cost: [0.74568118]\n",
      "cost: [0.71743069]\n",
      "cost: [0.69245383]\n",
      "cost: [0.67021667]\n",
      "cost: [0.6503023]\n",
      "cost: [0.63238313]\n",
      "cost: [0.61619894]\n",
      "cost: [0.60153996]\n",
      "cost: [0.58823412]\n",
      "cost: [0.57613754]\n",
      "cost: [0.56512763]\n",
      "cost: [0.55509817]\n",
      "cost: [0.54595568]\n"
     ]
    }
   ],
   "source": [
    "for i in range(20):\n",
    "\n",
    "    params, cost = opt.step_and_cost(lambda p: average_cost(p, X, Y), params)\n",
    "    print('cost:', cost)"
   ]
  },
  {
   "source": [
    "### Torch"
   ],
   "cell_type": "markdown",
   "metadata": {}
  },
  {
   "cell_type": "code",
   "execution_count": 23,
   "metadata": {},
   "outputs": [],
   "source": [
    "@qml.qnode(dev)\n",
    "def quantum_model(inputs, weights):\n",
    "    qml.templates.AngleEmbedding(inputs, wires=range(n_wires))\n",
    "    qml.templates.BasicEntanglerLayers(weights, wires=range(n_wires))\n",
    "    return qml.expval(qml.PauliZ(wires=0))"
   ]
  },
  {
   "cell_type": "code",
   "execution_count": 24,
   "metadata": {},
   "outputs": [],
   "source": [
    "import torch\n",
    "import torch.nn as nn\n",
    "\n",
    "n_features = n_wires\n",
    "weight_shapes = {\"weights\": (n_layers, n_wires)}\n",
    "\n",
    "class Quantum_NN(nn.Module):\n",
    "    def __init__(self):\n",
    "        super(Quantum_NN, self).__init__()\n",
    "        self.layer_1 = nn.Linear(n_features, 2, bias=False)\n",
    "        self.q_layer_1 = qml.qnn.TorchLayer(quantum_model, weight_shapes) # requires params of model to be NAMED inputs and weights\n",
    "\n",
    "    def forward(self, x):\n",
    "        x = torch.sigmoid(self.layer_1(x))\n",
    "        x = self.q_layer_1(x)\n",
    "        return x\n",
    "\n",
    "model = Quantum_NN()"
   ]
  },
  {
   "cell_type": "code",
   "execution_count": 25,
   "metadata": {},
   "outputs": [],
   "source": [
    "opt = torch.optim.SGD(model.parameters(), lr=0.05)\n",
    "loss = torch.nn.MSELoss()"
   ]
  },
  {
   "cell_type": "code",
   "execution_count": 27,
   "metadata": {},
   "outputs": [
    {
     "output_type": "stream",
     "name": "stdout",
     "text": [
      "average cost per epoch 1: 0.9110\n",
      "average cost per epoch 2: 0.6921\n",
      "average cost per epoch 3: 0.5871\n",
      "average cost per epoch 4: 0.5224\n",
      "average cost per epoch 5: 0.4985\n",
      "average cost per epoch 6: 0.4654\n",
      "average cost per epoch 7: 0.4504\n",
      "average cost per epoch 8: 0.4421\n",
      "average cost per epoch 9: 0.4430\n",
      "average cost per epoch 10: 0.4159\n"
     ]
    }
   ],
   "source": [
    "batches = X.shape[0] // 5\n",
    "batch_size = X.shape[0] // batches\n",
    "\n",
    "X = torch.tensor(X).float()\n",
    "Y = torch.tensor(Y).float()\n",
    "data_loader = torch.utils.data.DataLoader(list(zip(X, Y)), batch_size=batch_size, shuffle=True)\n",
    "\n",
    "epochs = 10\n",
    "for epoch in range(epochs):\n",
    "\n",
    "    running_cost = 0\n",
    "    for xs, ys in data_loader:\n",
    "        opt.zero_grad()\n",
    "        loss_evaluated = loss(model(xs), ys)\n",
    "        loss_evaluated.backward()\n",
    "        running_cost += loss_evaluated\n",
    "        opt.step()\n",
    "\n",
    "    avg_cost = running_cost / batches\n",
    "    print(\"average cost per epoch {}: {:.4f}\".format(epoch + 1, avg_cost))"
   ]
  },
  {
   "cell_type": "code",
   "execution_count": null,
   "metadata": {},
   "outputs": [],
   "source": []
  }
 ],
 "metadata": {
  "colab": {
   "collapsed_sections": [],
   "name": "2-differentiable-quantum-computing.ipynb",
   "provenance": []
  },
  "kernelspec": {
   "name": "python3",
   "display_name": "Python 3.8.7 64-bit ('q_env')",
   "metadata": {
    "interpreter": {
     "hash": "a69dfa62caa5d446970d07db3b8617ffbd9d32abe15879532a14e18aa1ccd8e1"
    }
   }
  },
  "language_info": {
   "codemirror_mode": {
    "name": "ipython",
    "version": 3
   },
   "file_extension": ".py",
   "mimetype": "text/x-python",
   "name": "python",
   "nbconvert_exporter": "python",
   "pygments_lexer": "ipython3",
   "version": "3.8.7-final"
  }
 },
 "nbformat": 4,
 "nbformat_minor": 1
}