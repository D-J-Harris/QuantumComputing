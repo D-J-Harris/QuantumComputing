{
 "cells": [
  {
   "cell_type": "markdown",
   "metadata": {},
   "source": [
    "Basic explanation\n",
    "\n",
    "1. put system into a superposition state using hadamard gate\n",
    "2. reflect about (state - desired state) (this is negation of desired amplitude), through application of an oracle\n",
    "3. reflect about (the state before step 2) (this is reflection about average amplitude), through application of diffuser operator\n",
    "4. repeat steps 2 and 3 until high amplitude of desired state"
   ]
  },
  {
   "cell_type": "code",
   "execution_count": 3,
   "metadata": {},
   "outputs": [],
   "source": [
    "from qiskit import ClassicalRegister, QuantumRegister, QuantumCircuit, Aer, execute\n",
    "s_simulator = Aer.get_backend(name='statevector_simulator')\n",
    "m_simulator = Aer.get_backend(name='qasm_simulator')"
   ]
  },
  {
   "cell_type": "code",
   "execution_count": 8,
   "metadata": {},
   "outputs": [],
   "source": [
    "num_qubits = 2\n",
    "q = QuantumRegister(num_qubits, name='q')\n",
    "c = ClassicalRegister(num_qubits, name='c')\n",
    "qc = QuantumCircuit(q, name='qc')"
   ]
  },
  {
   "cell_type": "code",
   "execution_count": 9,
   "metadata": {},
   "outputs": [],
   "source": [
    "# first create the superposition (system has no a-priori knowledge of target state)\n",
    "for qubit in range(num_qubits):\n",
    "    qc.reset(q[qubit])\n",
    "    qc.h(q[qubit])"
   ]
  },
  {
   "cell_type": "code",
   "execution_count": 10,
   "metadata": {},
   "outputs": [
    {
     "data": {
      "text/html": [
       "<pre style=\"word-wrap: normal;white-space: pre;background: #fff0;line-height: 1.1;font-family: &quot;Courier New&quot;,Courier,monospace\">          ┌───┐\n",
       "q_0: ─|0>─┤ H ├\n",
       "          ├───┤\n",
       "q_1: ─|0>─┤ H ├\n",
       "          └───┘</pre>"
      ],
      "text/plain": [
       "          ┌───┐\n",
       "q_0: ─|0>─┤ H ├\n",
       "          ├───┤\n",
       "q_1: ─|0>─┤ H ├\n",
       "          └───┘"
      ]
     },
     "execution_count": 10,
     "metadata": {},
     "output_type": "execute_result"
    }
   ],
   "source": [
    "qc.draw()"
   ]
  },
  {
   "cell_type": "code",
   "execution_count": 11,
   "metadata": {},
   "outputs": [],
   "source": [
    "# define an oracle i.e. unitary operator that flips only the desired state\n",
    "# desired state is |11> \n",
    "oracle11 = QuantumRegister(num_qubits, name='oracle11')\n",
    "oracle11_c = QuantumCircuit(oracle, name='oracle11_c')\n",
    "\n",
    "# leaving this code for after the qiskit course for now"
   ]
  }
 ],
 "metadata": {
  "kernelspec": {
   "display_name": "Python 3",
   "language": "python",
   "name": "python3"
  },
  "language_info": {
   "codemirror_mode": {
    "name": "ipython",
    "version": 3
   },
   "file_extension": ".py",
   "mimetype": "text/x-python",
   "name": "python",
   "nbconvert_exporter": "python",
   "pygments_lexer": "ipython3",
   "version": "3.9.0"
  }
 },
 "nbformat": 4,
 "nbformat_minor": 4
}
